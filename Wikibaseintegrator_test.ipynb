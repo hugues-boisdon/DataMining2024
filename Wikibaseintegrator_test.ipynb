{
 "cells": [
  {
   "cell_type": "markdown",
   "source": [
    "Test Wikibaseintegrator"
   ],
   "metadata": {
    "collapsed": false
   },
   "id": "daa6523657870b1b"
  },
  {
   "cell_type": "markdown",
   "source": [
    "Imports"
   ],
   "metadata": {
    "collapsed": false
   },
   "id": "c9a7736773080a86"
  },
  {
   "cell_type": "code",
   "outputs": [],
   "source": [
    "import glob, os\n",
    "import pandas\n",
    "from wikibaseintegrator import WikibaseIntegrator\n",
    "from wikibaseintegrator.wbi_config import config"
   ],
   "metadata": {
    "collapsed": false,
    "ExecuteTime": {
     "end_time": "2024-03-06T15:39:49.477952200Z",
     "start_time": "2024-03-06T15:39:49.454918Z"
    }
   },
   "id": "95e31ea591b4e4d9",
   "execution_count": 89
  },
  {
   "cell_type": "markdown",
   "source": [
    "Config"
   ],
   "metadata": {
    "collapsed": false
   },
   "id": "7d4acac513281bd1"
  },
  {
   "cell_type": "code",
   "outputs": [],
   "source": [
    "config['USER_AGENT'] = 'test'"
   ],
   "metadata": {
    "collapsed": false,
    "ExecuteTime": {
     "end_time": "2024-03-06T15:39:49.490525900Z",
     "start_time": "2024-03-06T15:39:49.483119Z"
    }
   },
   "id": "283356dfd413e921",
   "execution_count": 90
  },
  {
   "cell_type": "markdown",
   "source": [
    "DataFrame functions"
   ],
   "metadata": {
    "collapsed": false
   },
   "id": "855faf6d3b7e18f"
  },
  {
   "cell_type": "code",
   "outputs": [],
   "source": [
    "def jsonToDataframe(path):\n",
    "    with open(path, \"r\", encoding=\"utf-8\") as f:\n",
    "        dataframe = pandas.read_json(f, orient='index')\n",
    "    return dataframe\n",
    "\n",
    "def dataframeToJson(path, dataframe):\n",
    "    with open(path, \"w\", encoding=\"utf-8\") as f:\n",
    "        f.write(dataframe.to_json(orient='index', indent=2))"
   ],
   "metadata": {
    "collapsed": false,
    "ExecuteTime": {
     "end_time": "2024-03-06T15:39:49.511772900Z",
     "start_time": "2024-03-06T15:39:49.490018400Z"
    }
   },
   "id": "298458df9989ab90",
   "execution_count": 91
  },
  {
   "cell_type": "markdown",
   "source": [
    "Create WikibaseIntegrator object\n"
   ],
   "metadata": {
    "collapsed": false
   },
   "id": "7b1fc872d2969120"
  },
  {
   "cell_type": "code",
   "outputs": [],
   "source": [
    "wbi = WikibaseIntegrator()"
   ],
   "metadata": {
    "collapsed": false,
    "ExecuteTime": {
     "end_time": "2024-03-06T15:39:49.512773400Z",
     "start_time": "2024-03-06T15:39:49.495225300Z"
    }
   },
   "id": "916c0e3c066f1920",
   "execution_count": 92
  },
  {
   "cell_type": "markdown",
   "source": [
    "Get a single item\n"
   ],
   "metadata": {
    "collapsed": false
   },
   "id": "fd1c6239205ecfd6"
  },
  {
   "cell_type": "code",
   "outputs": [],
   "source": [
    "castle = wbi.item.get('Q1049154')"
   ],
   "metadata": {
    "collapsed": false,
    "ExecuteTime": {
     "end_time": "2024-03-06T15:39:50.144843800Z",
     "start_time": "2024-03-06T15:39:49.501258700Z"
    }
   },
   "id": "73f3b24fa9dd17d9",
   "execution_count": 93
  },
  {
   "cell_type": "markdown",
   "source": [
    "Get english label"
   ],
   "metadata": {
    "collapsed": false
   },
   "id": "af23bbaca5374ebf"
  },
  {
   "cell_type": "code",
   "outputs": [
    {
     "data": {
      "text/plain": "'Castle of Carlos V, Hondarribia'"
     },
     "execution_count": 94,
     "metadata": {},
     "output_type": "execute_result"
    }
   ],
   "source": [
    "castle.labels.get('en').value"
   ],
   "metadata": {
    "collapsed": false,
    "ExecuteTime": {
     "end_time": "2024-03-06T15:39:50.153047800Z",
     "start_time": "2024-03-06T15:39:50.149349800Z"
    }
   },
   "id": "e3d8ba1a5e05c95c",
   "execution_count": 94
  },
  {
   "cell_type": "markdown",
   "source": [
    "Get Country label in french"
   ],
   "metadata": {
    "collapsed": false
   },
   "id": "29185fdda80d55b1"
  },
  {
   "cell_type": "code",
   "outputs": [],
   "source": [
    "def GetCountryLabelInFrench(itemID):\n",
    "    item_data=wbi.item.get(itemID) # get the item global data\n",
    "    country_id=item_data.claims.get('P17')[0].mainsnak.datavalue['value']['id'] # get the country id\n",
    "    country=wbi.item.get(country_id) # get the country item\n",
    "    return country.labels.get('fr').value # get the country label in french"
   ],
   "metadata": {
    "collapsed": false,
    "ExecuteTime": {
     "end_time": "2024-03-06T15:39:50.161814700Z",
     "start_time": "2024-03-06T15:39:50.156288600Z"
    }
   },
   "id": "a441945945f390ec",
   "execution_count": 95
  },
  {
   "cell_type": "markdown",
   "source": [
    "Get all items from a dataframe"
   ],
   "metadata": {
    "collapsed": false
   },
   "id": "ad8bf89e97722506"
  },
  {
   "cell_type": "code",
   "outputs": [
    {
     "data": {
      "text/plain": "['Q5583', 'Q11783', 'Q14681', 'Q23180', 'Q25477']"
     },
     "execution_count": 96,
     "metadata": {},
     "output_type": "execute_result"
    }
   ],
   "source": [
    "dataPath = \"data.json\"\n",
    "dataframe = jsonToDataframe(dataPath)\n",
    "items_tuples = []\n",
    "for i in range(len(dataframe.index)): \n",
    "    itemID=dataframe._get_value(i,\"entityID\")\n",
    "    items_tuples.append(itemID)\n",
    "items_tuples"
   ],
   "metadata": {
    "collapsed": false,
    "ExecuteTime": {
     "end_time": "2024-03-06T15:39:50.197135400Z",
     "start_time": "2024-03-06T15:39:50.161814700Z"
    }
   },
   "id": "c2856e043e9a5a95",
   "execution_count": 96
  },
  {
   "cell_type": "markdown",
   "source": [],
   "metadata": {
    "collapsed": false
   },
   "id": "c2cd166aeefb75e2"
  },
  {
   "cell_type": "markdown",
   "source": [
    "Add country information to an item in the dataframe"
   ],
   "metadata": {
    "collapsed": false
   },
   "id": "3fea73e93bc8e42b"
  },
  {
   "cell_type": "code",
   "outputs": [
    {
     "data": {
      "text/plain": "                          label  \\\n0          Canale dei Buranelli   \n1  Monument to Pedro IV (Porto)   \n2         Sunken Ships Monument   \n3          Lu Xun Memorial Hall   \n4               Slovak monument   \n\n                                                link entityID format  \\\n0  http://commons.wikimedia.org/wiki/Special:File...    Q5583    jpg   \n1  http://commons.wikimedia.org/wiki/Special:File...   Q11783    JPG   \n2  http://commons.wikimedia.org/wiki/Special:File...   Q14681    jpg   \n3  http://commons.wikimedia.org/wiki/Special:File...   Q23180    jpg   \n4  http://commons.wikimedia.org/wiki/Special:File...   Q25477    jpg   \n\n                                        path  size         tags   country  \n0          ./images/Canale dei Buranelli.jpg   NaN  [#monument]    Italie  \n1  ./images/Monument to Pedro IV (Porto).JPG   NaN  [#monument]  Portugal  \n2         ./images/Sunken Ships Monument.jpg   NaN  [#monument]   Ukraine  \n3          ./images/Lu Xun Memorial Hall.jpg   NaN  [#monument]     Chine  \n4               ./images/Slovak monument.jpg   NaN  [#monument]   Ukraine  ",
      "text/html": "<div>\n<style scoped>\n    .dataframe tbody tr th:only-of-type {\n        vertical-align: middle;\n    }\n\n    .dataframe tbody tr th {\n        vertical-align: top;\n    }\n\n    .dataframe thead th {\n        text-align: right;\n    }\n</style>\n<table border=\"1\" class=\"dataframe\">\n  <thead>\n    <tr style=\"text-align: right;\">\n      <th></th>\n      <th>label</th>\n      <th>link</th>\n      <th>entityID</th>\n      <th>format</th>\n      <th>path</th>\n      <th>size</th>\n      <th>tags</th>\n      <th>country</th>\n    </tr>\n  </thead>\n  <tbody>\n    <tr>\n      <th>0</th>\n      <td>Canale dei Buranelli</td>\n      <td>http://commons.wikimedia.org/wiki/Special:File...</td>\n      <td>Q5583</td>\n      <td>jpg</td>\n      <td>./images/Canale dei Buranelli.jpg</td>\n      <td>NaN</td>\n      <td>[#monument]</td>\n      <td>Italie</td>\n    </tr>\n    <tr>\n      <th>1</th>\n      <td>Monument to Pedro IV (Porto)</td>\n      <td>http://commons.wikimedia.org/wiki/Special:File...</td>\n      <td>Q11783</td>\n      <td>JPG</td>\n      <td>./images/Monument to Pedro IV (Porto).JPG</td>\n      <td>NaN</td>\n      <td>[#monument]</td>\n      <td>Portugal</td>\n    </tr>\n    <tr>\n      <th>2</th>\n      <td>Sunken Ships Monument</td>\n      <td>http://commons.wikimedia.org/wiki/Special:File...</td>\n      <td>Q14681</td>\n      <td>jpg</td>\n      <td>./images/Sunken Ships Monument.jpg</td>\n      <td>NaN</td>\n      <td>[#monument]</td>\n      <td>Ukraine</td>\n    </tr>\n    <tr>\n      <th>3</th>\n      <td>Lu Xun Memorial Hall</td>\n      <td>http://commons.wikimedia.org/wiki/Special:File...</td>\n      <td>Q23180</td>\n      <td>jpg</td>\n      <td>./images/Lu Xun Memorial Hall.jpg</td>\n      <td>NaN</td>\n      <td>[#monument]</td>\n      <td>Chine</td>\n    </tr>\n    <tr>\n      <th>4</th>\n      <td>Slovak monument</td>\n      <td>http://commons.wikimedia.org/wiki/Special:File...</td>\n      <td>Q25477</td>\n      <td>jpg</td>\n      <td>./images/Slovak monument.jpg</td>\n      <td>NaN</td>\n      <td>[#monument]</td>\n      <td>Ukraine</td>\n    </tr>\n  </tbody>\n</table>\n</div>"
     },
     "execution_count": 97,
     "metadata": {},
     "output_type": "execute_result"
    }
   ],
   "source": [
    "columnNames = [\"country\"]\n",
    "dataframe[columnNames[0]] = None\n",
    "for i in range(len(items_tuples)):\n",
    "    country = GetCountryLabelInFrench(items_tuples[i])\n",
    "    dataframe.at[i, columnNames[0]] = country\n",
    "dataframe"
   ],
   "metadata": {
    "collapsed": false,
    "ExecuteTime": {
     "end_time": "2024-03-06T15:39:56.527551200Z",
     "start_time": "2024-03-06T15:39:50.176107400Z"
    }
   },
   "id": "aadc0e444485269d",
   "execution_count": 97
  },
  {
   "cell_type": "code",
   "outputs": [],
   "source": [],
   "metadata": {
    "collapsed": false,
    "ExecuteTime": {
     "end_time": "2024-03-06T15:39:56.529065500Z",
     "start_time": "2024-03-06T15:39:56.526913300Z"
    }
   },
   "id": "7957f29bb7364165",
   "execution_count": 97
  }
 ],
 "metadata": {
  "kernelspec": {
   "display_name": "Python 3",
   "language": "python",
   "name": "python3"
  },
  "language_info": {
   "codemirror_mode": {
    "name": "ipython",
    "version": 2
   },
   "file_extension": ".py",
   "mimetype": "text/x-python",
   "name": "python",
   "nbconvert_exporter": "python",
   "pygments_lexer": "ipython2",
   "version": "2.7.6"
  }
 },
 "nbformat": 4,
 "nbformat_minor": 5
}
