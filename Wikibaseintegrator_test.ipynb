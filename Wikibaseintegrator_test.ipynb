{
 "cells": [
  {
   "cell_type": "markdown",
   "source": [
    "Test Wikibaseintegrator"
   ],
   "metadata": {
    "collapsed": false
   },
   "id": "daa6523657870b1b"
  },
  {
   "cell_type": "markdown",
   "source": [
    "Imports"
   ],
   "metadata": {
    "collapsed": false
   },
   "id": "c9a7736773080a86"
  },
  {
   "cell_type": "code",
   "outputs": [],
   "source": [
    "from wikibaseintegrator import WikibaseIntegrator\n",
    "from wikibaseintegrator.wbi_config import config"
   ],
   "metadata": {
    "collapsed": false,
    "ExecuteTime": {
     "end_time": "2024-03-06T13:37:32.647907900Z",
     "start_time": "2024-03-06T13:37:32.632858700Z"
    }
   },
   "id": "95e31ea591b4e4d9",
   "execution_count": 22
  },
  {
   "cell_type": "markdown",
   "source": [
    "Config"
   ],
   "metadata": {
    "collapsed": false
   },
   "id": "7d4acac513281bd1"
  },
  {
   "cell_type": "code",
   "outputs": [],
   "source": [
    "config['USER_AGENT'] = 'test'"
   ],
   "metadata": {
    "collapsed": false,
    "ExecuteTime": {
     "end_time": "2024-03-06T13:37:32.695587600Z",
     "start_time": "2024-03-06T13:37:32.651910300Z"
    }
   },
   "id": "283356dfd413e921",
   "execution_count": 23
  },
  {
   "cell_type": "markdown",
   "source": [
    "Create WikibaseIntegrator object\n"
   ],
   "metadata": {
    "collapsed": false
   },
   "id": "7b1fc872d2969120"
  },
  {
   "cell_type": "code",
   "outputs": [],
   "source": [
    "wbi = WikibaseIntegrator()"
   ],
   "metadata": {
    "collapsed": false,
    "ExecuteTime": {
     "end_time": "2024-03-06T13:37:32.695587600Z",
     "start_time": "2024-03-06T13:37:32.671422700Z"
    }
   },
   "id": "916c0e3c066f1920",
   "execution_count": 24
  },
  {
   "cell_type": "markdown",
   "source": [
    "Get a single item\n"
   ],
   "metadata": {
    "collapsed": false
   },
   "id": "fd1c6239205ecfd6"
  },
  {
   "cell_type": "code",
   "outputs": [],
   "source": [
    "castle = wbi.item.get('Q1049154')"
   ],
   "metadata": {
    "collapsed": false,
    "ExecuteTime": {
     "end_time": "2024-03-06T13:37:33.353724Z",
     "start_time": "2024-03-06T13:37:32.676947400Z"
    }
   },
   "id": "73f3b24fa9dd17d9",
   "execution_count": 25
  },
  {
   "cell_type": "markdown",
   "source": [
    "Get english label"
   ],
   "metadata": {
    "collapsed": false
   },
   "id": "af23bbaca5374ebf"
  },
  {
   "cell_type": "code",
   "outputs": [
    {
     "data": {
      "text/plain": "'Castle of Carlos V, Hondarribia'"
     },
     "execution_count": 26,
     "metadata": {},
     "output_type": "execute_result"
    }
   ],
   "source": [
    "castle.labels.get('en').value"
   ],
   "metadata": {
    "collapsed": false,
    "ExecuteTime": {
     "end_time": "2024-03-06T13:37:33.361433400Z",
     "start_time": "2024-03-06T13:37:33.353817200Z"
    }
   },
   "id": "e3d8ba1a5e05c95c",
   "execution_count": 26
  },
  {
   "cell_type": "markdown",
   "source": [
    "Get Country"
   ],
   "metadata": {
    "collapsed": false
   },
   "id": "29185fdda80d55b1"
  },
  {
   "cell_type": "code",
   "outputs": [
    {
     "name": "stdout",
     "output_type": "stream",
     "text": [
      "Q29\n"
     ]
    },
    {
     "data": {
      "text/plain": "'Espagne'"
     },
     "execution_count": 49,
     "metadata": {},
     "output_type": "execute_result"
    }
   ],
   "source": [
    "country_id=castle.claims.get('P17')[0].mainsnak.datavalue['value']['id'] # get the country id\n",
    "country=wbi.item.get(country_id) # get the country item\n",
    "country.labels.get('fr').value # get the country label in french"
   ],
   "metadata": {
    "collapsed": false,
    "ExecuteTime": {
     "end_time": "2024-03-06T13:55:29.010299400Z",
     "start_time": "2024-03-06T13:55:27.830640Z"
    }
   },
   "id": "a441945945f390ec",
   "execution_count": 49
  },
  {
   "cell_type": "code",
   "outputs": [],
   "source": [],
   "metadata": {
    "collapsed": false
   },
   "id": "c4edf544bce1507b"
  }
 ],
 "metadata": {
  "kernelspec": {
   "display_name": "Python 3",
   "language": "python",
   "name": "python3"
  },
  "language_info": {
   "codemirror_mode": {
    "name": "ipython",
    "version": 2
   },
   "file_extension": ".py",
   "mimetype": "text/x-python",
   "name": "python",
   "nbconvert_exporter": "python",
   "pygments_lexer": "ipython2",
   "version": "2.7.6"
  }
 },
 "nbformat": 4,
 "nbformat_minor": 5
}
