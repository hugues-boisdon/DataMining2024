{
 "cells": [
  {
   "cell_type": "markdown",
   "source": [
    "Test Wikibaseintegrator"
   ],
   "metadata": {
    "collapsed": false
   },
   "id": "daa6523657870b1b"
  },
  {
   "cell_type": "markdown",
   "source": [
    "Imports"
   ],
   "metadata": {
    "collapsed": false
   },
   "id": "c9a7736773080a86"
  },
  {
   "cell_type": "code",
   "outputs": [],
   "source": [
    "import pandas\n",
    "from wikibaseintegrator import WikibaseIntegrator\n",
    "from wikibaseintegrator.wbi_config import config"
   ],
   "metadata": {
    "collapsed": false,
    "ExecuteTime": {
     "end_time": "2024-03-23T13:39:39.241432500Z",
     "start_time": "2024-03-23T13:39:39.187899200Z"
    }
   },
   "id": "95e31ea591b4e4d9",
   "execution_count": 64
  },
  {
   "cell_type": "markdown",
   "source": [
    "Config"
   ],
   "metadata": {
    "collapsed": false
   },
   "id": "7d4acac513281bd1"
  },
  {
   "cell_type": "code",
   "outputs": [],
   "source": [
    "config['USER_AGENT'] = 'test'"
   ],
   "metadata": {
    "collapsed": false,
    "ExecuteTime": {
     "end_time": "2024-03-23T13:39:39.260012900Z",
     "start_time": "2024-03-23T13:39:39.245499500Z"
    }
   },
   "id": "283356dfd413e921",
   "execution_count": 65
  },
  {
   "cell_type": "markdown",
   "source": [
    "DataFrame functions"
   ],
   "metadata": {
    "collapsed": false
   },
   "id": "855faf6d3b7e18f"
  },
  {
   "cell_type": "code",
   "outputs": [],
   "source": [
    "def jsonToDataframe(path):\n",
    "    with open(path, \"r\", encoding=\"utf-8\") as f:\n",
    "        dataframe = pandas.read_json(f, orient='index')\n",
    "    return dataframe\n",
    "\n",
    "def dataframeToJson(path, dataframe):\n",
    "    with open(path, \"w\", encoding=\"utf-8\") as f:\n",
    "        f.write(dataframe.to_json(orient='index', indent=2))"
   ],
   "metadata": {
    "collapsed": false,
    "ExecuteTime": {
     "end_time": "2024-03-23T13:39:39.280039200Z",
     "start_time": "2024-03-23T13:39:39.264527700Z"
    }
   },
   "id": "298458df9989ab90",
   "execution_count": 66
  },
  {
   "cell_type": "markdown",
   "source": [
    "Create WikibaseIntegrator object\n"
   ],
   "metadata": {
    "collapsed": false
   },
   "id": "7b1fc872d2969120"
  },
  {
   "cell_type": "code",
   "outputs": [],
   "source": [
    "wbi = WikibaseIntegrator()"
   ],
   "metadata": {
    "collapsed": false,
    "ExecuteTime": {
     "end_time": "2024-03-23T13:39:39.301709200Z",
     "start_time": "2024-03-23T13:39:39.283196500Z"
    }
   },
   "id": "916c0e3c066f1920",
   "execution_count": 67
  },
  {
   "cell_type": "markdown",
   "source": [
    "Get a single item\n"
   ],
   "metadata": {
    "collapsed": false
   },
   "id": "fd1c6239205ecfd6"
  },
  {
   "cell_type": "code",
   "outputs": [],
   "source": [
    "castle = wbi.item.get('Q1049154')"
   ],
   "metadata": {
    "collapsed": false,
    "ExecuteTime": {
     "end_time": "2024-03-23T13:39:40.137089900Z",
     "start_time": "2024-03-23T13:39:39.304710Z"
    }
   },
   "id": "73f3b24fa9dd17d9",
   "execution_count": 68
  },
  {
   "cell_type": "markdown",
   "source": [
    "Get english label"
   ],
   "metadata": {
    "collapsed": false
   },
   "id": "af23bbaca5374ebf"
  },
  {
   "cell_type": "code",
   "outputs": [
    {
     "data": {
      "text/plain": "'Castle of Carlos V, Hondarribia'"
     },
     "execution_count": 69,
     "metadata": {},
     "output_type": "execute_result"
    }
   ],
   "source": [
    "castle.labels.get('en').value"
   ],
   "metadata": {
    "collapsed": false,
    "ExecuteTime": {
     "end_time": "2024-03-23T13:39:40.200299Z",
     "start_time": "2024-03-23T13:39:40.156641900Z"
    }
   },
   "id": "e3d8ba1a5e05c95c",
   "execution_count": 69
  },
  {
   "cell_type": "markdown",
   "source": [
    "Get Country label in french"
   ],
   "metadata": {
    "collapsed": false
   },
   "id": "29185fdda80d55b1"
  },
  {
   "cell_type": "code",
   "outputs": [],
   "source": [
    "def GetCountryLabelInFrench(itemID):\n",
    "    item_data=wbi.item.get(itemID) # get the item global data\n",
    "    country_id=item_data.claims.get('P17')[0].mainsnak.datavalue['value']['id'] # get the country id of the item\n",
    "    country=wbi.item.get(country_id) # get the country global data\n",
    "    return country.labels.get('fr').value # get the country label in french"
   ],
   "metadata": {
    "collapsed": false,
    "ExecuteTime": {
     "end_time": "2024-03-23T13:39:40.200299Z",
     "start_time": "2024-03-23T13:39:40.180221200Z"
    }
   },
   "id": "a441945945f390ec",
   "execution_count": 70
  },
  {
   "cell_type": "markdown",
   "source": [
    "Get all items from a dataframe"
   ],
   "metadata": {
    "collapsed": false
   },
   "id": "ad8bf89e97722506"
  },
  {
   "cell_type": "code",
   "outputs": [
    {
     "data": {
      "text/plain": "['Q1024829', 'Q10300408', 'Q1024943']"
     },
     "execution_count": 71,
     "metadata": {},
     "output_type": "execute_result"
    }
   ],
   "source": [
    "dataPath = \"data.json\"\n",
    "dataframe = jsonToDataframe(dataPath)\n",
    "items_tuples = []\n",
    "for i in range(len(dataframe.index)): \n",
    "    itemID=dataframe._get_value(i,\"entityID\")\n",
    "    items_tuples.append(itemID)\n",
    "items_tuples"
   ],
   "metadata": {
    "collapsed": false,
    "ExecuteTime": {
     "end_time": "2024-03-23T13:39:40.231948300Z",
     "start_time": "2024-03-23T13:39:40.193302Z"
    }
   },
   "id": "c2856e043e9a5a95",
   "execution_count": 71
  },
  {
   "cell_type": "markdown",
   "source": [
    "Add country information to the tags column"
   ],
   "metadata": {
    "collapsed": false
   },
   "id": "3fea73e93bc8e42b"
  },
  {
   "cell_type": "code",
   "outputs": [
    {
     "data": {
      "text/plain": "                                               label  \\\n0                               Buenos Aires Cabildo   \n1  Group of Houses of the Santa Casa de Misericórdia   \n2                           Iglesia de la Concepción   \n\n                                                link   entityID format  \\\n0  http://commons.wikimedia.org/wiki/Special:File...   Q1024829    jpg   \n1  http://commons.wikimedia.org/wiki/Special:File...  Q10300408    jpg   \n2  http://commons.wikimedia.org/wiki/Special:File...   Q1024943    jpg   \n\n                                                path  size  \\\n0                  ./images/Buenos Aires Cabildo.jpg   NaN   \n1  ./images/Group of Houses of the Santa Casa de ...   NaN   \n2              ./images/Iglesia de la Concepción.jpg   NaN   \n\n                                     tags  date                         style  \n0  [#monument, #16ème siècle, #Argentine]  1725                     [Q840829]  \n1     [#monument, #16ème siècle, #Brésil]  1612  [Q131808, Q840829, Q1114972]  \n2    [#monument, #16ème siècle, #Espagne]  1511                      [Q37853]  ",
      "text/html": "<div>\n<style scoped>\n    .dataframe tbody tr th:only-of-type {\n        vertical-align: middle;\n    }\n\n    .dataframe tbody tr th {\n        vertical-align: top;\n    }\n\n    .dataframe thead th {\n        text-align: right;\n    }\n</style>\n<table border=\"1\" class=\"dataframe\">\n  <thead>\n    <tr style=\"text-align: right;\">\n      <th></th>\n      <th>label</th>\n      <th>link</th>\n      <th>entityID</th>\n      <th>format</th>\n      <th>path</th>\n      <th>size</th>\n      <th>tags</th>\n      <th>date</th>\n      <th>style</th>\n    </tr>\n  </thead>\n  <tbody>\n    <tr>\n      <th>0</th>\n      <td>Buenos Aires Cabildo</td>\n      <td>http://commons.wikimedia.org/wiki/Special:File...</td>\n      <td>Q1024829</td>\n      <td>jpg</td>\n      <td>./images/Buenos Aires Cabildo.jpg</td>\n      <td>NaN</td>\n      <td>[#monument, #16ème siècle, #Argentine]</td>\n      <td>1725</td>\n      <td>[Q840829]</td>\n    </tr>\n    <tr>\n      <th>1</th>\n      <td>Group of Houses of the Santa Casa de Misericórdia</td>\n      <td>http://commons.wikimedia.org/wiki/Special:File...</td>\n      <td>Q10300408</td>\n      <td>jpg</td>\n      <td>./images/Group of Houses of the Santa Casa de ...</td>\n      <td>NaN</td>\n      <td>[#monument, #16ème siècle, #Brésil]</td>\n      <td>1612</td>\n      <td>[Q131808, Q840829, Q1114972]</td>\n    </tr>\n    <tr>\n      <th>2</th>\n      <td>Iglesia de la Concepción</td>\n      <td>http://commons.wikimedia.org/wiki/Special:File...</td>\n      <td>Q1024943</td>\n      <td>jpg</td>\n      <td>./images/Iglesia de la Concepción.jpg</td>\n      <td>NaN</td>\n      <td>[#monument, #16ème siècle, #Espagne]</td>\n      <td>1511</td>\n      <td>[Q37853]</td>\n    </tr>\n  </tbody>\n</table>\n</div>"
     },
     "execution_count": 72,
     "metadata": {},
     "output_type": "execute_result"
    }
   ],
   "source": [
    "for i in range(len(items_tuples)):\n",
    "    country = GetCountryLabelInFrench(items_tuples[i])\n",
    "    dataframe.at[i, \"tags\"].append(\"#\"+country)\n",
    "dataframe"
   ],
   "metadata": {
    "collapsed": false,
    "ExecuteTime": {
     "end_time": "2024-03-23T13:39:43.583890500Z",
     "start_time": "2024-03-23T13:39:40.212943100Z"
    }
   },
   "id": "aadc0e444485269d",
   "execution_count": 72
  },
  {
   "cell_type": "markdown",
   "source": [
    "## Ajout du style architectural"
   ],
   "metadata": {
    "collapsed": false
   },
   "id": "b1b06e48a7f5c56c"
  },
  {
   "cell_type": "code",
   "outputs": [],
   "source": [
    "def GetArchitecturalStyle(styleID):\n",
    "    styleL=[]\n",
    "    for i in range(len(styleID)):\n",
    "        style = wbi.item.get(styleID[i])\n",
    "        if style.labels.get('fr') is None:\n",
    "            style_name = style.labels.get('en').value\n",
    "        else:\n",
    "            style_name = style.labels.get('fr').value\n",
    "        styleL.append(\"#\"+style_name)\n",
    "    return styleL # get the style label in french"
   ],
   "metadata": {
    "collapsed": false,
    "ExecuteTime": {
     "end_time": "2024-03-23T13:39:43.592892800Z",
     "start_time": "2024-03-23T13:39:43.583890500Z"
    }
   },
   "id": "cbdca26b25f166c9",
   "execution_count": 73
  },
  {
   "cell_type": "code",
   "outputs": [
    {
     "name": "stdout",
     "output_type": "stream",
     "text": [
      "['#Church of San Sebastián, Villacastín']\n"
     ]
    }
   ],
   "source": [
    "ID=[\"Q5911355\"]\n",
    "print(GetArchitecturalStyle(ID))"
   ],
   "metadata": {
    "collapsed": false,
    "ExecuteTime": {
     "end_time": "2024-03-23T13:39:43.845227600Z",
     "start_time": "2024-03-23T13:39:43.587890500Z"
    }
   },
   "id": "b59116bf85ca6b1c",
   "execution_count": 74
  },
  {
   "cell_type": "code",
   "outputs": [
    {
     "data": {
      "text/plain": "['Q131808', 'Q840829', 'Q1114972']"
     },
     "execution_count": 75,
     "metadata": {},
     "output_type": "execute_result"
    }
   ],
   "source": [
    "dataframe._get_value(1,\"style\")"
   ],
   "metadata": {
    "collapsed": false,
    "ExecuteTime": {
     "end_time": "2024-03-23T13:39:43.858222900Z",
     "start_time": "2024-03-23T13:39:43.845227600Z"
    }
   },
   "id": "7c7281c41796e89d",
   "execution_count": 75
  },
  {
   "cell_type": "code",
   "outputs": [
    {
     "data": {
      "text/plain": "                                               label  \\\n0                               Buenos Aires Cabildo   \n1  Group of Houses of the Santa Casa de Misericórdia   \n2                           Iglesia de la Concepción   \n\n                                                link   entityID format  \\\n0  http://commons.wikimedia.org/wiki/Special:File...   Q1024829    jpg   \n1  http://commons.wikimedia.org/wiki/Special:File...  Q10300408    jpg   \n2  http://commons.wikimedia.org/wiki/Special:File...   Q1024943    jpg   \n\n                                                path  size  \\\n0                  ./images/Buenos Aires Cabildo.jpg   NaN   \n1  ./images/Group of Houses of the Santa Casa de ...   NaN   \n2              ./images/Iglesia de la Concepción.jpg   NaN   \n\n                                                tags  date  \\\n0  [#monument, #16ème siècle, #Argentine, #archit...  1725   \n1  [#monument, #16ème siècle, #Brésil, #maniérism...  1612   \n2     [#monument, #16ème siècle, #Espagne, #baroque]  1511   \n\n                          style  \n0                     [Q840829]  \n1  [Q131808, Q840829, Q1114972]  \n2                      [Q37853]  ",
      "text/html": "<div>\n<style scoped>\n    .dataframe tbody tr th:only-of-type {\n        vertical-align: middle;\n    }\n\n    .dataframe tbody tr th {\n        vertical-align: top;\n    }\n\n    .dataframe thead th {\n        text-align: right;\n    }\n</style>\n<table border=\"1\" class=\"dataframe\">\n  <thead>\n    <tr style=\"text-align: right;\">\n      <th></th>\n      <th>label</th>\n      <th>link</th>\n      <th>entityID</th>\n      <th>format</th>\n      <th>path</th>\n      <th>size</th>\n      <th>tags</th>\n      <th>date</th>\n      <th>style</th>\n    </tr>\n  </thead>\n  <tbody>\n    <tr>\n      <th>0</th>\n      <td>Buenos Aires Cabildo</td>\n      <td>http://commons.wikimedia.org/wiki/Special:File...</td>\n      <td>Q1024829</td>\n      <td>jpg</td>\n      <td>./images/Buenos Aires Cabildo.jpg</td>\n      <td>NaN</td>\n      <td>[#monument, #16ème siècle, #Argentine, #archit...</td>\n      <td>1725</td>\n      <td>[Q840829]</td>\n    </tr>\n    <tr>\n      <th>1</th>\n      <td>Group of Houses of the Santa Casa de Misericórdia</td>\n      <td>http://commons.wikimedia.org/wiki/Special:File...</td>\n      <td>Q10300408</td>\n      <td>jpg</td>\n      <td>./images/Group of Houses of the Santa Casa de ...</td>\n      <td>NaN</td>\n      <td>[#monument, #16ème siècle, #Brésil, #maniérism...</td>\n      <td>1612</td>\n      <td>[Q131808, Q840829, Q1114972]</td>\n    </tr>\n    <tr>\n      <th>2</th>\n      <td>Iglesia de la Concepción</td>\n      <td>http://commons.wikimedia.org/wiki/Special:File...</td>\n      <td>Q1024943</td>\n      <td>jpg</td>\n      <td>./images/Iglesia de la Concepción.jpg</td>\n      <td>NaN</td>\n      <td>[#monument, #16ème siècle, #Espagne, #baroque]</td>\n      <td>1511</td>\n      <td>[Q37853]</td>\n    </tr>\n  </tbody>\n</table>\n</div>"
     },
     "execution_count": 76,
     "metadata": {},
     "output_type": "execute_result"
    }
   ],
   "source": [
    "for k in range(len(dataframe.index)):\n",
    "    style = GetArchitecturalStyle(dataframe._get_value(k,\"style\"))\n",
    "    for i in range(len(style)):\n",
    "        dataframe.at[k, \"tags\"].append(style[i])\n",
    "dataframe"
   ],
   "metadata": {
    "collapsed": false,
    "ExecuteTime": {
     "end_time": "2024-03-23T13:39:45.408901600Z",
     "start_time": "2024-03-23T13:39:43.852220900Z"
    }
   },
   "id": "3614d7daa44cea85",
   "execution_count": 76
  },
  {
   "cell_type": "code",
   "outputs": [],
   "source": [
    "#dataframeToJson(dataPath, dataframe)"
   ],
   "metadata": {
    "collapsed": false,
    "ExecuteTime": {
     "end_time": "2024-03-23T13:39:45.408901600Z",
     "start_time": "2024-03-23T13:39:45.400889100Z"
    }
   },
   "id": "e97dadbe86b4d051",
   "execution_count": 77
  }
 ],
 "metadata": {
  "kernelspec": {
   "display_name": "Python 3",
   "language": "python",
   "name": "python3"
  },
  "language_info": {
   "codemirror_mode": {
    "name": "ipython",
    "version": 2
   },
   "file_extension": ".py",
   "mimetype": "text/x-python",
   "name": "python",
   "nbconvert_exporter": "python",
   "pygments_lexer": "ipython2",
   "version": "2.7.6"
  }
 },
 "nbformat": 4,
 "nbformat_minor": 5
}
