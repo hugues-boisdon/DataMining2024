{
 "cells": [
  {
   "cell_type": "markdown",
   "source": [
    "Test Wikibaseintegrator"
   ],
   "metadata": {
    "collapsed": false
   },
   "id": "daa6523657870b1b"
  },
  {
   "cell_type": "markdown",
   "source": [
    "Imports"
   ],
   "metadata": {
    "collapsed": false
   },
   "id": "c9a7736773080a86"
  },
  {
   "cell_type": "code",
   "outputs": [],
   "source": [
    "import glob, os\n",
    "import pandas\n",
    "from wikibaseintegrator import WikibaseIntegrator\n",
    "from wikibaseintegrator.wbi_config import config"
   ],
   "metadata": {
    "collapsed": false,
    "ExecuteTime": {
     "end_time": "2024-03-18T08:17:11.390367800Z",
     "start_time": "2024-03-18T08:17:10.276693400Z"
    }
   },
   "id": "95e31ea591b4e4d9",
   "execution_count": 4
  },
  {
   "cell_type": "markdown",
   "source": [
    "Config"
   ],
   "metadata": {
    "collapsed": false
   },
   "id": "7d4acac513281bd1"
  },
  {
   "cell_type": "code",
   "outputs": [],
   "source": [
    "config['USER_AGENT'] = 'test'"
   ],
   "metadata": {
    "collapsed": false,
    "ExecuteTime": {
     "end_time": "2024-03-18T08:17:12.930497800Z",
     "start_time": "2024-03-18T08:17:12.923491Z"
    }
   },
   "id": "283356dfd413e921",
   "execution_count": 5
  },
  {
   "cell_type": "markdown",
   "source": [
    "DataFrame functions"
   ],
   "metadata": {
    "collapsed": false
   },
   "id": "855faf6d3b7e18f"
  },
  {
   "cell_type": "code",
   "outputs": [],
   "source": [
    "def jsonToDataframe(path):\n",
    "    with open(path, \"r\", encoding=\"utf-8\") as f:\n",
    "        dataframe = pandas.read_json(f, orient='index')\n",
    "    return dataframe\n",
    "\n",
    "def dataframeToJson(path, dataframe):\n",
    "    with open(path, \"w\", encoding=\"utf-8\") as f:\n",
    "        f.write(dataframe.to_json(orient='index', indent=2))"
   ],
   "metadata": {
    "collapsed": false,
    "ExecuteTime": {
     "end_time": "2024-03-18T08:17:19.336157Z",
     "start_time": "2024-03-18T08:17:19.329644Z"
    }
   },
   "id": "298458df9989ab90",
   "execution_count": 6
  },
  {
   "cell_type": "markdown",
   "source": [
    "Create WikibaseIntegrator object\n"
   ],
   "metadata": {
    "collapsed": false
   },
   "id": "7b1fc872d2969120"
  },
  {
   "cell_type": "code",
   "outputs": [],
   "source": [
    "wbi = WikibaseIntegrator()"
   ],
   "metadata": {
    "collapsed": false,
    "ExecuteTime": {
     "end_time": "2024-03-18T08:17:20.463023400Z",
     "start_time": "2024-03-18T08:17:20.451840400Z"
    }
   },
   "id": "916c0e3c066f1920",
   "execution_count": 7
  },
  {
   "cell_type": "markdown",
   "source": [
    "Get a single item\n"
   ],
   "metadata": {
    "collapsed": false
   },
   "id": "fd1c6239205ecfd6"
  },
  {
   "cell_type": "code",
   "outputs": [],
   "source": [
    "castle = wbi.item.get('Q1049154')"
   ],
   "metadata": {
    "collapsed": false,
    "ExecuteTime": {
     "end_time": "2024-03-18T08:17:22.436183700Z",
     "start_time": "2024-03-18T08:17:21.774234600Z"
    }
   },
   "id": "73f3b24fa9dd17d9",
   "execution_count": 8
  },
  {
   "cell_type": "markdown",
   "source": [
    "Get english label"
   ],
   "metadata": {
    "collapsed": false
   },
   "id": "af23bbaca5374ebf"
  },
  {
   "cell_type": "code",
   "outputs": [
    {
     "data": {
      "text/plain": "'Castle of Carlos V, Hondarribia'"
     },
     "execution_count": 9,
     "metadata": {},
     "output_type": "execute_result"
    }
   ],
   "source": [
    "castle.labels.get('en').value"
   ],
   "metadata": {
    "collapsed": false,
    "ExecuteTime": {
     "end_time": "2024-03-18T08:17:23.598685700Z",
     "start_time": "2024-03-18T08:17:23.590630Z"
    }
   },
   "id": "e3d8ba1a5e05c95c",
   "execution_count": 9
  },
  {
   "cell_type": "markdown",
   "source": [
    "Get Country label in french"
   ],
   "metadata": {
    "collapsed": false
   },
   "id": "29185fdda80d55b1"
  },
  {
   "cell_type": "code",
   "outputs": [],
   "source": [
    "def GetCountryLabelInFrench(itemID):\n",
    "    item_data=wbi.item.get(itemID) # get the item global data\n",
    "    country_id=item_data.claims.get('P17')[0].mainsnak.datavalue['value']['id'] # get the country id\n",
    "    country=wbi.item.get(country_id) # get the country item\n",
    "    return country.labels.get('en').value # get the country label in french"
   ],
   "metadata": {
    "collapsed": false,
    "ExecuteTime": {
     "end_time": "2024-03-18T08:17:25.042104600Z",
     "start_time": "2024-03-18T08:17:25.032092500Z"
    }
   },
   "id": "a441945945f390ec",
   "execution_count": 10
  },
  {
   "cell_type": "markdown",
   "source": [
    "Get all items from a dataframe"
   ],
   "metadata": {
    "collapsed": false
   },
   "id": "ad8bf89e97722506"
  },
  {
   "cell_type": "code",
   "outputs": [
    {
     "data": {
      "text/plain": "['Q473851', 'Q507390', 'Q518072', 'Q523311', 'Q526170']"
     },
     "execution_count": 11,
     "metadata": {},
     "output_type": "execute_result"
    }
   ],
   "source": [
    "dataPath = \"data.json\"\n",
    "dataframe = jsonToDataframe(dataPath)\n",
    "items_tuples = []\n",
    "for i in range(len(dataframe.index)): \n",
    "    itemID=dataframe._get_value(i,\"entityID\")\n",
    "    items_tuples.append(itemID)\n",
    "items_tuples"
   ],
   "metadata": {
    "collapsed": false,
    "ExecuteTime": {
     "end_time": "2024-03-18T08:17:26.162628200Z",
     "start_time": "2024-03-18T08:17:26.138175600Z"
    }
   },
   "id": "c2856e043e9a5a95",
   "execution_count": 11
  },
  {
   "cell_type": "markdown",
   "source": [],
   "metadata": {
    "collapsed": false
   },
   "id": "c2cd166aeefb75e2"
  },
  {
   "cell_type": "markdown",
   "source": [
    "Add country information to an item in the dataframe"
   ],
   "metadata": {
    "collapsed": false
   },
   "id": "3fea73e93bc8e42b"
  },
  {
   "cell_type": "code",
   "outputs": [
    {
     "data": {
      "text/plain": "                               label  \\\n0    National Monument on Dam Square   \n1       Palacio Episcopal de Astorga   \n2  Monastery of San Adrián de Sasabe   \n3     Plaza de toros de la Malagueta   \n4   Biblioteca Museu Víctor Balaguer   \n\n                                                link entityID format  \\\n0  http://commons.wikimedia.org/wiki/Special:File...  Q473851    jpg   \n1  http://commons.wikimedia.org/wiki/Special:File...  Q507390    JPG   \n2  http://commons.wikimedia.org/wiki/Special:File...  Q518072    jpg   \n3  http://commons.wikimedia.org/wiki/Special:File...  Q523311    jpg   \n4  http://commons.wikimedia.org/wiki/Special:File...  Q526170    jpg   \n\n                                             path  size         tags  date  \\\n0    ./images/National Monument on Dam Square.jpg   NaN  [#monument]  1956   \n1       ./images/Palacio Episcopal de Astorga.JPG   NaN  [#monument]  1889   \n2  ./images/Monastery of San Adrián de Sasabe.jpg   NaN  [#monument]   801   \n3     ./images/Plaza de toros de la Malagueta.jpg   NaN  [#monument]  1876   \n4   ./images/Biblioteca Museu Víctor Balaguer.jpg   NaN  [#monument]  1884   \n\n       country  \n0  Netherlands  \n1        Spain  \n2        Spain  \n3        Spain  \n4        Spain  ",
      "text/html": "<div>\n<style scoped>\n    .dataframe tbody tr th:only-of-type {\n        vertical-align: middle;\n    }\n\n    .dataframe tbody tr th {\n        vertical-align: top;\n    }\n\n    .dataframe thead th {\n        text-align: right;\n    }\n</style>\n<table border=\"1\" class=\"dataframe\">\n  <thead>\n    <tr style=\"text-align: right;\">\n      <th></th>\n      <th>label</th>\n      <th>link</th>\n      <th>entityID</th>\n      <th>format</th>\n      <th>path</th>\n      <th>size</th>\n      <th>tags</th>\n      <th>date</th>\n      <th>country</th>\n    </tr>\n  </thead>\n  <tbody>\n    <tr>\n      <th>0</th>\n      <td>National Monument on Dam Square</td>\n      <td>http://commons.wikimedia.org/wiki/Special:File...</td>\n      <td>Q473851</td>\n      <td>jpg</td>\n      <td>./images/National Monument on Dam Square.jpg</td>\n      <td>NaN</td>\n      <td>[#monument]</td>\n      <td>1956</td>\n      <td>Netherlands</td>\n    </tr>\n    <tr>\n      <th>1</th>\n      <td>Palacio Episcopal de Astorga</td>\n      <td>http://commons.wikimedia.org/wiki/Special:File...</td>\n      <td>Q507390</td>\n      <td>JPG</td>\n      <td>./images/Palacio Episcopal de Astorga.JPG</td>\n      <td>NaN</td>\n      <td>[#monument]</td>\n      <td>1889</td>\n      <td>Spain</td>\n    </tr>\n    <tr>\n      <th>2</th>\n      <td>Monastery of San Adrián de Sasabe</td>\n      <td>http://commons.wikimedia.org/wiki/Special:File...</td>\n      <td>Q518072</td>\n      <td>jpg</td>\n      <td>./images/Monastery of San Adrián de Sasabe.jpg</td>\n      <td>NaN</td>\n      <td>[#monument]</td>\n      <td>801</td>\n      <td>Spain</td>\n    </tr>\n    <tr>\n      <th>3</th>\n      <td>Plaza de toros de la Malagueta</td>\n      <td>http://commons.wikimedia.org/wiki/Special:File...</td>\n      <td>Q523311</td>\n      <td>jpg</td>\n      <td>./images/Plaza de toros de la Malagueta.jpg</td>\n      <td>NaN</td>\n      <td>[#monument]</td>\n      <td>1876</td>\n      <td>Spain</td>\n    </tr>\n    <tr>\n      <th>4</th>\n      <td>Biblioteca Museu Víctor Balaguer</td>\n      <td>http://commons.wikimedia.org/wiki/Special:File...</td>\n      <td>Q526170</td>\n      <td>jpg</td>\n      <td>./images/Biblioteca Museu Víctor Balaguer.jpg</td>\n      <td>NaN</td>\n      <td>[#monument]</td>\n      <td>1884</td>\n      <td>Spain</td>\n    </tr>\n  </tbody>\n</table>\n</div>"
     },
     "execution_count": 12,
     "metadata": {},
     "output_type": "execute_result"
    }
   ],
   "source": [
    "columnNames = [\"country\"]\n",
    "dataframe[columnNames[0]] = None\n",
    "for i in range(len(items_tuples)):\n",
    "    country = GetCountryLabelInFrench(items_tuples[i])\n",
    "    dataframe.at[i, columnNames[0]] = country\n",
    "dataframe"
   ],
   "metadata": {
    "collapsed": false,
    "ExecuteTime": {
     "end_time": "2024-03-18T08:17:38.556871800Z",
     "start_time": "2024-03-18T08:17:31.797554600Z"
    }
   },
   "id": "aadc0e444485269d",
   "execution_count": 12
  },
  {
   "cell_type": "code",
   "outputs": [],
   "source": [],
   "metadata": {
    "collapsed": false,
    "ExecuteTime": {
     "end_time": "2024-03-06T16:15:31.344627100Z",
     "start_time": "2024-03-06T16:15:31.341091200Z"
    }
   },
   "id": "7957f29bb7364165",
   "execution_count": 106
  }
 ],
 "metadata": {
  "kernelspec": {
   "display_name": "Python 3",
   "language": "python",
   "name": "python3"
  },
  "language_info": {
   "codemirror_mode": {
    "name": "ipython",
    "version": 2
   },
   "file_extension": ".py",
   "mimetype": "text/x-python",
   "name": "python",
   "nbconvert_exporter": "python",
   "pygments_lexer": "ipython2",
   "version": "2.7.6"
  }
 },
 "nbformat": 4,
 "nbformat_minor": 5
}
