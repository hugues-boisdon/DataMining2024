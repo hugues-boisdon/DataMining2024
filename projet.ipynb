{
 "cells": [
  {
   "cell_type": "markdown",
   "metadata": {},
   "source": [
    "# Projet"
   ]
  },
  {
   "cell_type": "markdown",
   "metadata": {},
   "source": [
    "### Imports"
   ]
  },
  {
   "cell_type": "code",
   "execution_count": 4,
   "metadata": {},
   "outputs": [],
   "source": [
    "# Imports\n",
    "import glob, os\n",
    "import pandas\n",
    "import urllib\n",
    "from SPARQLWrapper import SPARQLWrapper\n",
    "import PIL.Image"
   ]
  },
  {
   "cell_type": "markdown",
   "metadata": {},
   "source": [
    "## 1. Collecte de données"
   ]
  },
  {
   "cell_type": "markdown",
   "metadata": {},
   "source": [
    "### Récupération du résultat d'une query Wikidata"
   ]
  },
  {
   "cell_type": "code",
   "execution_count": 5,
   "metadata": {},
   "outputs": [
    {
     "data": {
      "text/html": [
       "<div>\n",
       "<style scoped>\n",
       "    .dataframe tbody tr th:only-of-type {\n",
       "        vertical-align: middle;\n",
       "    }\n",
       "\n",
       "    .dataframe tbody tr th {\n",
       "        vertical-align: top;\n",
       "    }\n",
       "\n",
       "    .dataframe thead th {\n",
       "        text-align: right;\n",
       "    }\n",
       "</style>\n",
       "<table border=\"1\" class=\"dataframe\">\n",
       "  <thead>\n",
       "    <tr style=\"text-align: right;\">\n",
       "      <th></th>\n",
       "      <th>label</th>\n",
       "      <th>link</th>\n",
       "      <th>wikiDataRef</th>\n",
       "      <th>format</th>\n",
       "      <th>path</th>\n",
       "      <th>size</th>\n",
       "    </tr>\n",
       "  </thead>\n",
       "  <tbody>\n",
       "    <tr>\n",
       "      <th>0</th>\n",
       "      <td>senior cats</td>\n",
       "      <td>http://commons.wikimedia.org/wiki/Special:File...</td>\n",
       "      <td>http://www.wikidata.org/entity/Q123185365</td>\n",
       "      <td>jpg</td>\n",
       "      <td>./images/senior cats.jpg</td>\n",
       "      <td>None</td>\n",
       "    </tr>\n",
       "    <tr>\n",
       "      <th>1</th>\n",
       "      <td>Myka</td>\n",
       "      <td>http://commons.wikimedia.org/wiki/Special:File...</td>\n",
       "      <td>http://www.wikidata.org/entity/Q28665865</td>\n",
       "      <td>jpg</td>\n",
       "      <td>./images/Myka.jpg</td>\n",
       "      <td>None</td>\n",
       "    </tr>\n",
       "    <tr>\n",
       "      <th>2</th>\n",
       "      <td>Gli</td>\n",
       "      <td>http://commons.wikimedia.org/wiki/Special:File...</td>\n",
       "      <td>http://www.wikidata.org/entity/Q28792126</td>\n",
       "      <td>jpg</td>\n",
       "      <td>./images/Gli.jpg</td>\n",
       "      <td>None</td>\n",
       "    </tr>\n",
       "    <tr>\n",
       "      <th>3</th>\n",
       "      <td>Toffee</td>\n",
       "      <td>http://commons.wikimedia.org/wiki/Special:File...</td>\n",
       "      <td>http://www.wikidata.org/entity/Q49581026</td>\n",
       "      <td>jpg</td>\n",
       "      <td>./images/Toffee.jpg</td>\n",
       "      <td>None</td>\n",
       "    </tr>\n",
       "    <tr>\n",
       "      <th>4</th>\n",
       "      <td>Crimean Tom</td>\n",
       "      <td>http://commons.wikimedia.org/wiki/Special:File...</td>\n",
       "      <td>http://www.wikidata.org/entity/Q51596094</td>\n",
       "      <td>jpg</td>\n",
       "      <td>./images/Crimean Tom.jpg</td>\n",
       "      <td>None</td>\n",
       "    </tr>\n",
       "  </tbody>\n",
       "</table>\n",
       "</div>"
      ],
      "text/plain": [
       "         label                                               link  \\\n",
       "0  senior cats  http://commons.wikimedia.org/wiki/Special:File...   \n",
       "1         Myka  http://commons.wikimedia.org/wiki/Special:File...   \n",
       "2          Gli  http://commons.wikimedia.org/wiki/Special:File...   \n",
       "3       Toffee  http://commons.wikimedia.org/wiki/Special:File...   \n",
       "4  Crimean Tom  http://commons.wikimedia.org/wiki/Special:File...   \n",
       "\n",
       "                                 wikiDataRef format                      path  \\\n",
       "0  http://www.wikidata.org/entity/Q123185365    jpg  ./images/senior cats.jpg   \n",
       "1   http://www.wikidata.org/entity/Q28665865    jpg         ./images/Myka.jpg   \n",
       "2   http://www.wikidata.org/entity/Q28792126    jpg          ./images/Gli.jpg   \n",
       "3   http://www.wikidata.org/entity/Q49581026    jpg       ./images/Toffee.jpg   \n",
       "4   http://www.wikidata.org/entity/Q51596094    jpg  ./images/Crimean Tom.jpg   \n",
       "\n",
       "   size  \n",
       "0  None  \n",
       "1  None  \n",
       "2  None  \n",
       "3  None  \n",
       "4  None  "
      ]
     },
     "execution_count": 5,
     "metadata": {},
     "output_type": "execute_result"
    }
   ],
   "source": [
    "size = 5\n",
    "dataFileName = \"data\"\n",
    "imagesPath = \"./images/\"\n",
    "\n",
    "# Query de Wikidata\n",
    "sparql = SPARQLWrapper(\"https://query.wikidata.org/sparql\")\n",
    "query = \"\"\"\n",
    "SELECT ?item ?itemLabel ?pic WHERE {\n",
    "  ?item wdt:P31 wd:Q146;\n",
    "    wdt:P18 ?pic.\n",
    "  SERVICE wikibase:label { bd:serviceParam wikibase:language \"[AUTO_LANGUAGE],en\". }\n",
    "}\n",
    "LIMIT \"\"\"\n",
    "# On précise le nombre d'entrées que l'on veut\n",
    "query = query + str(size)\n",
    "\n",
    "# On récupère le résultat de la query\n",
    "sparql.setQuery(query)\n",
    "sparql.setReturnFormat(\"json\")\n",
    "results = sparql.query().convert()\n",
    "\n",
    "# On normalise les résultat pour pandas\n",
    "array = []\n",
    "for data in results[\"results\"][\"bindings\"]:\n",
    "    name = data[\"itemLabel\"][\"value\"]\n",
    "    format = data[\"pic\"][\"value\"].split(\".\")[-1]\n",
    "    path = f\"{imagesPath}{name}.{format}\"\n",
    "\n",
    "    array.append([name,  \n",
    "                  data[\"pic\"][\"value\"], \n",
    "                  data[\"item\"][\"value\"],\n",
    "                  format,\n",
    "                  path,\n",
    "                  None])\n",
    "                  \n",
    "\n",
    "dataframe = pandas.DataFrame(array, columns=[\"label\", \"link\", \"wikiDataRef\", \"format\", \"path\", \"size\"])\n",
    "\n",
    "# On enregistre les données au format JSON\n",
    "with open(dataFileName+'.json', \"w\", encoding=\"utf-8\") as f:\n",
    "    f.write(dataframe.to_json(orient='index', indent=4))\n",
    "\n",
    "# Nettoyage du dossier /images\n",
    "if not os.path.isdir('./images'):\n",
    "  os.mkdir('./images')\n",
    "\n",
    "# Nettoyage du dossier /images\n",
    "else:\n",
    "  files = glob.glob('./images/*')\n",
    "  for f in files:\n",
    "      os.remove(f)\n",
    "\n",
    "\n",
    "\n",
    "dataframe\n"
   ]
  },
  {
   "cell_type": "markdown",
   "metadata": {},
   "source": [
    "### Téléchargement des Images"
   ]
  },
  {
   "cell_type": "code",
   "execution_count": 6,
   "metadata": {},
   "outputs": [],
   "source": [
    "for i in range(len(dataframe.index)):\n",
    "    # On télécharge l'image\n",
    "    link = dataframe._get_value(i,\"link\")\n",
    "    path = dataframe._get_value(i,\"path\")\n",
    "    response = urllib.request.urlretrieve(link, path)"
   ]
  },
  {
   "cell_type": "markdown",
   "metadata": {},
   "source": [
    "### Récupération des Données EXIFS"
   ]
  },
  {
   "cell_type": "code",
   "execution_count": 7,
   "metadata": {},
   "outputs": [
    {
     "ename": "NameError",
     "evalue": "name 'saveDataFrame' is not defined",
     "output_type": "error",
     "traceback": [
      "\u001b[1;31m---------------------------------------------------------------------------\u001b[0m",
      "\u001b[1;31mNameError\u001b[0m                                 Traceback (most recent call last)",
      "Cell \u001b[1;32mIn[7], line 20\u001b[0m\n\u001b[0;32m     17\u001b[0m           \u001b[38;5;28;01mif\u001b[39;00m tag \u001b[38;5;129;01min\u001b[39;00m wantedExifs:\n\u001b[0;32m     18\u001b[0m               dataframe\u001b[38;5;241m.\u001b[39mat[i, columnNames[wantedExifs\u001b[38;5;241m.\u001b[39mindex(tag)]] \u001b[38;5;241m=\u001b[39m exif_data[tag]\n\u001b[1;32m---> 20\u001b[0m \u001b[43msaveDataFrame\u001b[49m()         \n\u001b[0;32m     21\u001b[0m dataframe \n",
      "\u001b[1;31mNameError\u001b[0m: name 'saveDataFrame' is not defined"
     ]
    }
   ],
   "source": [
    "wantedExifs = [274, 315, 306]\n",
    "columnNames = [\"orientation\", \"artist\", \"date\"]\n",
    "\n",
    "for i,tag in enumerate(wantedExifs):\n",
    "    dataframe[columnNames[i]] = None\n",
    "\n",
    "# On parcours les entrées\n",
    "for i in range(len(dataframe.index)):\n",
    "    path = dataframe._get_value(i,\"path\")\n",
    "    img = PIL.Image.open(path)\n",
    "    exif_data = img._getexif()\n",
    "    img.close()\n",
    "\n",
    "    dataframe.at[i, \"size\"] = img.size\n",
    "    if exif_data:\n",
    "      for tag in exif_data:\n",
    "          if tag in wantedExifs:\n",
    "              dataframe.at[i, columnNames[wantedExifs.index(tag)]] = exif_data[tag]\n",
    "\n",
    "# On enregistre les données au format JSON\n",
    "with open(dataFileName+'.json', \"w\", encoding=\"utf-8\") as f:\n",
    "    f.write(dataframe.to_json(orient='index', indent=4))\n",
    "        \n",
    "dataframe "
   ]
  }
 ],
 "metadata": {
  "kernelspec": {
   "display_name": "Python 3",
   "language": "python",
   "name": "python3"
  },
  "language_info": {
   "codemirror_mode": {
    "name": "ipython",
    "version": 3
   },
   "file_extension": ".py",
   "mimetype": "text/x-python",
   "name": "python",
   "nbconvert_exporter": "python",
   "pygments_lexer": "ipython3",
   "version": "3.11.4"
  }
 },
 "nbformat": 4,
 "nbformat_minor": 2
}
