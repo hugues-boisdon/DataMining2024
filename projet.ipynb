{
 "cells": [
  {
   "cell_type": "markdown",
   "metadata": {},
   "source": [
    "# Projet"
   ]
  },
  {
   "cell_type": "markdown",
   "metadata": {},
   "source": [
    "### Imports"
   ]
  },
  {
   "cell_type": "code",
   "execution_count": 5,
   "metadata": {
    "ExecuteTime": {
     "end_time": "2024-03-18T07:52:16.386244500Z",
     "start_time": "2024-03-18T07:52:16.382725400Z"
    }
   },
   "outputs": [],
   "source": [
    "# Imports\n",
    "import glob, os\n",
    "import pandas\n",
    "import urllib\n",
    "from SPARQLWrapper import SPARQLWrapper\n",
    "import PIL.Image\n",
    "from datetime import datetime"
   ]
  },
  {
   "cell_type": "markdown",
   "metadata": {},
   "source": [
    "## 1. Collecte de données"
   ]
  },
  {
   "cell_type": "markdown",
   "metadata": {},
   "source": [
    "### Dataframe Functions"
   ]
  },
  {
   "cell_type": "code",
   "execution_count": 2,
   "metadata": {
    "ExecuteTime": {
     "end_time": "2024-03-18T07:40:14.646780400Z",
     "start_time": "2024-03-18T07:40:14.642263900Z"
    }
   },
   "outputs": [],
   "source": [
    "def jsonToDataframe(path):   \n",
    "    with open(path, \"r\", encoding=\"utf-8\") as f:\n",
    "        dataframe = pandas.read_json(f, orient='index')\n",
    "    return dataframe\n",
    "\n",
    "def dataframeToJson(path, dataframe):   \n",
    "    with open(path, \"w\", encoding=\"utf-8\") as f:\n",
    "        f.write(dataframe.to_json(orient='index', indent=2))"
   ]
  },
  {
   "cell_type": "markdown",
   "metadata": {},
   "source": [
    "### Récupération du résultat d'une query Wikidata"
   ]
  },
  {
   "cell_type": "code",
   "execution_count": 23,
   "metadata": {
    "ExecuteTime": {
     "end_time": "2024-03-18T08:15:56.220431600Z",
     "start_time": "2024-03-18T08:15:55.163021Z"
    }
   },
   "outputs": [
    {
     "data": {
      "text/plain": "                               label  \\\n0    National Monument on Dam Square   \n1       Palacio Episcopal de Astorga   \n2  Monastery of San Adrián de Sasabe   \n3     Plaza de toros de la Malagueta   \n4   Biblioteca Museu Víctor Balaguer   \n\n                                                link entityID format  \\\n0  http://commons.wikimedia.org/wiki/Special:File...  Q473851    jpg   \n1  http://commons.wikimedia.org/wiki/Special:File...  Q507390    JPG   \n2  http://commons.wikimedia.org/wiki/Special:File...  Q518072    jpg   \n3  http://commons.wikimedia.org/wiki/Special:File...  Q523311    jpg   \n4  http://commons.wikimedia.org/wiki/Special:File...  Q526170    jpg   \n\n                                             path  size         tags  date  \n0    ./images/National Monument on Dam Square.jpg  None  [#monument]  1956  \n1       ./images/Palacio Episcopal de Astorga.JPG  None  [#monument]  1889  \n2  ./images/Monastery of San Adrián de Sasabe.jpg  None  [#monument]   801  \n3     ./images/Plaza de toros de la Malagueta.jpg  None  [#monument]  1876  \n4   ./images/Biblioteca Museu Víctor Balaguer.jpg  None  [#monument]  1884  ",
      "text/html": "<div>\n<style scoped>\n    .dataframe tbody tr th:only-of-type {\n        vertical-align: middle;\n    }\n\n    .dataframe tbody tr th {\n        vertical-align: top;\n    }\n\n    .dataframe thead th {\n        text-align: right;\n    }\n</style>\n<table border=\"1\" class=\"dataframe\">\n  <thead>\n    <tr style=\"text-align: right;\">\n      <th></th>\n      <th>label</th>\n      <th>link</th>\n      <th>entityID</th>\n      <th>format</th>\n      <th>path</th>\n      <th>size</th>\n      <th>tags</th>\n      <th>date</th>\n    </tr>\n  </thead>\n  <tbody>\n    <tr>\n      <th>0</th>\n      <td>National Monument on Dam Square</td>\n      <td>http://commons.wikimedia.org/wiki/Special:File...</td>\n      <td>Q473851</td>\n      <td>jpg</td>\n      <td>./images/National Monument on Dam Square.jpg</td>\n      <td>None</td>\n      <td>[#monument]</td>\n      <td>1956</td>\n    </tr>\n    <tr>\n      <th>1</th>\n      <td>Palacio Episcopal de Astorga</td>\n      <td>http://commons.wikimedia.org/wiki/Special:File...</td>\n      <td>Q507390</td>\n      <td>JPG</td>\n      <td>./images/Palacio Episcopal de Astorga.JPG</td>\n      <td>None</td>\n      <td>[#monument]</td>\n      <td>1889</td>\n    </tr>\n    <tr>\n      <th>2</th>\n      <td>Monastery of San Adrián de Sasabe</td>\n      <td>http://commons.wikimedia.org/wiki/Special:File...</td>\n      <td>Q518072</td>\n      <td>jpg</td>\n      <td>./images/Monastery of San Adrián de Sasabe.jpg</td>\n      <td>None</td>\n      <td>[#monument]</td>\n      <td>801</td>\n    </tr>\n    <tr>\n      <th>3</th>\n      <td>Plaza de toros de la Malagueta</td>\n      <td>http://commons.wikimedia.org/wiki/Special:File...</td>\n      <td>Q523311</td>\n      <td>jpg</td>\n      <td>./images/Plaza de toros de la Malagueta.jpg</td>\n      <td>None</td>\n      <td>[#monument]</td>\n      <td>1876</td>\n    </tr>\n    <tr>\n      <th>4</th>\n      <td>Biblioteca Museu Víctor Balaguer</td>\n      <td>http://commons.wikimedia.org/wiki/Special:File...</td>\n      <td>Q526170</td>\n      <td>jpg</td>\n      <td>./images/Biblioteca Museu Víctor Balaguer.jpg</td>\n      <td>None</td>\n      <td>[#monument]</td>\n      <td>1884</td>\n    </tr>\n  </tbody>\n</table>\n</div>"
     },
     "execution_count": 23,
     "metadata": {},
     "output_type": "execute_result"
    }
   ],
   "source": [
    "size = 5\n",
    "dataPath = \"data.json\"\n",
    "imagesPath = \"./images/\"\n",
    "\n",
    "# Query de Wikidata\n",
    "sparql = SPARQLWrapper(\"https://query.wikidata.org/sparql\")\n",
    "query = \"\"\"\n",
    "SELECT ?item ?itemLabel ?pic (YEAR(?date) as ?year) WHERE {\n",
    "  ?item wdt:P31 wd:Q4989906;\n",
    "    wdt:P18 ?pic;\n",
    "    wdt:P571 ?date.\n",
    "  SERVICE wikibase:label { bd:serviceParam wikibase:language \"[AUTO_LANGUAGE],en\". }\n",
    "}\n",
    "LIMIT \"\"\"\n",
    "# On précise le nombre d'entrées que l'on veut\n",
    "query = query + str(size)\n",
    "\n",
    "# On récupère le résultat de la query\n",
    "sparql.setQuery(query)\n",
    "sparql.setReturnFormat(\"json\")\n",
    "results = sparql.query().convert()\n",
    "\n",
    "# On normalise les résultat pour pandas\n",
    "array = []\n",
    "for data in results[\"results\"][\"bindings\"]:\n",
    "    name = data[\"itemLabel\"][\"value\"]\n",
    "    format = data[\"pic\"][\"value\"].split(\".\")[-1]\n",
    "    path = f\"{imagesPath}{name}.{format}\"\n",
    "    date = data[\"year\"][\"value\"]\n",
    "\n",
    "    array.append([name,  \n",
    "                  data[\"pic\"][\"value\"], \n",
    "                  data[\"item\"][\"value\"].split(sep='/')[-1],\n",
    "                  format,\n",
    "                  path,\n",
    "                  None,\n",
    "                  ['#monument'],\n",
    "                  date])\n",
    "                  \n",
    "\n",
    "dataframe = pandas.DataFrame(array, columns=[\"label\", \"link\", \"entityID\", \"format\", \"path\", \"size\", \"tags\",\"date\"])\n",
    "\n",
    "# On enregistre les données au format JSON\n",
    "dataframeToJson(dataPath, dataframe)\n",
    "\n",
    "# Nettoyage du dossier /images\n",
    "if not os.path.isdir('./images'):\n",
    "  os.mkdir('./images')\n",
    "\n",
    "# Nettoyage du dossier /images\n",
    "else:\n",
    "  files = glob.glob('./images/*')\n",
    "  for f in files:\n",
    "      os.remove(f)\n",
    "\n",
    "\n",
    "\n",
    "dataframe\n"
   ]
  },
  {
   "cell_type": "markdown",
   "metadata": {},
   "source": [
    "### Téléchargement des Images"
   ]
  },
  {
   "cell_type": "code",
   "execution_count": 20,
   "metadata": {
    "ExecuteTime": {
     "end_time": "2024-03-18T08:09:43.482880500Z",
     "start_time": "2024-03-18T08:09:36.078490500Z"
    }
   },
   "outputs": [],
   "source": [
    "dataframe = jsonToDataframe(dataPath)\n",
    "for i in range(len(dataframe.index)):\n",
    "    # On télécharge l'image\n",
    "    link = dataframe._get_value(i,\"link\")\n",
    "    path = dataframe._get_value(i,\"path\")\n",
    "    response = urllib.request.urlretrieve(link, path)"
   ]
  },
  {
   "cell_type": "markdown",
   "metadata": {},
   "source": [
    "### Récupération des Données EXIFS"
   ]
  },
  {
   "cell_type": "code",
   "execution_count": 18,
   "metadata": {
    "ExecuteTime": {
     "end_time": "2024-03-06T16:12:14.947834600Z",
     "start_time": "2024-03-06T16:12:14.790953100Z"
    }
   },
   "outputs": [
    {
     "ename": "ValueError",
     "evalue": "Must have equal len keys and value when setting with an iterable",
     "output_type": "error",
     "traceback": [
      "\u001B[1;31m---------------------------------------------------------------------------\u001B[0m",
      "\u001B[1;31mTypeError\u001B[0m                                 Traceback (most recent call last)",
      "\u001B[1;31mTypeError\u001B[0m: float() argument must be a string or a real number, not 'tuple'",
      "\nThe above exception was the direct cause of the following exception:\n",
      "\u001B[1;31mValueError\u001B[0m                                Traceback (most recent call last)",
      "File \u001B[1;32m~\\Documents\\Dev\\Anaconda\\Lib\\site-packages\\pandas\\core\\frame.py:4551\u001B[0m, in \u001B[0;36mDataFrame._set_value\u001B[1;34m(self, index, col, value, takeable)\u001B[0m\n\u001B[0;32m   4550\u001B[0m     iindex \u001B[38;5;241m=\u001B[39m \u001B[38;5;28mself\u001B[39m\u001B[38;5;241m.\u001B[39mindex\u001B[38;5;241m.\u001B[39mget_loc(index)\n\u001B[1;32m-> 4551\u001B[0m \u001B[38;5;28mself\u001B[39m\u001B[38;5;241m.\u001B[39m_mgr\u001B[38;5;241m.\u001B[39mcolumn_setitem(icol, iindex, value, inplace_only\u001B[38;5;241m=\u001B[39m\u001B[38;5;28;01mTrue\u001B[39;00m)\n\u001B[0;32m   4552\u001B[0m \u001B[38;5;28mself\u001B[39m\u001B[38;5;241m.\u001B[39m_clear_item_cache()\n",
      "File \u001B[1;32m~\\Documents\\Dev\\Anaconda\\Lib\\site-packages\\pandas\\core\\internals\\managers.py:1336\u001B[0m, in \u001B[0;36mBlockManager.column_setitem\u001B[1;34m(self, loc, idx, value, inplace_only)\u001B[0m\n\u001B[0;32m   1335\u001B[0m \u001B[38;5;28;01mif\u001B[39;00m inplace_only:\n\u001B[1;32m-> 1336\u001B[0m     col_mgr\u001B[38;5;241m.\u001B[39msetitem_inplace(idx, value)\n\u001B[0;32m   1337\u001B[0m \u001B[38;5;28;01melse\u001B[39;00m:\n",
      "File \u001B[1;32m~\\Documents\\Dev\\Anaconda\\Lib\\site-packages\\pandas\\core\\internals\\managers.py:2043\u001B[0m, in \u001B[0;36mSingleBlockManager.setitem_inplace\u001B[1;34m(self, indexer, value, warn)\u001B[0m\n\u001B[0;32m   2037\u001B[0m         warnings\u001B[38;5;241m.\u001B[39mwarn(\n\u001B[0;32m   2038\u001B[0m             COW_WARNING_SETITEM_MSG,\n\u001B[0;32m   2039\u001B[0m             \u001B[38;5;167;01mFutureWarning\u001B[39;00m,\n\u001B[0;32m   2040\u001B[0m             stacklevel\u001B[38;5;241m=\u001B[39mfind_stack_level(),\n\u001B[0;32m   2041\u001B[0m         )\n\u001B[1;32m-> 2043\u001B[0m \u001B[38;5;28msuper\u001B[39m()\u001B[38;5;241m.\u001B[39msetitem_inplace(indexer, value)\n",
      "File \u001B[1;32m~\\Documents\\Dev\\Anaconda\\Lib\\site-packages\\pandas\\core\\internals\\base.py:363\u001B[0m, in \u001B[0;36mSingleDataManager.setitem_inplace\u001B[1;34m(self, indexer, value, warn)\u001B[0m\n\u001B[0;32m    361\u001B[0m     value \u001B[38;5;241m=\u001B[39m value[\u001B[38;5;241m0\u001B[39m, \u001B[38;5;241m.\u001B[39m\u001B[38;5;241m.\u001B[39m\u001B[38;5;241m.\u001B[39m]\n\u001B[1;32m--> 363\u001B[0m arr[indexer] \u001B[38;5;241m=\u001B[39m value\n",
      "\u001B[1;31mValueError\u001B[0m: setting an array element with a sequence.",
      "\nDuring handling of the above exception, another exception occurred:\n",
      "\u001B[1;31mValueError\u001B[0m                                Traceback (most recent call last)",
      "Cell \u001B[1;32mIn[18], line 16\u001B[0m\n\u001B[0;32m     13\u001B[0m exif_data \u001B[38;5;241m=\u001B[39m img\u001B[38;5;241m.\u001B[39m_getexif()\n\u001B[0;32m     14\u001B[0m img\u001B[38;5;241m.\u001B[39mclose()\n\u001B[1;32m---> 16\u001B[0m dataframe\u001B[38;5;241m.\u001B[39mat[i, \u001B[38;5;124m\"\u001B[39m\u001B[38;5;124msize\u001B[39m\u001B[38;5;124m\"\u001B[39m] \u001B[38;5;241m=\u001B[39m img\u001B[38;5;241m.\u001B[39msize\n\u001B[0;32m     17\u001B[0m \u001B[38;5;28;01mif\u001B[39;00m exif_data:\n\u001B[0;32m     18\u001B[0m   \u001B[38;5;28;01mfor\u001B[39;00m tag \u001B[38;5;129;01min\u001B[39;00m exif_data:\n",
      "File \u001B[1;32m~\\Documents\\Dev\\Anaconda\\Lib\\site-packages\\pandas\\core\\indexing.py:2579\u001B[0m, in \u001B[0;36m_AtIndexer.__setitem__\u001B[1;34m(self, key, value)\u001B[0m\n\u001B[0;32m   2576\u001B[0m     \u001B[38;5;28mself\u001B[39m\u001B[38;5;241m.\u001B[39mobj\u001B[38;5;241m.\u001B[39mloc[key] \u001B[38;5;241m=\u001B[39m value\n\u001B[0;32m   2577\u001B[0m     \u001B[38;5;28;01mreturn\u001B[39;00m\n\u001B[1;32m-> 2579\u001B[0m \u001B[38;5;28;01mreturn\u001B[39;00m \u001B[38;5;28msuper\u001B[39m()\u001B[38;5;241m.\u001B[39m\u001B[38;5;21m__setitem__\u001B[39m(key, value)\n",
      "File \u001B[1;32m~\\Documents\\Dev\\Anaconda\\Lib\\site-packages\\pandas\\core\\indexing.py:2535\u001B[0m, in \u001B[0;36m_ScalarAccessIndexer.__setitem__\u001B[1;34m(self, key, value)\u001B[0m\n\u001B[0;32m   2532\u001B[0m \u001B[38;5;28;01mif\u001B[39;00m \u001B[38;5;28mlen\u001B[39m(key) \u001B[38;5;241m!=\u001B[39m \u001B[38;5;28mself\u001B[39m\u001B[38;5;241m.\u001B[39mndim:\n\u001B[0;32m   2533\u001B[0m     \u001B[38;5;28;01mraise\u001B[39;00m \u001B[38;5;167;01mValueError\u001B[39;00m(\u001B[38;5;124m\"\u001B[39m\u001B[38;5;124mNot enough indexers for scalar access (setting)!\u001B[39m\u001B[38;5;124m\"\u001B[39m)\n\u001B[1;32m-> 2535\u001B[0m \u001B[38;5;28mself\u001B[39m\u001B[38;5;241m.\u001B[39mobj\u001B[38;5;241m.\u001B[39m_set_value(\u001B[38;5;241m*\u001B[39mkey, value\u001B[38;5;241m=\u001B[39mvalue, takeable\u001B[38;5;241m=\u001B[39m\u001B[38;5;28mself\u001B[39m\u001B[38;5;241m.\u001B[39m_takeable)\n",
      "File \u001B[1;32m~\\Documents\\Dev\\Anaconda\\Lib\\site-packages\\pandas\\core\\frame.py:4563\u001B[0m, in \u001B[0;36mDataFrame._set_value\u001B[1;34m(self, index, col, value, takeable)\u001B[0m\n\u001B[0;32m   4561\u001B[0m         \u001B[38;5;28mself\u001B[39m\u001B[38;5;241m.\u001B[39miloc[index, col] \u001B[38;5;241m=\u001B[39m value\n\u001B[0;32m   4562\u001B[0m     \u001B[38;5;28;01melse\u001B[39;00m:\n\u001B[1;32m-> 4563\u001B[0m         \u001B[38;5;28mself\u001B[39m\u001B[38;5;241m.\u001B[39mloc[index, col] \u001B[38;5;241m=\u001B[39m value\n\u001B[0;32m   4564\u001B[0m     \u001B[38;5;28mself\u001B[39m\u001B[38;5;241m.\u001B[39m_item_cache\u001B[38;5;241m.\u001B[39mpop(col, \u001B[38;5;28;01mNone\u001B[39;00m)\n\u001B[0;32m   4566\u001B[0m \u001B[38;5;28;01mexcept\u001B[39;00m InvalidIndexError \u001B[38;5;28;01mas\u001B[39;00m ii_err:\n\u001B[0;32m   4567\u001B[0m     \u001B[38;5;66;03m# GH48729: Seems like you are trying to assign a value to a\u001B[39;00m\n\u001B[0;32m   4568\u001B[0m     \u001B[38;5;66;03m# row when only scalar options are permitted\u001B[39;00m\n",
      "File \u001B[1;32m~\\Documents\\Dev\\Anaconda\\Lib\\site-packages\\pandas\\core\\indexing.py:912\u001B[0m, in \u001B[0;36m_LocationIndexer.__setitem__\u001B[1;34m(self, key, value)\u001B[0m\n\u001B[0;32m    909\u001B[0m \u001B[38;5;28mself\u001B[39m\u001B[38;5;241m.\u001B[39m_has_valid_setitem_indexer(key)\n\u001B[0;32m    911\u001B[0m iloc \u001B[38;5;241m=\u001B[39m \u001B[38;5;28mself\u001B[39m \u001B[38;5;28;01mif\u001B[39;00m \u001B[38;5;28mself\u001B[39m\u001B[38;5;241m.\u001B[39mname \u001B[38;5;241m==\u001B[39m \u001B[38;5;124m\"\u001B[39m\u001B[38;5;124miloc\u001B[39m\u001B[38;5;124m\"\u001B[39m \u001B[38;5;28;01melse\u001B[39;00m \u001B[38;5;28mself\u001B[39m\u001B[38;5;241m.\u001B[39mobj\u001B[38;5;241m.\u001B[39miloc\n\u001B[1;32m--> 912\u001B[0m iloc\u001B[38;5;241m.\u001B[39m_setitem_with_indexer(indexer, value, \u001B[38;5;28mself\u001B[39m\u001B[38;5;241m.\u001B[39mname)\n",
      "File \u001B[1;32m~\\Documents\\Dev\\Anaconda\\Lib\\site-packages\\pandas\\core\\indexing.py:1946\u001B[0m, in \u001B[0;36m_iLocIndexer._setitem_with_indexer\u001B[1;34m(self, indexer, value, name)\u001B[0m\n\u001B[0;32m   1943\u001B[0m \u001B[38;5;66;03m# align and set the values\u001B[39;00m\n\u001B[0;32m   1944\u001B[0m \u001B[38;5;28;01mif\u001B[39;00m take_split_path:\n\u001B[0;32m   1945\u001B[0m     \u001B[38;5;66;03m# We have to operate column-wise\u001B[39;00m\n\u001B[1;32m-> 1946\u001B[0m     \u001B[38;5;28mself\u001B[39m\u001B[38;5;241m.\u001B[39m_setitem_with_indexer_split_path(indexer, value, name)\n\u001B[0;32m   1947\u001B[0m \u001B[38;5;28;01melse\u001B[39;00m:\n\u001B[0;32m   1948\u001B[0m     \u001B[38;5;28mself\u001B[39m\u001B[38;5;241m.\u001B[39m_setitem_single_block(indexer, value, name)\n",
      "File \u001B[1;32m~\\Documents\\Dev\\Anaconda\\Lib\\site-packages\\pandas\\core\\indexing.py:2002\u001B[0m, in \u001B[0;36m_iLocIndexer._setitem_with_indexer_split_path\u001B[1;34m(self, indexer, value, name)\u001B[0m\n\u001B[0;32m   1997\u001B[0m     \u001B[38;5;28;01mif\u001B[39;00m \u001B[38;5;28mlen\u001B[39m(value) \u001B[38;5;241m==\u001B[39m \u001B[38;5;241m1\u001B[39m \u001B[38;5;129;01mand\u001B[39;00m \u001B[38;5;129;01mnot\u001B[39;00m is_integer(info_axis):\n\u001B[0;32m   1998\u001B[0m         \u001B[38;5;66;03m# This is a case like df.iloc[:3, [1]] = [0]\u001B[39;00m\n\u001B[0;32m   1999\u001B[0m         \u001B[38;5;66;03m#  where we treat as df.iloc[:3, 1] = 0\u001B[39;00m\n\u001B[0;32m   2000\u001B[0m         \u001B[38;5;28;01mreturn\u001B[39;00m \u001B[38;5;28mself\u001B[39m\u001B[38;5;241m.\u001B[39m_setitem_with_indexer((pi, info_axis[\u001B[38;5;241m0\u001B[39m]), value[\u001B[38;5;241m0\u001B[39m])\n\u001B[1;32m-> 2002\u001B[0m     \u001B[38;5;28;01mraise\u001B[39;00m \u001B[38;5;167;01mValueError\u001B[39;00m(\n\u001B[0;32m   2003\u001B[0m         \u001B[38;5;124m\"\u001B[39m\u001B[38;5;124mMust have equal len keys and value \u001B[39m\u001B[38;5;124m\"\u001B[39m\n\u001B[0;32m   2004\u001B[0m         \u001B[38;5;124m\"\u001B[39m\u001B[38;5;124mwhen setting with an iterable\u001B[39m\u001B[38;5;124m\"\u001B[39m\n\u001B[0;32m   2005\u001B[0m     )\n\u001B[0;32m   2007\u001B[0m \u001B[38;5;28;01melif\u001B[39;00m lplane_indexer \u001B[38;5;241m==\u001B[39m \u001B[38;5;241m0\u001B[39m \u001B[38;5;129;01mand\u001B[39;00m \u001B[38;5;28mlen\u001B[39m(value) \u001B[38;5;241m==\u001B[39m \u001B[38;5;28mlen\u001B[39m(\u001B[38;5;28mself\u001B[39m\u001B[38;5;241m.\u001B[39mobj\u001B[38;5;241m.\u001B[39mindex):\n\u001B[0;32m   2008\u001B[0m     \u001B[38;5;66;03m# We get here in one case via .loc with a all-False mask\u001B[39;00m\n\u001B[0;32m   2009\u001B[0m     \u001B[38;5;28;01mpass\u001B[39;00m\n",
      "\u001B[1;31mValueError\u001B[0m: Must have equal len keys and value when setting with an iterable"
     ]
    }
   ],
   "source": [
    "dataframe = jsonToDataframe(dataPath)\n",
    "\n",
    "wantedExifs = [274, 315, 306, 272]\n",
    "columnNames = [\"orientation\", \"artist\", \"date\", 'appareil']\n",
    "\n",
    "for i,tag in enumerate(wantedExifs):\n",
    "    dataframe[columnNames[i]] = None\n",
    "\n",
    "# On parcours les entrées\n",
    "for i in range(len(dataframe.index)):\n",
    "    path = dataframe._get_value(i,\"path\")\n",
    "    img = PIL.Image.open(path)\n",
    "    exif_data = img._getexif()\n",
    "    img.close()\n",
    "\n",
    "    dataframe.at[i, \"size\"] = img.size\n",
    "    if exif_data:\n",
    "      for tag in exif_data:\n",
    "          if tag in wantedExifs:\n",
    "              dataframe.at[i, columnNames[wantedExifs.index(tag)]] = exif_data[tag]\n",
    "\n",
    "# On enregistre les données au format JSON\n",
    "dataframeToJson(dataPath, dataframe)\n",
    "        \n",
    "dataframe \n"
   ]
  },
  {
   "cell_type": "markdown",
   "metadata": {},
   "source": [
    "## Analyse des Données"
   ]
  },
  {
   "cell_type": "code",
   "execution_count": null,
   "metadata": {
    "ExecuteTime": {
     "start_time": "2024-03-06T16:12:14.946833700Z"
    }
   },
   "outputs": [],
   "source": [
    "# Création de la dataframe des utilisateurs\n",
    "usersPath = 'users.json'\n",
    "\n",
    "array = [['default',[]]]\n",
    "usersDataframe = pandas.DataFrame(array, columns=['username', 'likedImages'])\n",
    "\n",
    "dataframeToJson(usersPath, usersDataframe)\n",
    "\n",
    "usersDataframe"
   ]
  }
 ],
 "metadata": {
  "kernelspec": {
   "display_name": "Python 3",
   "language": "python",
   "name": "python3"
  },
  "language_info": {
   "codemirror_mode": {
    "name": "ipython",
    "version": 3
   },
   "file_extension": ".py",
   "mimetype": "text/x-python",
   "name": "python",
   "nbconvert_exporter": "python",
   "pygments_lexer": "ipython3",
   "version": "3.11.4"
  }
 },
 "nbformat": 4,
 "nbformat_minor": 2
}
