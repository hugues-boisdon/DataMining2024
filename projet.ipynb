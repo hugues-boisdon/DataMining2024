{
 "cells": [
  {
   "cell_type": "markdown",
   "metadata": {},
   "source": [
    "# Projet"
   ]
  },
  {
   "cell_type": "markdown",
   "metadata": {},
   "source": [
    "### Imports"
   ]
  },
  {
   "cell_type": "code",
   "execution_count": 1,
   "metadata": {
    "ExecuteTime": {
     "end_time": "2024-03-25T07:11:59.769899800Z",
     "start_time": "2024-03-25T07:11:53.856721300Z"
    }
   },
   "outputs": [],
   "source": [
    "# Imports\n",
    "import glob, os\n",
    "import pandas\n",
    "import urllib\n",
    "from SPARQLWrapper import SPARQLWrapper\n",
    "import PIL.Image\n",
    "from skimage import io\n",
    "import ipywidgets\n",
    "import matplotlib.pyplot as plt\n",
    "import numpy\n",
    "from sklearn.cluster import KMeans\n",
    "from random import randint"
   ]
  },
  {
   "cell_type": "markdown",
   "source": [
    "### WikiBaseIntegrator Imports"
   ],
   "metadata": {
    "collapsed": false
   }
  },
  {
   "cell_type": "code",
   "outputs": [],
   "source": [
    "from wikibaseintegrator import WikibaseIntegrator\n",
    "from wikibaseintegrator.wbi_config import config\n",
    "\n",
    "config['USER_AGENT'] = 'test'"
   ],
   "metadata": {
    "collapsed": false,
    "ExecuteTime": {
     "end_time": "2024-03-25T07:12:00.088039300Z",
     "start_time": "2024-03-25T07:11:59.771897900Z"
    }
   },
   "execution_count": 2
  },
  {
   "cell_type": "markdown",
   "metadata": {},
   "source": [
    "## 1. Collecte de données"
   ]
  },
  {
   "cell_type": "markdown",
   "metadata": {},
   "source": [
    "### Dataframe Functions"
   ]
  },
  {
   "cell_type": "code",
   "execution_count": 3,
   "metadata": {
    "ExecuteTime": {
     "end_time": "2024-03-25T07:12:00.100211400Z",
     "start_time": "2024-03-25T07:12:00.092691400Z"
    }
   },
   "outputs": [],
   "source": [
    "def getData():   \n",
    "    path = \"data.json\"\n",
    "    with open(path, \"r\", encoding=\"utf-8\") as f:\n",
    "        dataframe = pandas.read_json(f, orient='index')\n",
    "    return dataframe\n",
    "\n",
    "def saveData(dataframe):   \n",
    "    path = \"data.json\"\n",
    "    with open(path, \"w\", encoding=\"utf-8\") as f:\n",
    "        f.write(dataframe.to_json(orient='index', indent=2))\n",
    "\n",
    "def getUsers():   \n",
    "    path = \"users.json\"\n",
    "    with open(path, \"r\", encoding=\"utf-8\") as f:\n",
    "        dataframe = pandas.read_json(f, orient='index')\n",
    "    return dataframe\n",
    "\n",
    "def saveUsers(dataframe):   \n",
    "    path = \"users.json\"\n",
    "    with open(path, \"w\", encoding=\"utf-8\") as f:\n",
    "        f.write(dataframe.to_json(orient='index', indent=2))"
   ]
  },
  {
   "cell_type": "markdown",
   "source": [
    "### WikiBaseIntegrator Functions"
   ],
   "metadata": {
    "collapsed": false
   }
  },
  {
   "cell_type": "code",
   "outputs": [],
   "source": [
    "wbi = WikibaseIntegrator()\n",
    "\n",
    "def GetCountryLabelInFrench(itemID): #Permet de récupérer le label du pays en français à partir de son qualifier/ID WikiData\n",
    "    item_data=wbi.item.get(itemID) #Récupère les données du monument\n",
    "    country_id=item_data.claims.get('P17')[0].mainsnak.datavalue['value']['id'] #Récupère l'ID du pays\n",
    "    country=wbi.item.get(country_id) #Récupère les données du pays\n",
    "    return country.labels.get('fr').value #Retourne le label du pays en français\n",
    "\n",
    "def AddCountryTags(dataframe): #Permet d'ajouter le tag du pays à chaque ligne du dataframe\n",
    "    items_tuples=[]\n",
    "    for i in range(len(dataframe.index)): # Récupère les IDs de toutes les lignes du dataframe\n",
    "        itemID=dataframe._get_value(i,\"entityID\")\n",
    "        items_tuples.append(itemID)\n",
    "    for i in range(len(items_tuples)): # Ajoute le pays à chaque ligne du dataframe\n",
    "        country = GetCountryLabelInFrench(items_tuples[i])\n",
    "        dataframe.at[i, \"tags\"].append(\"#\"+country)\n",
    "    return dataframe\n",
    "\n",
    "def GetArchitecturalStyle(styleID): #Permet de récupérer le nom du style architectural en français à partir de son qualifier/ID WikiData\n",
    "    styleL=[]\n",
    "    for i in range(len(styleID)): # Récupère les IDs de style architectural pour chaque ligne du dataframe\n",
    "        style = wbi.item.get(styleID[i]) #Récupère les données du style architectural\n",
    "        style_name = style.labels.get('fr').value #Récupère le nom du style en français\n",
    "        styleL.append(\"#\"+style_name) #Ajoute le nom du style à la liste de résultat\n",
    "    return styleL #Retourne le nom du style architectural\n",
    "\n",
    "def AddStyleTags(dataframe): #Permet d'ajouter les tags des styles architecturaux à chaque ligne du dataframe\n",
    "    for k in range(len(dataframe.index)): #On parcourt chaque ligne du dataframe\n",
    "        style = GetArchitecturalStyle(dataframe._get_value(k,\"style\"))\n",
    "        for l in range(len(style)): #On parcourt chaque indice de la liste de style (un monument peut avoir plusieurs styles)\n",
    "            dataframe.at[k, \"tags\"].append(style[l])\n",
    "    return dataframe"
   ],
   "metadata": {
    "collapsed": false,
    "ExecuteTime": {
     "end_time": "2024-03-25T07:12:00.112089600Z",
     "start_time": "2024-03-25T07:12:00.101213300Z"
    }
   },
   "execution_count": 4
  },
  {
   "cell_type": "markdown",
   "metadata": {},
   "source": [
    "### Récupération du résultat d'une query Wikidata"
   ]
  },
  {
   "cell_type": "code",
   "execution_count": 5,
   "metadata": {
    "ExecuteTime": {
     "end_time": "2024-03-25T07:12:02.821692700Z",
     "start_time": "2024-03-25T07:12:00.113090300Z"
    }
   },
   "outputs": [
    {
     "name": "stdout",
     "output_type": "stream",
     "text": [
      "{'head': {'vars': ['item', 'itemLabel', 'pic', 'year', 'style']}, 'results': {'bindings': [{'item': {'type': 'uri', 'value': 'http://www.wikidata.org/entity/Q1139113'}, 'style': {'type': 'uri', 'value': 'http://www.wikidata.org/entity/Q46261'}, 'pic': {'type': 'uri', 'value': 'http://commons.wikimedia.org/wiki/Special:FilePath/Estibalizko%20santutegi%20erromanikoa.jpg'}, 'itemLabel': {'xml:lang': 'en', 'type': 'literal', 'value': 'Sanctuary of Nuestra Señora de Estíbaliz'}}, {'item': {'type': 'uri', 'value': 'http://www.wikidata.org/entity/Q1064212'}, 'style': {'type': 'uri', 'value': 'http://www.wikidata.org/entity/Q4692'}, 'pic': {'type': 'uri', 'value': 'http://commons.wikimedia.org/wiki/Special:FilePath/SevillaPalacioDeLebrija01.JPG'}, 'itemLabel': {'xml:lang': 'en', 'type': 'literal', 'value': 'Palacio de la Condesa de Lebrija'}, 'year': {'datatype': 'http://www.w3.org/2001/XMLSchema#integer', 'type': 'literal', 'value': '1600'}}, {'item': {'type': 'uri', 'value': 'http://www.wikidata.org/entity/Q1130947'}, 'style': {'type': 'uri', 'value': 'http://www.wikidata.org/entity/Q708807'}, 'pic': {'type': 'uri', 'value': 'http://commons.wikimedia.org/wiki/Special:FilePath/Priesca1.jpg'}, 'itemLabel': {'xml:lang': 'en', 'type': 'literal', 'value': 'Church of San Salvador de Priesca'}, 'year': {'datatype': 'http://www.w3.org/2001/XMLSchema#integer', 'type': 'literal', 'value': '901'}}, {'item': {'type': 'uri', 'value': 'http://www.wikidata.org/entity/Q1164358'}, 'style': {'type': 'uri', 'value': 'http://www.wikidata.org/entity/Q1295040'}, 'pic': {'type': 'uri', 'value': 'http://commons.wikimedia.org/wiki/Special:FilePath/Palacio%20Longoria%20%28Madrid%29%2015.jpg'}, 'itemLabel': {'xml:lang': 'en', 'type': 'literal', 'value': 'Longoria Palace'}, 'year': {'datatype': 'http://www.w3.org/2001/XMLSchema#integer', 'type': 'literal', 'value': '1904'}}, {'item': {'type': 'uri', 'value': 'http://www.wikidata.org/entity/Q1166944'}, 'style': {'type': 'uri', 'value': 'http://www.wikidata.org/entity/Q176483'}, 'pic': {'type': 'uri', 'value': 'http://commons.wikimedia.org/wiki/Special:FilePath/Ruinas%20ovila.jpg'}, 'itemLabel': {'xml:lang': 'en', 'type': 'literal', 'value': 'Santa Maria de Ovila'}, 'year': {'datatype': 'http://www.w3.org/2001/XMLSchema#integer', 'type': 'literal', 'value': '1201'}}, {'item': {'type': 'uri', 'value': 'http://www.wikidata.org/entity/Q1187994'}, 'style': {'type': 'uri', 'value': 'http://www.wikidata.org/entity/Q54111'}, 'pic': {'type': 'uri', 'value': 'http://commons.wikimedia.org/wiki/Special:FilePath/Monument%20au%20soldat%20inconnu%20mont%20Avala.jpg'}, 'itemLabel': {'xml:lang': 'en', 'type': 'literal', 'value': 'Monument to the Unknown Hero'}, 'year': {'datatype': 'http://www.w3.org/2001/XMLSchema#integer', 'type': 'literal', 'value': '1938'}}, {'item': {'type': 'uri', 'value': 'http://www.wikidata.org/entity/Q34485'}, 'style': {'type': 'uri', 'value': 'http://www.wikidata.org/entity/Q54111'}, 'pic': {'type': 'uri', 'value': 'http://commons.wikimedia.org/wiki/Special:FilePath/Candelaria%20Basilica.jpg'}, 'itemLabel': {'xml:lang': 'en', 'type': 'literal', 'value': 'Basilica of Candelaria'}, 'year': {'datatype': 'http://www.w3.org/2001/XMLSchema#integer', 'type': 'literal', 'value': '1959'}}, {'item': {'type': 'uri', 'value': 'http://www.wikidata.org/entity/Q34562'}, 'style': {'type': 'uri', 'value': 'http://www.wikidata.org/entity/Q54111'}, 'pic': {'type': 'uri', 'value': 'http://commons.wikimedia.org/wiki/Special:FilePath/La%20Laguna%202022%20-%20main%20facade.jpg'}, 'itemLabel': {'xml:lang': 'en', 'type': 'literal', 'value': 'Cathedral of La Laguna'}, 'year': {'datatype': 'http://www.w3.org/2001/XMLSchema#integer', 'type': 'literal', 'value': '1515'}}, {'item': {'type': 'uri', 'value': 'http://www.wikidata.org/entity/Q34562'}, 'style': {'type': 'uri', 'value': 'http://www.wikidata.org/entity/Q186363'}, 'pic': {'type': 'uri', 'value': 'http://commons.wikimedia.org/wiki/Special:FilePath/La%20Laguna%202022%20-%20main%20facade.jpg'}, 'itemLabel': {'xml:lang': 'en', 'type': 'literal', 'value': 'Cathedral of La Laguna'}, 'year': {'datatype': 'http://www.w3.org/2001/XMLSchema#integer', 'type': 'literal', 'value': '1515'}}, {'item': {'type': 'uri', 'value': 'http://www.wikidata.org/entity/Q34562'}, 'style': {'type': 'uri', 'value': 'http://www.wikidata.org/entity/Q54111'}, 'pic': {'type': 'uri', 'value': 'http://commons.wikimedia.org/wiki/Special:FilePath/La%20Laguna%202022%20-%20main%20nave.jpg'}, 'itemLabel': {'xml:lang': 'en', 'type': 'literal', 'value': 'Cathedral of La Laguna'}, 'year': {'datatype': 'http://www.w3.org/2001/XMLSchema#integer', 'type': 'literal', 'value': '1515'}}, {'item': {'type': 'uri', 'value': 'http://www.wikidata.org/entity/Q34562'}, 'style': {'type': 'uri', 'value': 'http://www.wikidata.org/entity/Q186363'}, 'pic': {'type': 'uri', 'value': 'http://commons.wikimedia.org/wiki/Special:FilePath/La%20Laguna%202022%20-%20main%20nave.jpg'}, 'itemLabel': {'xml:lang': 'en', 'type': 'literal', 'value': 'Cathedral of La Laguna'}, 'year': {'datatype': 'http://www.w3.org/2001/XMLSchema#integer', 'type': 'literal', 'value': '1515'}}, {'item': {'type': 'uri', 'value': 'http://www.wikidata.org/entity/Q39671'}, 'style': {'type': 'uri', 'value': 'http://www.wikidata.org/entity/Q435405'}, 'pic': {'type': 'uri', 'value': 'http://commons.wikimedia.org/wiki/Special:FilePath/Stonehenge%20Total.jpg'}, 'itemLabel': {'xml:lang': 'en', 'type': 'literal', 'value': 'Stonehenge'}, 'year': {'datatype': 'http://www.w3.org/2001/XMLSchema#integer', 'type': 'literal', 'value': '-3000'}}, {'item': {'type': 'uri', 'value': 'http://www.wikidata.org/entity/Q39671'}, 'style': {'type': 'uri', 'value': 'http://www.wikidata.org/entity/Q435405'}, 'pic': {'type': 'uri', 'value': 'http://commons.wikimedia.org/wiki/Special:FilePath/Stonehenge%20Total.jpg'}, 'itemLabel': {'xml:lang': 'en', 'type': 'literal', 'value': 'Stonehenge'}, 'year': {'datatype': 'http://www.w3.org/2001/XMLSchema#integer', 'type': 'literal', 'value': '-1848'}}, {'item': {'type': 'uri', 'value': 'http://www.wikidata.org/entity/Q142565'}, 'style': {'type': 'uri', 'value': 'http://www.wikidata.org/entity/Q10412776'}, 'pic': {'type': 'uri', 'value': 'http://commons.wikimedia.org/wiki/Special:FilePath/Wisig%20Quintanilla%20de%20las%20Vignas%20b.jpg'}, 'itemLabel': {'xml:lang': 'en', 'type': 'literal', 'value': 'Santa Maria de Lara'}, 'year': {'datatype': 'http://www.w3.org/2001/XMLSchema#integer', 'type': 'literal', 'value': '601'}}, {'item': {'type': 'uri', 'value': 'http://www.wikidata.org/entity/Q155443'}, 'style': {'type': 'uri', 'value': 'http://www.wikidata.org/entity/Q577852'}, 'pic': {'type': 'uri', 'value': 'http://commons.wikimedia.org/wiki/Special:FilePath/Hostal%20dos%20Reis%20Cat%C3%B3licos.%20Praza%20do%20obradoiro.%20Santiago%20de%20Compostela.jpg'}, 'itemLabel': {'xml:lang': 'en', 'type': 'literal', 'value': 'Hospital de los Reyes Católicos'}, 'year': {'datatype': 'http://www.w3.org/2001/XMLSchema#integer', 'type': 'literal', 'value': '1511'}}, {'item': {'type': 'uri', 'value': 'http://www.wikidata.org/entity/Q159615'}, 'style': {'type': 'uri', 'value': 'http://www.wikidata.org/entity/Q2864605'}, 'pic': {'type': 'uri', 'value': 'http://commons.wikimedia.org/wiki/Special:FilePath/Monestir%20de%20Santes%20Creus%20%28Aiguam%C3%BArcia%29%20-%2036.jpg'}, 'itemLabel': {'xml:lang': 'en', 'type': 'literal', 'value': 'Santes Creus'}, 'year': {'datatype': 'http://www.w3.org/2001/XMLSchema#integer', 'type': 'literal', 'value': '1160'}}, {'item': {'type': 'uri', 'value': 'http://www.wikidata.org/entity/Q203741'}, 'style': {'type': 'uri', 'value': 'http://www.wikidata.org/entity/Q1951304'}, 'pic': {'type': 'uri', 'value': 'http://commons.wikimedia.org/wiki/Special:FilePath/SMdE001%20fulgacian.jpg'}, 'itemLabel': {'xml:lang': 'en', 'type': 'literal', 'value': 'Monastery of San Miguel de Escalada'}, 'year': {'datatype': 'http://www.w3.org/2001/XMLSchema#integer', 'type': 'literal', 'value': '901'}}, {'item': {'type': 'uri', 'value': 'http://www.wikidata.org/entity/Q205524'}, 'style': {'type': 'uri', 'value': 'http://www.wikidata.org/entity/Q840829'}, 'pic': {'type': 'uri', 'value': 'http://commons.wikimedia.org/wiki/Special:FilePath/Real%20Monasterio%20de%20la%20Encarnaci%C3%B3n%20%28Madrid%29%2001.jpg'}, 'itemLabel': {'xml:lang': 'en', 'type': 'literal', 'value': 'Royal Convent of La Encarnación'}, 'year': {'datatype': 'http://www.w3.org/2001/XMLSchema#integer', 'type': 'literal', 'value': '1616'}}, {'item': {'type': 'uri', 'value': 'http://www.wikidata.org/entity/Q208811'}, 'style': {'type': 'uri', 'value': 'http://www.wikidata.org/entity/Q331273'}, 'pic': {'type': 'uri', 'value': 'http://commons.wikimedia.org/wiki/Special:FilePath/GR-athen-panathinaiko-stadion.jpg'}, 'itemLabel': {'xml:lang': 'en', 'type': 'literal', 'value': 'Panathenaic Stadium'}, 'year': {'datatype': 'http://www.w3.org/2001/XMLSchema#integer', 'type': 'literal', 'value': '-328'}}, {'item': {'type': 'uri', 'value': 'http://www.wikidata.org/entity/Q245151'}, 'style': {'type': 'uri', 'value': 'http://www.wikidata.org/entity/Q223750'}, 'pic': {'type': 'uri', 'value': 'http://commons.wikimedia.org/wiki/Special:FilePath/A%20coruna%20torre%20de%20hercules%20sunset%20edit.jpg'}, 'itemLabel': {'xml:lang': 'en', 'type': 'literal', 'value': 'Tower of Hercules'}, 'year': {'datatype': 'http://www.w3.org/2001/XMLSchema#integer', 'type': 'literal', 'value': '100'}}]}}\n"
     ]
    },
    {
     "data": {
      "text/plain": "                                       label  \\\n0                     Basilica of Candelaria   \n1                     Cathedral of La Laguna   \n2          Church of San Salvador de Priesca   \n3            Hospital de los Reyes Católicos   \n4                            Longoria Palace   \n5        Monastery of San Miguel de Escalada   \n6               Monument to the Unknown Hero   \n7           Palacio de la Condesa de Lebrija   \n8                        Panathenaic Stadium   \n9            Royal Convent of La Encarnación   \n10  Sanctuary of Nuestra Señora de Estíbaliz   \n11                       Santa Maria de Lara   \n12                      Santa Maria de Ovila   \n13                              Santes Creus   \n14                                Stonehenge   \n15                         Tower of Hercules   \n\n                                                 link  entityID format  \\\n0   http://commons.wikimedia.org/wiki/Special:File...    Q34485    jpg   \n1   http://commons.wikimedia.org/wiki/Special:File...    Q34562    jpg   \n2   http://commons.wikimedia.org/wiki/Special:File...  Q1130947    jpg   \n3   http://commons.wikimedia.org/wiki/Special:File...   Q155443    jpg   \n4   http://commons.wikimedia.org/wiki/Special:File...  Q1164358    jpg   \n5   http://commons.wikimedia.org/wiki/Special:File...   Q203741    jpg   \n6   http://commons.wikimedia.org/wiki/Special:File...  Q1187994    jpg   \n7   http://commons.wikimedia.org/wiki/Special:File...  Q1064212    JPG   \n8   http://commons.wikimedia.org/wiki/Special:File...   Q208811    jpg   \n9   http://commons.wikimedia.org/wiki/Special:File...   Q205524    jpg   \n10  http://commons.wikimedia.org/wiki/Special:File...  Q1139113    jpg   \n11  http://commons.wikimedia.org/wiki/Special:File...   Q142565    jpg   \n12  http://commons.wikimedia.org/wiki/Special:File...  Q1166944    jpg   \n13  http://commons.wikimedia.org/wiki/Special:File...   Q159615    jpg   \n14  http://commons.wikimedia.org/wiki/Special:File...    Q39671    jpg   \n15  http://commons.wikimedia.org/wiki/Special:File...   Q245151    jpg   \n\n                                                 path size sizeCategory  \\\n0                 ./images/Basilica of Candelaria.jpg   ()         None   \n1                 ./images/Cathedral of La Laguna.jpg   ()         None   \n2      ./images/Church of San Salvador de Priesca.jpg   ()         None   \n3        ./images/Hospital de los Reyes Católicos.jpg   ()         None   \n4                        ./images/Longoria Palace.jpg   ()         None   \n5    ./images/Monastery of San Miguel de Escalada.jpg   ()         None   \n6           ./images/Monument to the Unknown Hero.jpg   ()         None   \n7       ./images/Palacio de la Condesa de Lebrija.JPG   ()         None   \n8                    ./images/Panathenaic Stadium.jpg   ()         None   \n9        ./images/Royal Convent of La Encarnación.jpg   ()         None   \n10  ./images/Sanctuary of Nuestra Señora de Estíba...   ()         None   \n11                   ./images/Santa Maria de Lara.jpg   ()         None   \n12                  ./images/Santa Maria de Ovila.jpg   ()         None   \n13                          ./images/Santes Creus.jpg   ()         None   \n14                            ./images/Stonehenge.jpg   ()         None   \n15                     ./images/Tower of Hercules.jpg   ()         None   \n\n           tags   date                               style  \n0   [#monument]   1959                            [Q54111]  \n1   [#monument]   1515  [Q54111, Q186363, Q54111, Q186363]  \n2   [#monument]    901                           [Q708807]  \n3   [#monument]   1511                           [Q577852]  \n4   [#monument]   1904                          [Q1295040]  \n5   [#monument]    901                          [Q1951304]  \n6   [#monument]   1938                            [Q54111]  \n7   [#monument]   1600                             [Q4692]  \n8   [#monument]   -328                           [Q331273]  \n9   [#monument]   1616                           [Q840829]  \n10  [#monument]   None                            [Q46261]  \n11  [#monument]    601                         [Q10412776]  \n12  [#monument]   1201                           [Q176483]  \n13  [#monument]   1160                          [Q2864605]  \n14  [#monument]  -3000                  [Q435405, Q435405]  \n15  [#monument]    100                           [Q223750]  ",
      "text/html": "<div>\n<style scoped>\n    .dataframe tbody tr th:only-of-type {\n        vertical-align: middle;\n    }\n\n    .dataframe tbody tr th {\n        vertical-align: top;\n    }\n\n    .dataframe thead th {\n        text-align: right;\n    }\n</style>\n<table border=\"1\" class=\"dataframe\">\n  <thead>\n    <tr style=\"text-align: right;\">\n      <th></th>\n      <th>label</th>\n      <th>link</th>\n      <th>entityID</th>\n      <th>format</th>\n      <th>path</th>\n      <th>size</th>\n      <th>sizeCategory</th>\n      <th>tags</th>\n      <th>date</th>\n      <th>style</th>\n    </tr>\n  </thead>\n  <tbody>\n    <tr>\n      <th>0</th>\n      <td>Basilica of Candelaria</td>\n      <td>http://commons.wikimedia.org/wiki/Special:File...</td>\n      <td>Q34485</td>\n      <td>jpg</td>\n      <td>./images/Basilica of Candelaria.jpg</td>\n      <td>()</td>\n      <td>None</td>\n      <td>[#monument]</td>\n      <td>1959</td>\n      <td>[Q54111]</td>\n    </tr>\n    <tr>\n      <th>1</th>\n      <td>Cathedral of La Laguna</td>\n      <td>http://commons.wikimedia.org/wiki/Special:File...</td>\n      <td>Q34562</td>\n      <td>jpg</td>\n      <td>./images/Cathedral of La Laguna.jpg</td>\n      <td>()</td>\n      <td>None</td>\n      <td>[#monument]</td>\n      <td>1515</td>\n      <td>[Q54111, Q186363, Q54111, Q186363]</td>\n    </tr>\n    <tr>\n      <th>2</th>\n      <td>Church of San Salvador de Priesca</td>\n      <td>http://commons.wikimedia.org/wiki/Special:File...</td>\n      <td>Q1130947</td>\n      <td>jpg</td>\n      <td>./images/Church of San Salvador de Priesca.jpg</td>\n      <td>()</td>\n      <td>None</td>\n      <td>[#monument]</td>\n      <td>901</td>\n      <td>[Q708807]</td>\n    </tr>\n    <tr>\n      <th>3</th>\n      <td>Hospital de los Reyes Católicos</td>\n      <td>http://commons.wikimedia.org/wiki/Special:File...</td>\n      <td>Q155443</td>\n      <td>jpg</td>\n      <td>./images/Hospital de los Reyes Católicos.jpg</td>\n      <td>()</td>\n      <td>None</td>\n      <td>[#monument]</td>\n      <td>1511</td>\n      <td>[Q577852]</td>\n    </tr>\n    <tr>\n      <th>4</th>\n      <td>Longoria Palace</td>\n      <td>http://commons.wikimedia.org/wiki/Special:File...</td>\n      <td>Q1164358</td>\n      <td>jpg</td>\n      <td>./images/Longoria Palace.jpg</td>\n      <td>()</td>\n      <td>None</td>\n      <td>[#monument]</td>\n      <td>1904</td>\n      <td>[Q1295040]</td>\n    </tr>\n    <tr>\n      <th>5</th>\n      <td>Monastery of San Miguel de Escalada</td>\n      <td>http://commons.wikimedia.org/wiki/Special:File...</td>\n      <td>Q203741</td>\n      <td>jpg</td>\n      <td>./images/Monastery of San Miguel de Escalada.jpg</td>\n      <td>()</td>\n      <td>None</td>\n      <td>[#monument]</td>\n      <td>901</td>\n      <td>[Q1951304]</td>\n    </tr>\n    <tr>\n      <th>6</th>\n      <td>Monument to the Unknown Hero</td>\n      <td>http://commons.wikimedia.org/wiki/Special:File...</td>\n      <td>Q1187994</td>\n      <td>jpg</td>\n      <td>./images/Monument to the Unknown Hero.jpg</td>\n      <td>()</td>\n      <td>None</td>\n      <td>[#monument]</td>\n      <td>1938</td>\n      <td>[Q54111]</td>\n    </tr>\n    <tr>\n      <th>7</th>\n      <td>Palacio de la Condesa de Lebrija</td>\n      <td>http://commons.wikimedia.org/wiki/Special:File...</td>\n      <td>Q1064212</td>\n      <td>JPG</td>\n      <td>./images/Palacio de la Condesa de Lebrija.JPG</td>\n      <td>()</td>\n      <td>None</td>\n      <td>[#monument]</td>\n      <td>1600</td>\n      <td>[Q4692]</td>\n    </tr>\n    <tr>\n      <th>8</th>\n      <td>Panathenaic Stadium</td>\n      <td>http://commons.wikimedia.org/wiki/Special:File...</td>\n      <td>Q208811</td>\n      <td>jpg</td>\n      <td>./images/Panathenaic Stadium.jpg</td>\n      <td>()</td>\n      <td>None</td>\n      <td>[#monument]</td>\n      <td>-328</td>\n      <td>[Q331273]</td>\n    </tr>\n    <tr>\n      <th>9</th>\n      <td>Royal Convent of La Encarnación</td>\n      <td>http://commons.wikimedia.org/wiki/Special:File...</td>\n      <td>Q205524</td>\n      <td>jpg</td>\n      <td>./images/Royal Convent of La Encarnación.jpg</td>\n      <td>()</td>\n      <td>None</td>\n      <td>[#monument]</td>\n      <td>1616</td>\n      <td>[Q840829]</td>\n    </tr>\n    <tr>\n      <th>10</th>\n      <td>Sanctuary of Nuestra Señora de Estíbaliz</td>\n      <td>http://commons.wikimedia.org/wiki/Special:File...</td>\n      <td>Q1139113</td>\n      <td>jpg</td>\n      <td>./images/Sanctuary of Nuestra Señora de Estíba...</td>\n      <td>()</td>\n      <td>None</td>\n      <td>[#monument]</td>\n      <td>None</td>\n      <td>[Q46261]</td>\n    </tr>\n    <tr>\n      <th>11</th>\n      <td>Santa Maria de Lara</td>\n      <td>http://commons.wikimedia.org/wiki/Special:File...</td>\n      <td>Q142565</td>\n      <td>jpg</td>\n      <td>./images/Santa Maria de Lara.jpg</td>\n      <td>()</td>\n      <td>None</td>\n      <td>[#monument]</td>\n      <td>601</td>\n      <td>[Q10412776]</td>\n    </tr>\n    <tr>\n      <th>12</th>\n      <td>Santa Maria de Ovila</td>\n      <td>http://commons.wikimedia.org/wiki/Special:File...</td>\n      <td>Q1166944</td>\n      <td>jpg</td>\n      <td>./images/Santa Maria de Ovila.jpg</td>\n      <td>()</td>\n      <td>None</td>\n      <td>[#monument]</td>\n      <td>1201</td>\n      <td>[Q176483]</td>\n    </tr>\n    <tr>\n      <th>13</th>\n      <td>Santes Creus</td>\n      <td>http://commons.wikimedia.org/wiki/Special:File...</td>\n      <td>Q159615</td>\n      <td>jpg</td>\n      <td>./images/Santes Creus.jpg</td>\n      <td>()</td>\n      <td>None</td>\n      <td>[#monument]</td>\n      <td>1160</td>\n      <td>[Q2864605]</td>\n    </tr>\n    <tr>\n      <th>14</th>\n      <td>Stonehenge</td>\n      <td>http://commons.wikimedia.org/wiki/Special:File...</td>\n      <td>Q39671</td>\n      <td>jpg</td>\n      <td>./images/Stonehenge.jpg</td>\n      <td>()</td>\n      <td>None</td>\n      <td>[#monument]</td>\n      <td>-3000</td>\n      <td>[Q435405, Q435405]</td>\n    </tr>\n    <tr>\n      <th>15</th>\n      <td>Tower of Hercules</td>\n      <td>http://commons.wikimedia.org/wiki/Special:File...</td>\n      <td>Q245151</td>\n      <td>jpg</td>\n      <td>./images/Tower of Hercules.jpg</td>\n      <td>()</td>\n      <td>None</td>\n      <td>[#monument]</td>\n      <td>100</td>\n      <td>[Q223750]</td>\n    </tr>\n  </tbody>\n</table>\n</div>"
     },
     "execution_count": 5,
     "metadata": {},
     "output_type": "execute_result"
    }
   ],
   "source": [
    "size = 20\n",
    "imagesPath = \"./images/\"\n",
    "\n",
    "# Query de Wikidata\n",
    "sparql = SPARQLWrapper(\"https://query.wikidata.org/sparql\")\n",
    "query = \"\"\"\n",
    "SELECT ?item ?itemLabel ?pic (YEAR(?date) as ?year) ?style WHERE {\n",
    "  ?item wdt:P31 wd:Q4989906;\n",
    "    wdt:P18 ?pic;\n",
    "    wdt:P571 ?date;\n",
    "    wdt:P149 ?style.\n",
    "  SERVICE wikibase:label { bd:serviceParam wikibase:language \"[AUTO_LANGUAGE],en\". }\n",
    "}\n",
    "LIMIT \"\"\"\n",
    "# On précise le nombre d'entrées que l'on veut\n",
    "query = query + str(size)\n",
    "\n",
    "# On récupère le résultat de la query\n",
    "sparql.setQuery(query)\n",
    "sparql.setReturnFormat(\"json\")\n",
    "results = sparql.query().convert()\n",
    "print(results)\n",
    "\n",
    "# On normalise les résultats pour pandas\n",
    "array = []\n",
    "for trainData in results[\"results\"][\"bindings\"]:\n",
    "    name = trainData[\"itemLabel\"][\"value\"]\n",
    "    format = trainData[\"pic\"][\"value\"].split(\".\")[-1]\n",
    "    path = f\"{imagesPath}{name}.{format}\"\n",
    "    if \"year\" in trainData.keys():\n",
    "        date = trainData[\"year\"][\"value\"]\n",
    "    else:\n",
    "        date = None\n",
    "    style = trainData[\"style\"][\"value\"]\n",
    "    array.append([name,  \n",
    "                  trainData[\"pic\"][\"value\"], \n",
    "                  trainData[\"item\"][\"value\"].split(sep='/')[-1],\n",
    "                  format,\n",
    "                  path,\n",
    "                  (),\n",
    "                  None,\n",
    "                  ['#monument'],\n",
    "                  date,\n",
    "                  style.split(sep='/')[-1]])\n",
    "                  \n",
    "\n",
    "dataframe = pandas.DataFrame(array, columns=[\"label\", \"link\", \"entityID\", \"format\", \"path\", \"size\", \"sizeCategory\", \"tags\", \"date\",\"style\"])\n",
    "\n",
    "#On fusionne les lignes avec le même label en gardant les différents styles\n",
    "dataframe = dataframe.groupby('label').agg({'link':'first', 'entityID':'first', 'format':'first', 'path':'first', 'size':'first', 'sizeCategory':'first','tags':'first', 'date':'first', 'style':list}).reset_index()\n",
    "\n",
    "# On enregistre les données au format JSON\n",
    "saveData(dataframe)\n",
    "\n",
    "# Nettoyage du dossier /images\n",
    "if not os.path.isdir('./images'):\n",
    "  os.mkdir('./images')\n",
    "\n",
    "# Nettoyage du dossier /images\n",
    "else:\n",
    "  files = glob.glob('./images/*')\n",
    "  for f in files:\n",
    "      os.remove(f)\n",
    "\n",
    "dataframe"
   ]
  },
  {
   "cell_type": "markdown",
   "metadata": {},
   "source": [
    "### Téléchargement des Images"
   ]
  },
  {
   "cell_type": "code",
   "execution_count": 7,
   "metadata": {
    "ExecuteTime": {
     "end_time": "2024-03-25T07:32:16.318757900Z",
     "start_time": "2024-03-25T07:32:01.678633200Z"
    }
   },
   "outputs": [
    {
     "name": "stderr",
     "output_type": "stream",
     "text": [
      "C:\\Users\\tomgr\\AppData\\Local\\Temp\\ipykernel_18216\\3307934254.py:4: FutureWarning: The behavior of 'to_datetime' with 'unit' when parsing strings is deprecated. In a future version, strings will be parsed as datetime strings, matching the behavior without a 'unit'. To retain the old behavior, explicitly cast ints or floats to numeric type before calling to_datetime.\n",
      "  dataframe = pandas.read_json(f, orient='index')\n"
     ]
    },
    {
     "ename": "HTTPError",
     "evalue": "HTTP Error 429: Too many requests. Please comply with the User-Agent policy to get a higher rate limit: https://meta.wikimedia.org/wiki/User-Agent_policy",
     "output_type": "error",
     "traceback": [
      "\u001B[1;31m---------------------------------------------------------------------------\u001B[0m",
      "\u001B[1;31mHTTPError\u001B[0m                                 Traceback (most recent call last)",
      "Cell \u001B[1;32mIn[7], line 6\u001B[0m\n\u001B[0;32m      4\u001B[0m     link \u001B[38;5;241m=\u001B[39m dataframe\u001B[38;5;241m.\u001B[39m_get_value(i,\u001B[38;5;124m\"\u001B[39m\u001B[38;5;124mlink\u001B[39m\u001B[38;5;124m\"\u001B[39m)\n\u001B[0;32m      5\u001B[0m     path \u001B[38;5;241m=\u001B[39m dataframe\u001B[38;5;241m.\u001B[39m_get_value(i,\u001B[38;5;124m\"\u001B[39m\u001B[38;5;124mpath\u001B[39m\u001B[38;5;124m\"\u001B[39m)\n\u001B[1;32m----> 6\u001B[0m     response \u001B[38;5;241m=\u001B[39m urllib\u001B[38;5;241m.\u001B[39mrequest\u001B[38;5;241m.\u001B[39murlretrieve(link, path)\n\u001B[0;32m     10\u001B[0m img \u001B[38;5;241m=\u001B[39m io\u001B[38;5;241m.\u001B[39mimread(path)\n\u001B[0;32m     11\u001B[0m io\u001B[38;5;241m.\u001B[39mimshow(img)\n",
      "File \u001B[1;32m~\\Documents\\Dev\\Anaconda\\Lib\\urllib\\request.py:241\u001B[0m, in \u001B[0;36murlretrieve\u001B[1;34m(url, filename, reporthook, data)\u001B[0m\n\u001B[0;32m    224\u001B[0m \u001B[38;5;250m\u001B[39m\u001B[38;5;124;03m\"\"\"\u001B[39;00m\n\u001B[0;32m    225\u001B[0m \u001B[38;5;124;03mRetrieve a URL into a temporary location on disk.\u001B[39;00m\n\u001B[0;32m    226\u001B[0m \n\u001B[1;32m   (...)\u001B[0m\n\u001B[0;32m    237\u001B[0m \u001B[38;5;124;03mdata file as well as the resulting HTTPMessage object.\u001B[39;00m\n\u001B[0;32m    238\u001B[0m \u001B[38;5;124;03m\"\"\"\u001B[39;00m\n\u001B[0;32m    239\u001B[0m url_type, path \u001B[38;5;241m=\u001B[39m _splittype(url)\n\u001B[1;32m--> 241\u001B[0m \u001B[38;5;28;01mwith\u001B[39;00m contextlib\u001B[38;5;241m.\u001B[39mclosing(urlopen(url, data)) \u001B[38;5;28;01mas\u001B[39;00m fp:\n\u001B[0;32m    242\u001B[0m     headers \u001B[38;5;241m=\u001B[39m fp\u001B[38;5;241m.\u001B[39minfo()\n\u001B[0;32m    244\u001B[0m     \u001B[38;5;66;03m# Just return the local path and the \"headers\" for file://\u001B[39;00m\n\u001B[0;32m    245\u001B[0m     \u001B[38;5;66;03m# URLs. No sense in performing a copy unless requested.\u001B[39;00m\n",
      "File \u001B[1;32m~\\Documents\\Dev\\Anaconda\\Lib\\urllib\\request.py:216\u001B[0m, in \u001B[0;36murlopen\u001B[1;34m(url, data, timeout, cafile, capath, cadefault, context)\u001B[0m\n\u001B[0;32m    214\u001B[0m \u001B[38;5;28;01melse\u001B[39;00m:\n\u001B[0;32m    215\u001B[0m     opener \u001B[38;5;241m=\u001B[39m _opener\n\u001B[1;32m--> 216\u001B[0m \u001B[38;5;28;01mreturn\u001B[39;00m opener\u001B[38;5;241m.\u001B[39mopen(url, data, timeout)\n",
      "File \u001B[1;32m~\\Documents\\Dev\\Anaconda\\Lib\\urllib\\request.py:525\u001B[0m, in \u001B[0;36mOpenerDirector.open\u001B[1;34m(self, fullurl, data, timeout)\u001B[0m\n\u001B[0;32m    523\u001B[0m \u001B[38;5;28;01mfor\u001B[39;00m processor \u001B[38;5;129;01min\u001B[39;00m \u001B[38;5;28mself\u001B[39m\u001B[38;5;241m.\u001B[39mprocess_response\u001B[38;5;241m.\u001B[39mget(protocol, []):\n\u001B[0;32m    524\u001B[0m     meth \u001B[38;5;241m=\u001B[39m \u001B[38;5;28mgetattr\u001B[39m(processor, meth_name)\n\u001B[1;32m--> 525\u001B[0m     response \u001B[38;5;241m=\u001B[39m meth(req, response)\n\u001B[0;32m    527\u001B[0m \u001B[38;5;28;01mreturn\u001B[39;00m response\n",
      "File \u001B[1;32m~\\Documents\\Dev\\Anaconda\\Lib\\urllib\\request.py:634\u001B[0m, in \u001B[0;36mHTTPErrorProcessor.http_response\u001B[1;34m(self, request, response)\u001B[0m\n\u001B[0;32m    631\u001B[0m \u001B[38;5;66;03m# According to RFC 2616, \"2xx\" code indicates that the client's\u001B[39;00m\n\u001B[0;32m    632\u001B[0m \u001B[38;5;66;03m# request was successfully received, understood, and accepted.\u001B[39;00m\n\u001B[0;32m    633\u001B[0m \u001B[38;5;28;01mif\u001B[39;00m \u001B[38;5;129;01mnot\u001B[39;00m (\u001B[38;5;241m200\u001B[39m \u001B[38;5;241m<\u001B[39m\u001B[38;5;241m=\u001B[39m code \u001B[38;5;241m<\u001B[39m \u001B[38;5;241m300\u001B[39m):\n\u001B[1;32m--> 634\u001B[0m     response \u001B[38;5;241m=\u001B[39m \u001B[38;5;28mself\u001B[39m\u001B[38;5;241m.\u001B[39mparent\u001B[38;5;241m.\u001B[39merror(\n\u001B[0;32m    635\u001B[0m         \u001B[38;5;124m'\u001B[39m\u001B[38;5;124mhttp\u001B[39m\u001B[38;5;124m'\u001B[39m, request, response, code, msg, hdrs)\n\u001B[0;32m    637\u001B[0m \u001B[38;5;28;01mreturn\u001B[39;00m response\n",
      "File \u001B[1;32m~\\Documents\\Dev\\Anaconda\\Lib\\urllib\\request.py:557\u001B[0m, in \u001B[0;36mOpenerDirector.error\u001B[1;34m(self, proto, *args)\u001B[0m\n\u001B[0;32m    555\u001B[0m     http_err \u001B[38;5;241m=\u001B[39m \u001B[38;5;241m0\u001B[39m\n\u001B[0;32m    556\u001B[0m args \u001B[38;5;241m=\u001B[39m (\u001B[38;5;28mdict\u001B[39m, proto, meth_name) \u001B[38;5;241m+\u001B[39m args\n\u001B[1;32m--> 557\u001B[0m result \u001B[38;5;241m=\u001B[39m \u001B[38;5;28mself\u001B[39m\u001B[38;5;241m.\u001B[39m_call_chain(\u001B[38;5;241m*\u001B[39margs)\n\u001B[0;32m    558\u001B[0m \u001B[38;5;28;01mif\u001B[39;00m result:\n\u001B[0;32m    559\u001B[0m     \u001B[38;5;28;01mreturn\u001B[39;00m result\n",
      "File \u001B[1;32m~\\Documents\\Dev\\Anaconda\\Lib\\urllib\\request.py:496\u001B[0m, in \u001B[0;36mOpenerDirector._call_chain\u001B[1;34m(self, chain, kind, meth_name, *args)\u001B[0m\n\u001B[0;32m    494\u001B[0m \u001B[38;5;28;01mfor\u001B[39;00m handler \u001B[38;5;129;01min\u001B[39;00m handlers:\n\u001B[0;32m    495\u001B[0m     func \u001B[38;5;241m=\u001B[39m \u001B[38;5;28mgetattr\u001B[39m(handler, meth_name)\n\u001B[1;32m--> 496\u001B[0m     result \u001B[38;5;241m=\u001B[39m func(\u001B[38;5;241m*\u001B[39margs)\n\u001B[0;32m    497\u001B[0m     \u001B[38;5;28;01mif\u001B[39;00m result \u001B[38;5;129;01mis\u001B[39;00m \u001B[38;5;129;01mnot\u001B[39;00m \u001B[38;5;28;01mNone\u001B[39;00m:\n\u001B[0;32m    498\u001B[0m         \u001B[38;5;28;01mreturn\u001B[39;00m result\n",
      "File \u001B[1;32m~\\Documents\\Dev\\Anaconda\\Lib\\urllib\\request.py:749\u001B[0m, in \u001B[0;36mHTTPRedirectHandler.http_error_302\u001B[1;34m(self, req, fp, code, msg, headers)\u001B[0m\n\u001B[0;32m    746\u001B[0m fp\u001B[38;5;241m.\u001B[39mread()\n\u001B[0;32m    747\u001B[0m fp\u001B[38;5;241m.\u001B[39mclose()\n\u001B[1;32m--> 749\u001B[0m \u001B[38;5;28;01mreturn\u001B[39;00m \u001B[38;5;28mself\u001B[39m\u001B[38;5;241m.\u001B[39mparent\u001B[38;5;241m.\u001B[39mopen(new, timeout\u001B[38;5;241m=\u001B[39mreq\u001B[38;5;241m.\u001B[39mtimeout)\n",
      "File \u001B[1;32m~\\Documents\\Dev\\Anaconda\\Lib\\urllib\\request.py:525\u001B[0m, in \u001B[0;36mOpenerDirector.open\u001B[1;34m(self, fullurl, data, timeout)\u001B[0m\n\u001B[0;32m    523\u001B[0m \u001B[38;5;28;01mfor\u001B[39;00m processor \u001B[38;5;129;01min\u001B[39;00m \u001B[38;5;28mself\u001B[39m\u001B[38;5;241m.\u001B[39mprocess_response\u001B[38;5;241m.\u001B[39mget(protocol, []):\n\u001B[0;32m    524\u001B[0m     meth \u001B[38;5;241m=\u001B[39m \u001B[38;5;28mgetattr\u001B[39m(processor, meth_name)\n\u001B[1;32m--> 525\u001B[0m     response \u001B[38;5;241m=\u001B[39m meth(req, response)\n\u001B[0;32m    527\u001B[0m \u001B[38;5;28;01mreturn\u001B[39;00m response\n",
      "File \u001B[1;32m~\\Documents\\Dev\\Anaconda\\Lib\\urllib\\request.py:634\u001B[0m, in \u001B[0;36mHTTPErrorProcessor.http_response\u001B[1;34m(self, request, response)\u001B[0m\n\u001B[0;32m    631\u001B[0m \u001B[38;5;66;03m# According to RFC 2616, \"2xx\" code indicates that the client's\u001B[39;00m\n\u001B[0;32m    632\u001B[0m \u001B[38;5;66;03m# request was successfully received, understood, and accepted.\u001B[39;00m\n\u001B[0;32m    633\u001B[0m \u001B[38;5;28;01mif\u001B[39;00m \u001B[38;5;129;01mnot\u001B[39;00m (\u001B[38;5;241m200\u001B[39m \u001B[38;5;241m<\u001B[39m\u001B[38;5;241m=\u001B[39m code \u001B[38;5;241m<\u001B[39m \u001B[38;5;241m300\u001B[39m):\n\u001B[1;32m--> 634\u001B[0m     response \u001B[38;5;241m=\u001B[39m \u001B[38;5;28mself\u001B[39m\u001B[38;5;241m.\u001B[39mparent\u001B[38;5;241m.\u001B[39merror(\n\u001B[0;32m    635\u001B[0m         \u001B[38;5;124m'\u001B[39m\u001B[38;5;124mhttp\u001B[39m\u001B[38;5;124m'\u001B[39m, request, response, code, msg, hdrs)\n\u001B[0;32m    637\u001B[0m \u001B[38;5;28;01mreturn\u001B[39;00m response\n",
      "File \u001B[1;32m~\\Documents\\Dev\\Anaconda\\Lib\\urllib\\request.py:557\u001B[0m, in \u001B[0;36mOpenerDirector.error\u001B[1;34m(self, proto, *args)\u001B[0m\n\u001B[0;32m    555\u001B[0m     http_err \u001B[38;5;241m=\u001B[39m \u001B[38;5;241m0\u001B[39m\n\u001B[0;32m    556\u001B[0m args \u001B[38;5;241m=\u001B[39m (\u001B[38;5;28mdict\u001B[39m, proto, meth_name) \u001B[38;5;241m+\u001B[39m args\n\u001B[1;32m--> 557\u001B[0m result \u001B[38;5;241m=\u001B[39m \u001B[38;5;28mself\u001B[39m\u001B[38;5;241m.\u001B[39m_call_chain(\u001B[38;5;241m*\u001B[39margs)\n\u001B[0;32m    558\u001B[0m \u001B[38;5;28;01mif\u001B[39;00m result:\n\u001B[0;32m    559\u001B[0m     \u001B[38;5;28;01mreturn\u001B[39;00m result\n",
      "File \u001B[1;32m~\\Documents\\Dev\\Anaconda\\Lib\\urllib\\request.py:496\u001B[0m, in \u001B[0;36mOpenerDirector._call_chain\u001B[1;34m(self, chain, kind, meth_name, *args)\u001B[0m\n\u001B[0;32m    494\u001B[0m \u001B[38;5;28;01mfor\u001B[39;00m handler \u001B[38;5;129;01min\u001B[39;00m handlers:\n\u001B[0;32m    495\u001B[0m     func \u001B[38;5;241m=\u001B[39m \u001B[38;5;28mgetattr\u001B[39m(handler, meth_name)\n\u001B[1;32m--> 496\u001B[0m     result \u001B[38;5;241m=\u001B[39m func(\u001B[38;5;241m*\u001B[39margs)\n\u001B[0;32m    497\u001B[0m     \u001B[38;5;28;01mif\u001B[39;00m result \u001B[38;5;129;01mis\u001B[39;00m \u001B[38;5;129;01mnot\u001B[39;00m \u001B[38;5;28;01mNone\u001B[39;00m:\n\u001B[0;32m    498\u001B[0m         \u001B[38;5;28;01mreturn\u001B[39;00m result\n",
      "File \u001B[1;32m~\\Documents\\Dev\\Anaconda\\Lib\\urllib\\request.py:749\u001B[0m, in \u001B[0;36mHTTPRedirectHandler.http_error_302\u001B[1;34m(self, req, fp, code, msg, headers)\u001B[0m\n\u001B[0;32m    746\u001B[0m fp\u001B[38;5;241m.\u001B[39mread()\n\u001B[0;32m    747\u001B[0m fp\u001B[38;5;241m.\u001B[39mclose()\n\u001B[1;32m--> 749\u001B[0m \u001B[38;5;28;01mreturn\u001B[39;00m \u001B[38;5;28mself\u001B[39m\u001B[38;5;241m.\u001B[39mparent\u001B[38;5;241m.\u001B[39mopen(new, timeout\u001B[38;5;241m=\u001B[39mreq\u001B[38;5;241m.\u001B[39mtimeout)\n",
      "    \u001B[1;31m[... skipping similar frames: HTTPErrorProcessor.http_response at line 634 (2 times), OpenerDirector.open at line 525 (2 times), OpenerDirector._call_chain at line 496 (1 times), OpenerDirector.error at line 557 (1 times), HTTPRedirectHandler.http_error_302 at line 749 (1 times)]\u001B[0m\n",
      "File \u001B[1;32m~\\Documents\\Dev\\Anaconda\\Lib\\urllib\\request.py:557\u001B[0m, in \u001B[0;36mOpenerDirector.error\u001B[1;34m(self, proto, *args)\u001B[0m\n\u001B[0;32m    555\u001B[0m     http_err \u001B[38;5;241m=\u001B[39m \u001B[38;5;241m0\u001B[39m\n\u001B[0;32m    556\u001B[0m args \u001B[38;5;241m=\u001B[39m (\u001B[38;5;28mdict\u001B[39m, proto, meth_name) \u001B[38;5;241m+\u001B[39m args\n\u001B[1;32m--> 557\u001B[0m result \u001B[38;5;241m=\u001B[39m \u001B[38;5;28mself\u001B[39m\u001B[38;5;241m.\u001B[39m_call_chain(\u001B[38;5;241m*\u001B[39margs)\n\u001B[0;32m    558\u001B[0m \u001B[38;5;28;01mif\u001B[39;00m result:\n\u001B[0;32m    559\u001B[0m     \u001B[38;5;28;01mreturn\u001B[39;00m result\n",
      "File \u001B[1;32m~\\Documents\\Dev\\Anaconda\\Lib\\urllib\\request.py:496\u001B[0m, in \u001B[0;36mOpenerDirector._call_chain\u001B[1;34m(self, chain, kind, meth_name, *args)\u001B[0m\n\u001B[0;32m    494\u001B[0m \u001B[38;5;28;01mfor\u001B[39;00m handler \u001B[38;5;129;01min\u001B[39;00m handlers:\n\u001B[0;32m    495\u001B[0m     func \u001B[38;5;241m=\u001B[39m \u001B[38;5;28mgetattr\u001B[39m(handler, meth_name)\n\u001B[1;32m--> 496\u001B[0m     result \u001B[38;5;241m=\u001B[39m func(\u001B[38;5;241m*\u001B[39margs)\n\u001B[0;32m    497\u001B[0m     \u001B[38;5;28;01mif\u001B[39;00m result \u001B[38;5;129;01mis\u001B[39;00m \u001B[38;5;129;01mnot\u001B[39;00m \u001B[38;5;28;01mNone\u001B[39;00m:\n\u001B[0;32m    498\u001B[0m         \u001B[38;5;28;01mreturn\u001B[39;00m result\n",
      "File \u001B[1;32m~\\Documents\\Dev\\Anaconda\\Lib\\urllib\\request.py:749\u001B[0m, in \u001B[0;36mHTTPRedirectHandler.http_error_302\u001B[1;34m(self, req, fp, code, msg, headers)\u001B[0m\n\u001B[0;32m    746\u001B[0m fp\u001B[38;5;241m.\u001B[39mread()\n\u001B[0;32m    747\u001B[0m fp\u001B[38;5;241m.\u001B[39mclose()\n\u001B[1;32m--> 749\u001B[0m \u001B[38;5;28;01mreturn\u001B[39;00m \u001B[38;5;28mself\u001B[39m\u001B[38;5;241m.\u001B[39mparent\u001B[38;5;241m.\u001B[39mopen(new, timeout\u001B[38;5;241m=\u001B[39mreq\u001B[38;5;241m.\u001B[39mtimeout)\n",
      "File \u001B[1;32m~\\Documents\\Dev\\Anaconda\\Lib\\urllib\\request.py:525\u001B[0m, in \u001B[0;36mOpenerDirector.open\u001B[1;34m(self, fullurl, data, timeout)\u001B[0m\n\u001B[0;32m    523\u001B[0m \u001B[38;5;28;01mfor\u001B[39;00m processor \u001B[38;5;129;01min\u001B[39;00m \u001B[38;5;28mself\u001B[39m\u001B[38;5;241m.\u001B[39mprocess_response\u001B[38;5;241m.\u001B[39mget(protocol, []):\n\u001B[0;32m    524\u001B[0m     meth \u001B[38;5;241m=\u001B[39m \u001B[38;5;28mgetattr\u001B[39m(processor, meth_name)\n\u001B[1;32m--> 525\u001B[0m     response \u001B[38;5;241m=\u001B[39m meth(req, response)\n\u001B[0;32m    527\u001B[0m \u001B[38;5;28;01mreturn\u001B[39;00m response\n",
      "File \u001B[1;32m~\\Documents\\Dev\\Anaconda\\Lib\\urllib\\request.py:634\u001B[0m, in \u001B[0;36mHTTPErrorProcessor.http_response\u001B[1;34m(self, request, response)\u001B[0m\n\u001B[0;32m    631\u001B[0m \u001B[38;5;66;03m# According to RFC 2616, \"2xx\" code indicates that the client's\u001B[39;00m\n\u001B[0;32m    632\u001B[0m \u001B[38;5;66;03m# request was successfully received, understood, and accepted.\u001B[39;00m\n\u001B[0;32m    633\u001B[0m \u001B[38;5;28;01mif\u001B[39;00m \u001B[38;5;129;01mnot\u001B[39;00m (\u001B[38;5;241m200\u001B[39m \u001B[38;5;241m<\u001B[39m\u001B[38;5;241m=\u001B[39m code \u001B[38;5;241m<\u001B[39m \u001B[38;5;241m300\u001B[39m):\n\u001B[1;32m--> 634\u001B[0m     response \u001B[38;5;241m=\u001B[39m \u001B[38;5;28mself\u001B[39m\u001B[38;5;241m.\u001B[39mparent\u001B[38;5;241m.\u001B[39merror(\n\u001B[0;32m    635\u001B[0m         \u001B[38;5;124m'\u001B[39m\u001B[38;5;124mhttp\u001B[39m\u001B[38;5;124m'\u001B[39m, request, response, code, msg, hdrs)\n\u001B[0;32m    637\u001B[0m \u001B[38;5;28;01mreturn\u001B[39;00m response\n",
      "File \u001B[1;32m~\\Documents\\Dev\\Anaconda\\Lib\\urllib\\request.py:563\u001B[0m, in \u001B[0;36mOpenerDirector.error\u001B[1;34m(self, proto, *args)\u001B[0m\n\u001B[0;32m    561\u001B[0m \u001B[38;5;28;01mif\u001B[39;00m http_err:\n\u001B[0;32m    562\u001B[0m     args \u001B[38;5;241m=\u001B[39m (\u001B[38;5;28mdict\u001B[39m, \u001B[38;5;124m'\u001B[39m\u001B[38;5;124mdefault\u001B[39m\u001B[38;5;124m'\u001B[39m, \u001B[38;5;124m'\u001B[39m\u001B[38;5;124mhttp_error_default\u001B[39m\u001B[38;5;124m'\u001B[39m) \u001B[38;5;241m+\u001B[39m orig_args\n\u001B[1;32m--> 563\u001B[0m     \u001B[38;5;28;01mreturn\u001B[39;00m \u001B[38;5;28mself\u001B[39m\u001B[38;5;241m.\u001B[39m_call_chain(\u001B[38;5;241m*\u001B[39margs)\n",
      "File \u001B[1;32m~\\Documents\\Dev\\Anaconda\\Lib\\urllib\\request.py:496\u001B[0m, in \u001B[0;36mOpenerDirector._call_chain\u001B[1;34m(self, chain, kind, meth_name, *args)\u001B[0m\n\u001B[0;32m    494\u001B[0m \u001B[38;5;28;01mfor\u001B[39;00m handler \u001B[38;5;129;01min\u001B[39;00m handlers:\n\u001B[0;32m    495\u001B[0m     func \u001B[38;5;241m=\u001B[39m \u001B[38;5;28mgetattr\u001B[39m(handler, meth_name)\n\u001B[1;32m--> 496\u001B[0m     result \u001B[38;5;241m=\u001B[39m func(\u001B[38;5;241m*\u001B[39margs)\n\u001B[0;32m    497\u001B[0m     \u001B[38;5;28;01mif\u001B[39;00m result \u001B[38;5;129;01mis\u001B[39;00m \u001B[38;5;129;01mnot\u001B[39;00m \u001B[38;5;28;01mNone\u001B[39;00m:\n\u001B[0;32m    498\u001B[0m         \u001B[38;5;28;01mreturn\u001B[39;00m result\n",
      "File \u001B[1;32m~\\Documents\\Dev\\Anaconda\\Lib\\urllib\\request.py:643\u001B[0m, in \u001B[0;36mHTTPDefaultErrorHandler.http_error_default\u001B[1;34m(self, req, fp, code, msg, hdrs)\u001B[0m\n\u001B[0;32m    642\u001B[0m \u001B[38;5;28;01mdef\u001B[39;00m \u001B[38;5;21mhttp_error_default\u001B[39m(\u001B[38;5;28mself\u001B[39m, req, fp, code, msg, hdrs):\n\u001B[1;32m--> 643\u001B[0m     \u001B[38;5;28;01mraise\u001B[39;00m HTTPError(req\u001B[38;5;241m.\u001B[39mfull_url, code, msg, hdrs, fp)\n",
      "\u001B[1;31mHTTPError\u001B[0m: HTTP Error 429: Too many requests. Please comply with the User-Agent policy to get a higher rate limit: https://meta.wikimedia.org/wiki/User-Agent_policy"
     ]
    }
   ],
   "source": [
    "dataframe = getData()\n",
    "for i in range(len(dataframe.index)):\n",
    "    # On télécharge l'image\n",
    "    link = dataframe._get_value(i,\"link\")\n",
    "    path = dataframe._get_value(i,\"path\")\n",
    "    response = urllib.request.urlretrieve(link, path)\n",
    "\n",
    "\n",
    " \n",
    "img = io.imread(path)\n",
    "io.imshow(img)"
   ]
  },
  {
   "cell_type": "markdown",
   "metadata": {},
   "source": [
    "### Récupération des Données EXIFS"
   ]
  },
  {
   "cell_type": "code",
   "execution_count": 8,
   "metadata": {
    "ExecuteTime": {
     "end_time": "2024-03-25T07:34:00.788674800Z",
     "start_time": "2024-03-25T07:34:00.317221400Z"
    }
   },
   "outputs": [
    {
     "name": "stderr",
     "output_type": "stream",
     "text": [
      "C:\\Users\\tomgr\\AppData\\Local\\Temp\\ipykernel_18216\\3307934254.py:4: FutureWarning: The behavior of 'to_datetime' with 'unit' when parsing strings is deprecated. In a future version, strings will be parsed as datetime strings, matching the behavior without a 'unit'. To retain the old behavior, explicitly cast ints or floats to numeric type before calling to_datetime.\n",
      "  dataframe = pandas.read_json(f, orient='index')\n"
     ]
    },
    {
     "ename": "FileNotFoundError",
     "evalue": "[Errno 2] No such file or directory: './images/Stonehenge.jpg'",
     "output_type": "error",
     "traceback": [
      "\u001B[1;31m---------------------------------------------------------------------------\u001B[0m",
      "\u001B[1;31mFileNotFoundError\u001B[0m                         Traceback (most recent call last)",
      "Cell \u001B[1;32mIn[8], line 13\u001B[0m\n\u001B[0;32m     11\u001B[0m \u001B[38;5;28;01mfor\u001B[39;00m i \u001B[38;5;129;01min\u001B[39;00m \u001B[38;5;28mrange\u001B[39m(\u001B[38;5;28mlen\u001B[39m(dataframe\u001B[38;5;241m.\u001B[39mindex)):\n\u001B[0;32m     12\u001B[0m     path \u001B[38;5;241m=\u001B[39m dataframe\u001B[38;5;241m.\u001B[39m_get_value(i,\u001B[38;5;124m\"\u001B[39m\u001B[38;5;124mpath\u001B[39m\u001B[38;5;124m\"\u001B[39m)\n\u001B[1;32m---> 13\u001B[0m     img \u001B[38;5;241m=\u001B[39m PIL\u001B[38;5;241m.\u001B[39mImage\u001B[38;5;241m.\u001B[39mopen(path)\n\u001B[0;32m     14\u001B[0m     exif_data \u001B[38;5;241m=\u001B[39m img\u001B[38;5;241m.\u001B[39m_getexif()\n\u001B[0;32m     15\u001B[0m     img\u001B[38;5;241m.\u001B[39mclose()\n",
      "File \u001B[1;32m~\\Documents\\Dev\\Anaconda\\Lib\\site-packages\\PIL\\Image.py:3247\u001B[0m, in \u001B[0;36mopen\u001B[1;34m(fp, mode, formats)\u001B[0m\n\u001B[0;32m   3244\u001B[0m     filename \u001B[38;5;241m=\u001B[39m fp\n\u001B[0;32m   3246\u001B[0m \u001B[38;5;28;01mif\u001B[39;00m filename:\n\u001B[1;32m-> 3247\u001B[0m     fp \u001B[38;5;241m=\u001B[39m builtins\u001B[38;5;241m.\u001B[39mopen(filename, \u001B[38;5;124m\"\u001B[39m\u001B[38;5;124mrb\u001B[39m\u001B[38;5;124m\"\u001B[39m)\n\u001B[0;32m   3248\u001B[0m     exclusive_fp \u001B[38;5;241m=\u001B[39m \u001B[38;5;28;01mTrue\u001B[39;00m\n\u001B[0;32m   3250\u001B[0m \u001B[38;5;28;01mtry\u001B[39;00m:\n",
      "\u001B[1;31mFileNotFoundError\u001B[0m: [Errno 2] No such file or directory: './images/Stonehenge.jpg'"
     ]
    }
   ],
   "source": [
    "dataframe = getData()\n",
    "\n",
    "wantedExifs = [274, 315, 306, 272]\n",
    "columnNames = [\"orientation\", \"artist\", \"dateTaken\", 'appareil']\n",
    "\n",
    "for i,tag in enumerate(wantedExifs):\n",
    "    dataframe[columnNames[i]] = None\n",
    "    \n",
    "\n",
    "# On parcourt les entrées\n",
    "for i in range(len(dataframe.index)):\n",
    "    path = dataframe._get_value(i,\"path\")\n",
    "    img = PIL.Image.open(path)\n",
    "    exif_data = img._getexif()\n",
    "    img.close()\n",
    "\n",
    "    dataframe.at[i, \"size\"] = img.size\n",
    "    if img.size[0] < img.size[1]:\n",
    "        dataframe.at[i, \"orientation\"] = 0\n",
    "    else:\n",
    "        dataframe.at[i, \"orientation\"] = 1\n",
    "\n",
    "    if exif_data:\n",
    "      for tag in exif_data:\n",
    "            if tag in wantedExifs:\n",
    "                dataframe.at[i, columnNames[wantedExifs.index(tag)]] = exif_data[tag]\n",
    "                \n",
    "dataframe.astype({'orientation': 'int32'})\n",
    "\n",
    "# On enregistre les données au format JSON\n",
    "saveData(dataframe)\n",
    "        \n",
    "dataframe \n"
   ]
  },
  {
   "cell_type": "markdown",
   "source": [
    "## 2. Annotation des images"
   ],
   "metadata": {
    "collapsed": false
   }
  },
  {
   "cell_type": "markdown",
   "source": [
    "### Fonction pour récupérer et ajouter le tag siècle"
   ],
   "metadata": {
    "collapsed": false
   }
  },
  {
   "cell_type": "code",
   "outputs": [],
   "source": [
    "def find_century(year): #Permet de trouver le siècle à partir de l'année\n",
    "    year = int(year)\n",
    "    if (year <= 0): \n",
    "        cent_tag=(\"#Antiquité\")\n",
    "    elif (year <= 100):\n",
    "        cent_tag =\"#1er siècle\"\n",
    "    elif (year % 100 == 0):\n",
    "        cent_tag=\"#\"+str(year // 100)+\"ème siècle\"\n",
    "    else:\n",
    "        cent_tag=\"#\"+str(year // 100 + 1)+\"ème siècle\"\n",
    "    return cent_tag\n",
    "\n",
    "def add_century_tag(dataframe): #Permet d'ajouter le tag siècle à chaque ligne du dataframe\n",
    "    for i in range(len(dataframe.index)):\n",
    "        year = dataframe._get_value(i,\"date\")\n",
    "        if year is not None: #Prise en charge du cas où le monument n'a pas de date précise de construction\n",
    "            dataframe.at[i, \"tags\"].append(find_century(year))\n",
    "        else:\n",
    "            dataframe.at[i, \"tags\"].append(\"#Inconnu\")\n",
    "    return dataframe"
   ],
   "metadata": {
    "collapsed": false,
    "ExecuteTime": {
     "start_time": "2024-03-25T07:12:04.475512200Z"
    }
   },
   "execution_count": null
  },
  {
   "cell_type": "markdown",
   "source": [
    "### Test Ajout du tag siècle"
   ],
   "metadata": {
    "collapsed": false
   }
  },
  {
   "cell_type": "code",
   "outputs": [],
   "source": [
    "add_century_tag(dataframe)"
   ],
   "metadata": {
    "collapsed": false,
    "ExecuteTime": {
     "end_time": "2024-03-25T07:12:04.499516Z",
     "start_time": "2024-03-25T07:12:04.479515500Z"
    }
   },
   "execution_count": null
  },
  {
   "cell_type": "markdown",
   "source": [
    "### Test Ajout des tags country et style"
   ],
   "metadata": {
    "collapsed": false
   }
  },
  {
   "cell_type": "code",
   "outputs": [],
   "source": [
    "AddCountryTags(dataframe)"
   ],
   "metadata": {
    "collapsed": false,
    "ExecuteTime": {
     "start_time": "2024-03-25T07:12:04.482515400Z"
    }
   },
   "execution_count": null
  },
  {
   "cell_type": "code",
   "outputs": [],
   "source": [
    "AddStyleTags(dataframe)"
   ],
   "metadata": {
    "collapsed": false,
    "ExecuteTime": {
     "start_time": "2024-03-25T07:12:04.487515500Z"
    }
   },
   "execution_count": null
  },
  {
   "cell_type": "markdown",
   "metadata": {},
   "source": [
    "## Analyse des Données"
   ]
  },
  {
   "cell_type": "markdown",
   "metadata": {},
   "source": [
    "### Kmeans et Couleurs dominantes"
   ]
  },
  {
   "cell_type": "code",
   "execution_count": 9,
   "metadata": {
    "ExecuteTime": {
     "end_time": "2024-03-25T07:44:59.967934800Z",
     "start_time": "2024-03-25T07:44:54.761816500Z"
    }
   },
   "outputs": [
    {
     "name": "stderr",
     "output_type": "stream",
     "text": [
      "C:\\Users\\tomgr\\AppData\\Local\\Temp\\ipykernel_18216\\3307934254.py:4: FutureWarning: The behavior of 'to_datetime' with 'unit' when parsing strings is deprecated. In a future version, strings will be parsed as datetime strings, matching the behavior without a 'unit'. To retain the old behavior, explicitly cast ints or floats to numeric type before calling to_datetime.\n",
      "  dataframe = pandas.read_json(f, orient='index')\n"
     ]
    },
    {
     "ename": "FileNotFoundError",
     "evalue": "[Errno 2] No such file or directory: './images/Stonehenge.jpg'",
     "output_type": "error",
     "traceback": [
      "\u001B[1;31m---------------------------------------------------------------------------\u001B[0m",
      "\u001B[1;31mFileNotFoundError\u001B[0m                         Traceback (most recent call last)",
      "Cell \u001B[1;32mIn[9], line 12\u001B[0m\n\u001B[0;32m      8\u001B[0m kmeans \u001B[38;5;241m=\u001B[39m KMeans(n_clusters\u001B[38;5;241m=\u001B[39mnColors, random_state\u001B[38;5;241m=\u001B[39m\u001B[38;5;241m0\u001B[39m, n_init\u001B[38;5;241m=\u001B[39m\u001B[38;5;124m\"\u001B[39m\u001B[38;5;124mauto\u001B[39m\u001B[38;5;124m\"\u001B[39m)\n\u001B[0;32m     11\u001B[0m \u001B[38;5;28;01mfor\u001B[39;00m i, path \u001B[38;5;129;01min\u001B[39;00m \u001B[38;5;28menumerate\u001B[39m(dataframe[\u001B[38;5;124m\"\u001B[39m\u001B[38;5;124mpath\u001B[39m\u001B[38;5;124m\"\u001B[39m]):\n\u001B[1;32m---> 12\u001B[0m     img \u001B[38;5;241m=\u001B[39m PIL\u001B[38;5;241m.\u001B[39mImage\u001B[38;5;241m.\u001B[39mopen(path)\u001B[38;5;241m.\u001B[39mconvert(\u001B[38;5;124m'\u001B[39m\u001B[38;5;124mRGB\u001B[39m\u001B[38;5;124m'\u001B[39m)\n\u001B[0;32m     13\u001B[0m     pixelData \u001B[38;5;241m=\u001B[39m numpy\u001B[38;5;241m.\u001B[39marray(img)\u001B[38;5;241m.\u001B[39mreshape(\u001B[38;5;241m-\u001B[39m\u001B[38;5;241m1\u001B[39m, \u001B[38;5;241m3\u001B[39m)[::laziness]\n\u001B[0;32m     14\u001B[0m     kmeans\u001B[38;5;241m.\u001B[39mfit(pixelData)\n",
      "File \u001B[1;32m~\\Documents\\Dev\\Anaconda\\Lib\\site-packages\\PIL\\Image.py:3247\u001B[0m, in \u001B[0;36mopen\u001B[1;34m(fp, mode, formats)\u001B[0m\n\u001B[0;32m   3244\u001B[0m     filename \u001B[38;5;241m=\u001B[39m fp\n\u001B[0;32m   3246\u001B[0m \u001B[38;5;28;01mif\u001B[39;00m filename:\n\u001B[1;32m-> 3247\u001B[0m     fp \u001B[38;5;241m=\u001B[39m builtins\u001B[38;5;241m.\u001B[39mopen(filename, \u001B[38;5;124m\"\u001B[39m\u001B[38;5;124mrb\u001B[39m\u001B[38;5;124m\"\u001B[39m)\n\u001B[0;32m   3248\u001B[0m     exclusive_fp \u001B[38;5;241m=\u001B[39m \u001B[38;5;28;01mTrue\u001B[39;00m\n\u001B[0;32m   3250\u001B[0m \u001B[38;5;28;01mtry\u001B[39;00m:\n",
      "\u001B[1;31mFileNotFoundError\u001B[0m: [Errno 2] No such file or directory: './images/Stonehenge.jpg'"
     ]
    }
   ],
   "source": [
    "dataframe = getData()\n",
    "dataframe[\"dColors\"] = None\n",
    "dataframe[\"dProportions\"] = None\n",
    "\n",
    "nColors = 6\n",
    "laziness = 100\n",
    "\n",
    "kmeans = KMeans(n_clusters=nColors, random_state=0, n_init=\"auto\")\n",
    "\n",
    "\n",
    "for i, path in enumerate(dataframe[\"path\"]):\n",
    "    img = PIL.Image.open(path).convert('RGB')\n",
    "    pixelData = numpy.array(img).reshape(-1, 3)[::laziness]\n",
    "    kmeans.fit(pixelData)\n",
    "\n",
    "    proportions = numpy.array([0 for i in range(nColors)])\n",
    "    for x in kmeans.labels_:\n",
    "        proportions[x] += numpy.float64(1)\n",
    "    proportions = proportions / kmeans.labels_.size\n",
    "\n",
    "    dataframe.at[i,\"dColors\"] = numpy.int32(kmeans.cluster_centers_)\n",
    "    dataframe.at[i,\"dProportions\"] = proportions\n",
    "    \n",
    "saveData(dataframe)\n",
    "\n"
   ]
  },
  {
   "cell_type": "code",
   "execution_count": null,
   "metadata": {
    "ExecuteTime": {
     "end_time": "2024-03-25T07:12:04.539515300Z",
     "start_time": "2024-03-25T07:12:04.502513600Z"
    }
   },
   "outputs": [],
   "source": [
    "# Création de la dataframe des utilisateurs\n",
    "\n",
    "array = [['default',[],[]]]\n",
    "usersDataframe = pandas.DataFrame(array, columns=['name', 'likes','dislikes'])\n",
    "\n",
    "saveUsers(usersDataframe)\n",
    "\n",
    "usersDataframe"
   ]
  },
  {
   "cell_type": "code",
   "execution_count": null,
   "metadata": {
    "ExecuteTime": {
     "start_time": "2024-03-25T07:12:04.504513100Z"
    }
   },
   "outputs": [],
   "source": [
    "def addUser(name):\n",
    "    usersDf = getUsers()\n",
    "    usersDf.loc[len(usersDf.index)] = [name,[],[]] \n",
    "    saveUsers(usersDf)\n",
    "    "
   ]
  },
  {
   "cell_type": "code",
   "execution_count": null,
   "metadata": {
    "ExecuteTime": {
     "start_time": "2024-03-25T07:12:04.506517200Z"
    }
   },
   "outputs": [],
   "source": [
    "from sklearn.model_selection import train_test_split\n",
    "from sklearn import svm\n",
    "from sklearn.preprocessing import LabelEncoder\n",
    "from sklearn.metrics import accuracy_score\n",
    "\n",
    "def getRecommandation(user):\n",
    "\n",
    "    likedImages = getUsers()[\"likes\"][getUsers().index[\"name\" == user].tolist()[0]]\n",
    "    dislikedImages = getUsers()[\"dislikes\"][getUsers().index[\"name\" == user].tolist()[0]]\n",
    "\n",
    "    trainDataIndexes = likedImages + dislikedImages\n",
    "    result = []\n",
    "    for i in trainDataIndexes:\n",
    "        if i in likedImages:\n",
    "            result.append(\"likes\")\n",
    "        else:\n",
    "            result.append(\"dislikes\")\n",
    "    \n",
    "    data = numpy.array(getData()[['tags','orientation']])\n",
    "    trainData = [trainData[i] for i in trainDataIndexes]\n",
    "    \n",
    "    for i in range(trainData.shape[0]):\n",
    "        for j in range(trainData.shape[1]):\n",
    "            trainData[i][j] = str(trainData[i][j])\n",
    "\n",
    "\n",
    "    # Encode categorical features and labels\n",
    "    label_encoders = [LabelEncoder() for _ in range(len(trainData[0]))]\n",
    "    encoded_data = []\n",
    "    for i, column in enumerate(zip(*trainData)):\n",
    "        encoded_data.append(label_encoders[i].fit_transform(column))\n",
    "\n",
    "    X = list(zip(*encoded_data))  # Features\n",
    "    y = result  # Labels\n",
    "\n",
    "\n",
    "    # Split the data into training and testing sets\n",
    "    X_train, X_test, y_train, y_test = train_test_split(X, y, test_size=0.2, random_state=42)\n",
    "\n",
    "    classifier = svm.SVC()\n",
    "    classifier.fit(X_train, y_train)\n",
    "    y_pred = classifier.predict(X_test)\n",
    "\n",
    "    # Evaluate the classifier\n",
    "    accuracy = accuracy_score(y_test, y_pred)\n",
    "    print(f\"Accuracy: {accuracy}\")\n",
    "\n",
    "    # prediction\n",
    "    for item in data:\n",
    "\n",
    "        sample_item = numpy.array(getData()[['tags','orientation']])[-1]\n",
    "        sample_item = [str(attribute) for attribute in sample_item]\n",
    "\n",
    "    encoded_item = [label_encoders[i].transform([val])[0] for i, val in enumerate(sample_item)]\n",
    "    prediction = classifier.predict([encoded_item])[0]\n",
    "    print(f\"Prediction for the sample item: {prediction}\")\n"
   ]
  },
  {
   "cell_type": "markdown",
   "metadata": {},
   "source": [
    "## Visualisation des Données"
   ]
  },
  {
   "cell_type": "code",
   "execution_count": null,
   "metadata": {
    "ExecuteTime": {
     "start_time": "2024-03-25T07:12:04.508515600Z"
    }
   },
   "outputs": [],
   "source": [
    "dataframe = getData()\n",
    "\n",
    "criteriaToColumn = {'year':'dateTaken', 'orientation':'orientation'}\n",
    "criteria = ''\n",
    "while criteria not in criteriaToColumn :\n",
    "    criteria = input('criteria :')\n",
    "\n",
    "\n",
    "categories = ['unknown']\n",
    "cardinals  = [0]\n",
    "\n",
    "\n",
    "for i in range(len(dataframe.index)):\n",
    "    value = str(dataframe._get_value(i, criteriaToColumn[criteria]))\n",
    "\n",
    "    if value != 'None':\n",
    "        if criteria == 'year':\n",
    "            value = value.split(':')[0].strip()\n",
    "        elif criteria == 'orientation':\n",
    "            value = {'0':\"Portrait\", '1':\"Landscape\"}[value]\n",
    "\n",
    "        if value in categories:\n",
    "            cardinals[categories.index(value)] += 1\n",
    "        else:\n",
    "            categories.append(value)\n",
    "            cardinals.append(1)\n",
    "    else:\n",
    "        cardinals[0] += 1\n",
    "\n",
    "\n",
    "plt.bar(categories, cardinals)"
   ]
  },
  {
   "cell_type": "code",
   "execution_count": null,
   "metadata": {
    "ExecuteTime": {
     "start_time": "2024-03-25T07:12:04.510513600Z"
    }
   },
   "outputs": [],
   "source": [
    "dataframe = getData()\n",
    "\n",
    "imageIndex = randint(0, len(dataframe['label']))\n",
    "\n",
    "fig, ax = plt.subplots(1,2)\n",
    "\n",
    "ax[0].pie(dataframe.at[imageIndex,\"dProportions\"], colors=(numpy.array(dataframe.at[imageIndex, \"dColors\"])/255))\n",
    "ax[1].imshow(PIL.Image.open(dataframe.at[imageIndex, \"path\"]))\n"
   ]
  },
  {
   "cell_type": "markdown",
   "metadata": {},
   "source": [
    "## Application"
   ]
  },
  {
   "cell_type": "code",
   "execution_count": null,
   "metadata": {
    "ExecuteTime": {
     "start_time": "2024-03-25T07:12:04.512514300Z"
    }
   },
   "outputs": [],
   "source": [
    "wTab = ipywidgets.widgets.Tab()\n",
    "currentUser = 'default'\n",
    "\n",
    "\n",
    "# UsersWidget\n",
    "wCurrentUser = ipywidgets.widgets.Dropdown(\n",
    "    options=getUsers()['name'],\n",
    "    value='default',\n",
    "    description='Current User :',\n",
    "    disabled=False\n",
    ")\n",
    "def updateCurrentUser(tmp):\n",
    "    global currentUser\n",
    "    currentUser = wCurrentUser.value\n",
    "wCurrentUser.observe(updateCurrentUser)\n",
    "\n",
    "def updateUserWidget():\n",
    "    wCurrentUser.options = getUsers()['name']\n",
    "\n",
    "# Create User Tab\n",
    "wUsername = ipywidgets.widgets.Text(\n",
    "    value='',\n",
    "    placeholder='',\n",
    "    description='Username:',\n",
    "    disabled=False   \n",
    ")\n",
    "wBtnCreateUser = ipywidgets.widgets.Button(\n",
    "    description='Create',\n",
    "    disabled=False,\n",
    "    button_style='', # 'success', 'info', 'warning', 'danger' or ''\n",
    "    tooltip='Creates a new user',\n",
    "    icon='check' # (FontAwesome names without the `fa-` prefix)\n",
    ")\n",
    "\n",
    "def createUser(tmp):\n",
    "    newUser = wUsername.value\n",
    "    addUser(newUser)\n",
    "    updateUserWidget()\n",
    "\n",
    "\n",
    "wBtnCreateUser.on_click(createUser)\n",
    "\n",
    "wBoxCreateUser = ipywidgets.HBox([wUsername,wBtnCreateUser])\n",
    "\n",
    "# Random Images Tab\n",
    "dataframe = getData()\n",
    "imagePaths = dataframe['path']\n",
    "\n",
    "wBtnGetRnd = ipywidgets.widgets.Button(description=\"Get new random Images\")\n",
    "wBtnSelect = ipywidgets.widgets.Button(description=\"Validate Likes\")\n",
    "\n",
    "\n",
    "\n",
    "rowArray = [wBtnGetRnd]\n",
    "wCheckArray = []\n",
    "wImgLayout = ipywidgets.Layout(width = '60%')\n",
    "cellLayout = ipywidgets.Layout(width = '50%', border = '3px')\n",
    "def getRandomImages(tmp):\n",
    "    cellArray = []\n",
    "\n",
    "    global rowArray\n",
    "    global wCheckArray\n",
    "\n",
    "    rowArray = [wBtnGetRnd]\n",
    "    wCheckArray = []\n",
    "\n",
    "    for i,path in enumerate(imagePaths[:7]):\n",
    "        with open(path, \"rb\") as f :\n",
    "            wImg   = ipywidgets.widgets.Image(value=f.read(), layout = wImgLayout)\n",
    "            wCheckArray.append(ipywidgets.Checkbox())\n",
    "            cellArray.append(ipywidgets.HBox([wImg, wCheckArray[-1]], layout = cellLayout))\n",
    "        if (i+1)%3 == 0:\n",
    "            rowArray.append(ipywidgets.HBox(cellArray))\n",
    "            cellArray = []\n",
    "    rowArray.append(wBtnSelect)\n",
    "    updateTab(rowArray)\n",
    "\n",
    "wBtnGetRnd.on_click(getRandomImages)\n",
    "\n",
    "\n",
    "def get_likes(btn):\n",
    "    likedImagePaths    = [imagePaths[i] for i, wCheck in enumerate(wCheckArray) if wCheck.value]\n",
    "    dislikedImagePaths = [path for path in imagePaths if(path not in likedImagePaths)]\n",
    "\n",
    "    likedImages    = [dataframe.index[dataframe['path'] == path].tolist()[0] for path in likedImagePaths]\n",
    "    dislikedImages = [dataframe.index[dataframe['path'] == path].tolist()[0] for path in dislikedImagePaths]\n",
    "    \n",
    "    \n",
    "    usersDf = getUsers()\n",
    "    currentUserIndex = usersDf.index[usersDf['name'] == currentUser].tolist()[0]\n",
    "    usersDf['likes'][currentUserIndex] = likedImages\n",
    "    usersDf['dislikes'][currentUserIndex] = dislikedImages\n",
    "    saveUsers(usersDf)\n",
    "    print(usersDf)\n",
    "\n",
    "\n",
    "wBtnSelect.on_click(get_likes)\n",
    "\n",
    "\n",
    "def updateTab(rowArray):\n",
    "    wTab.children = [wBoxCreateUser, ipywidgets.VBox(rowArray)]\n",
    "    wTab.titles   = ['User', 'Random Images']\n",
    "\n",
    "    return ipywidgets.VBox([wCurrentUser, wTab])\n",
    "\n",
    "\n",
    "updateTab(rowArray)\n",
    "\n"
   ]
  }
 ],
 "metadata": {
  "kernelspec": {
   "display_name": "Python 3",
   "language": "python",
   "name": "python3"
  },
  "language_info": {
   "codemirror_mode": {
    "name": "ipython",
    "version": 3
   },
   "file_extension": ".py",
   "mimetype": "text/x-python",
   "name": "python",
   "nbconvert_exporter": "python",
   "pygments_lexer": "ipython3",
   "version": "3.11.4"
  }
 },
 "nbformat": 4,
 "nbformat_minor": 2
}
