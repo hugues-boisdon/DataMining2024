{
 "cells": [
  {
   "cell_type": "markdown",
   "metadata": {},
   "source": [
    "# Projet"
   ]
  },
  {
   "cell_type": "markdown",
   "metadata": {},
   "source": [
    "### Imports"
   ]
  },
  {
   "cell_type": "code",
   "execution_count": 9,
   "metadata": {
    "ExecuteTime": {
     "end_time": "2024-03-06T14:59:47.435500800Z",
     "start_time": "2024-03-06T14:59:47.421791200Z"
    }
   },
   "outputs": [],
   "source": [
    "# Imports\n",
    "import glob, os\n",
    "import pandas\n",
    "import urllib\n",
    "from SPARQLWrapper import SPARQLWrapper\n",
    "import PIL.Image"
   ]
  },
  {
   "cell_type": "markdown",
   "metadata": {},
   "source": [
    "## 1. Collecte de données"
   ]
  },
  {
   "cell_type": "markdown",
   "metadata": {},
   "source": [
    "### Dataframe Functions"
   ]
  },
  {
   "cell_type": "code",
   "execution_count": 10,
   "metadata": {
    "ExecuteTime": {
     "end_time": "2024-03-06T14:59:47.449082400Z",
     "start_time": "2024-03-06T14:59:47.429488800Z"
    }
   },
   "outputs": [],
   "source": [
    "def jsonToDataframe(path):   \n",
    "    with open(path, \"r\", encoding=\"utf-8\") as f:\n",
    "        dataframe = pandas.read_json(f, orient='index')\n",
    "    return dataframe\n",
    "\n",
    "def dataframeToJson(path, dataframe):   \n",
    "    with open(path, \"w\", encoding=\"utf-8\") as f:\n",
    "        f.write(dataframe.to_json(orient='index', indent=2))"
   ]
  },
  {
   "cell_type": "markdown",
   "metadata": {},
   "source": [
    "### Récupération du résultat d'une query Wikidata"
   ]
  },
  {
   "cell_type": "code",
   "execution_count": 11,
   "metadata": {
    "ExecuteTime": {
     "end_time": "2024-03-06T14:59:48.945127300Z",
     "start_time": "2024-03-06T14:59:47.439015700Z"
    }
   },
   "outputs": [
    {
     "data": {
      "text/plain": "                          label  \\\n0          Canale dei Buranelli   \n1  Monument to Pedro IV (Porto)   \n2         Sunken Ships Monument   \n3          Lu Xun Memorial Hall   \n4               Slovak monument   \n\n                                                link entityID format  \\\n0  http://commons.wikimedia.org/wiki/Special:File...    Q5583    jpg   \n1  http://commons.wikimedia.org/wiki/Special:File...   Q11783    JPG   \n2  http://commons.wikimedia.org/wiki/Special:File...   Q14681    jpg   \n3  http://commons.wikimedia.org/wiki/Special:File...   Q23180    jpg   \n4  http://commons.wikimedia.org/wiki/Special:File...   Q25477    jpg   \n\n                                        path  size         tags  \n0          ./images/Canale dei Buranelli.jpg  None  [#monument]  \n1  ./images/Monument to Pedro IV (Porto).JPG  None  [#monument]  \n2         ./images/Sunken Ships Monument.jpg  None  [#monument]  \n3          ./images/Lu Xun Memorial Hall.jpg  None  [#monument]  \n4               ./images/Slovak monument.jpg  None  [#monument]  ",
      "text/html": "<div>\n<style scoped>\n    .dataframe tbody tr th:only-of-type {\n        vertical-align: middle;\n    }\n\n    .dataframe tbody tr th {\n        vertical-align: top;\n    }\n\n    .dataframe thead th {\n        text-align: right;\n    }\n</style>\n<table border=\"1\" class=\"dataframe\">\n  <thead>\n    <tr style=\"text-align: right;\">\n      <th></th>\n      <th>label</th>\n      <th>link</th>\n      <th>entityID</th>\n      <th>format</th>\n      <th>path</th>\n      <th>size</th>\n      <th>tags</th>\n    </tr>\n  </thead>\n  <tbody>\n    <tr>\n      <th>0</th>\n      <td>Canale dei Buranelli</td>\n      <td>http://commons.wikimedia.org/wiki/Special:File...</td>\n      <td>Q5583</td>\n      <td>jpg</td>\n      <td>./images/Canale dei Buranelli.jpg</td>\n      <td>None</td>\n      <td>[#monument]</td>\n    </tr>\n    <tr>\n      <th>1</th>\n      <td>Monument to Pedro IV (Porto)</td>\n      <td>http://commons.wikimedia.org/wiki/Special:File...</td>\n      <td>Q11783</td>\n      <td>JPG</td>\n      <td>./images/Monument to Pedro IV (Porto).JPG</td>\n      <td>None</td>\n      <td>[#monument]</td>\n    </tr>\n    <tr>\n      <th>2</th>\n      <td>Sunken Ships Monument</td>\n      <td>http://commons.wikimedia.org/wiki/Special:File...</td>\n      <td>Q14681</td>\n      <td>jpg</td>\n      <td>./images/Sunken Ships Monument.jpg</td>\n      <td>None</td>\n      <td>[#monument]</td>\n    </tr>\n    <tr>\n      <th>3</th>\n      <td>Lu Xun Memorial Hall</td>\n      <td>http://commons.wikimedia.org/wiki/Special:File...</td>\n      <td>Q23180</td>\n      <td>jpg</td>\n      <td>./images/Lu Xun Memorial Hall.jpg</td>\n      <td>None</td>\n      <td>[#monument]</td>\n    </tr>\n    <tr>\n      <th>4</th>\n      <td>Slovak monument</td>\n      <td>http://commons.wikimedia.org/wiki/Special:File...</td>\n      <td>Q25477</td>\n      <td>jpg</td>\n      <td>./images/Slovak monument.jpg</td>\n      <td>None</td>\n      <td>[#monument]</td>\n    </tr>\n  </tbody>\n</table>\n</div>"
     },
     "execution_count": 11,
     "metadata": {},
     "output_type": "execute_result"
    }
   ],
   "source": [
    "size = 5\n",
    "dataPath = \"data.json\"\n",
    "imagesPath = \"./images/\"\n",
    "\n",
    "# Query de Wikidata\n",
    "sparql = SPARQLWrapper(\"https://query.wikidata.org/sparql\")\n",
    "query = \"\"\"\n",
    "SELECT ?item ?itemLabel ?pic WHERE {\n",
    "  ?item wdt:P31 wd:Q4989906;\n",
    "    wdt:P18 ?pic.\n",
    "  SERVICE wikibase:label { bd:serviceParam wikibase:language \"[AUTO_LANGUAGE],en\". }\n",
    "}\n",
    "LIMIT \"\"\"\n",
    "# On précise le nombre d'entrées que l'on veut\n",
    "query = query + str(size)\n",
    "\n",
    "# On récupère le résultat de la query\n",
    "sparql.setQuery(query)\n",
    "sparql.setReturnFormat(\"json\")\n",
    "results = sparql.query().convert()\n",
    "\n",
    "# On normalise les résultat pour pandas\n",
    "array = []\n",
    "for data in results[\"results\"][\"bindings\"]:\n",
    "    name = data[\"itemLabel\"][\"value\"]\n",
    "    format = data[\"pic\"][\"value\"].split(\".\")[-1]\n",
    "    path = f\"{imagesPath}{name}.{format}\"\n",
    "\n",
    "    array.append([name,  \n",
    "                  data[\"pic\"][\"value\"], \n",
    "                  data[\"item\"][\"value\"].split(sep='/')[-1],\n",
    "                  format,\n",
    "                  path,\n",
    "                  None,\n",
    "                  ['#monument']])\n",
    "                  \n",
    "\n",
    "dataframe = pandas.DataFrame(array, columns=[\"label\", \"link\", \"entityID\", \"format\", \"path\", \"size\", \"tags\"])\n",
    "\n",
    "# On enregistre les données au format JSON\n",
    "dataframeToJson(dataPath, dataframe)\n",
    "\n",
    "# Nettoyage du dossier /images\n",
    "if not os.path.isdir('./images'):\n",
    "  os.mkdir('./images')\n",
    "\n",
    "# Nettoyage du dossier /images\n",
    "else:\n",
    "  files = glob.glob('./images/*')\n",
    "  for f in files:\n",
    "      os.remove(f)\n",
    "\n",
    "\n",
    "\n",
    "dataframe\n"
   ]
  },
  {
   "cell_type": "markdown",
   "metadata": {},
   "source": [
    "### Téléchargement des Images"
   ]
  },
  {
   "cell_type": "code",
   "execution_count": 12,
   "metadata": {
    "ExecuteTime": {
     "end_time": "2024-03-06T14:59:53.575345300Z",
     "start_time": "2024-03-06T14:59:48.945127300Z"
    }
   },
   "outputs": [],
   "source": [
    "dataframe = jsonToDataframe(dataPath)\n",
    "for i in range(len(dataframe.index)):\n",
    "    # On télécharge l'image\n",
    "    link = dataframe._get_value(i,\"link\")\n",
    "    path = dataframe._get_value(i,\"path\")\n",
    "    response = urllib.request.urlretrieve(link, path)"
   ]
  },
  {
   "cell_type": "markdown",
   "metadata": {},
   "source": [
    "### Récupération des Données EXIFS"
   ]
  },
  {
   "cell_type": "code",
   "execution_count": 13,
   "metadata": {
    "ExecuteTime": {
     "end_time": "2024-03-06T14:59:55.240055800Z",
     "start_time": "2024-03-06T14:59:53.569338100Z"
    }
   },
   "outputs": [
    {
     "ename": "ValueError",
     "evalue": "Must have equal len keys and value when setting with an iterable",
     "output_type": "error",
     "traceback": [
      "\u001B[1;31m---------------------------------------------------------------------------\u001B[0m",
      "\u001B[1;31mTypeError\u001B[0m                                 Traceback (most recent call last)",
      "\u001B[1;31mTypeError\u001B[0m: float() argument must be a string or a real number, not 'tuple'",
      "\nThe above exception was the direct cause of the following exception:\n",
      "\u001B[1;31mValueError\u001B[0m                                Traceback (most recent call last)",
      "File \u001B[1;32m~\\Documents\\Dev\\Anaconda\\Lib\\site-packages\\pandas\\core\\frame.py:4551\u001B[0m, in \u001B[0;36mDataFrame._set_value\u001B[1;34m(self, index, col, value, takeable)\u001B[0m\n\u001B[0;32m   4550\u001B[0m     iindex \u001B[38;5;241m=\u001B[39m \u001B[38;5;28mself\u001B[39m\u001B[38;5;241m.\u001B[39mindex\u001B[38;5;241m.\u001B[39mget_loc(index)\n\u001B[1;32m-> 4551\u001B[0m \u001B[38;5;28mself\u001B[39m\u001B[38;5;241m.\u001B[39m_mgr\u001B[38;5;241m.\u001B[39mcolumn_setitem(icol, iindex, value, inplace_only\u001B[38;5;241m=\u001B[39m\u001B[38;5;28;01mTrue\u001B[39;00m)\n\u001B[0;32m   4552\u001B[0m \u001B[38;5;28mself\u001B[39m\u001B[38;5;241m.\u001B[39m_clear_item_cache()\n",
      "File \u001B[1;32m~\\Documents\\Dev\\Anaconda\\Lib\\site-packages\\pandas\\core\\internals\\managers.py:1336\u001B[0m, in \u001B[0;36mBlockManager.column_setitem\u001B[1;34m(self, loc, idx, value, inplace_only)\u001B[0m\n\u001B[0;32m   1335\u001B[0m \u001B[38;5;28;01mif\u001B[39;00m inplace_only:\n\u001B[1;32m-> 1336\u001B[0m     col_mgr\u001B[38;5;241m.\u001B[39msetitem_inplace(idx, value)\n\u001B[0;32m   1337\u001B[0m \u001B[38;5;28;01melse\u001B[39;00m:\n",
      "File \u001B[1;32m~\\Documents\\Dev\\Anaconda\\Lib\\site-packages\\pandas\\core\\internals\\managers.py:2043\u001B[0m, in \u001B[0;36mSingleBlockManager.setitem_inplace\u001B[1;34m(self, indexer, value, warn)\u001B[0m\n\u001B[0;32m   2037\u001B[0m         warnings\u001B[38;5;241m.\u001B[39mwarn(\n\u001B[0;32m   2038\u001B[0m             COW_WARNING_SETITEM_MSG,\n\u001B[0;32m   2039\u001B[0m             \u001B[38;5;167;01mFutureWarning\u001B[39;00m,\n\u001B[0;32m   2040\u001B[0m             stacklevel\u001B[38;5;241m=\u001B[39mfind_stack_level(),\n\u001B[0;32m   2041\u001B[0m         )\n\u001B[1;32m-> 2043\u001B[0m \u001B[38;5;28msuper\u001B[39m()\u001B[38;5;241m.\u001B[39msetitem_inplace(indexer, value)\n",
      "File \u001B[1;32m~\\Documents\\Dev\\Anaconda\\Lib\\site-packages\\pandas\\core\\internals\\base.py:363\u001B[0m, in \u001B[0;36mSingleDataManager.setitem_inplace\u001B[1;34m(self, indexer, value, warn)\u001B[0m\n\u001B[0;32m    361\u001B[0m     value \u001B[38;5;241m=\u001B[39m value[\u001B[38;5;241m0\u001B[39m, \u001B[38;5;241m.\u001B[39m\u001B[38;5;241m.\u001B[39m\u001B[38;5;241m.\u001B[39m]\n\u001B[1;32m--> 363\u001B[0m arr[indexer] \u001B[38;5;241m=\u001B[39m value\n",
      "\u001B[1;31mValueError\u001B[0m: setting an array element with a sequence.",
      "\nDuring handling of the above exception, another exception occurred:\n",
      "\u001B[1;31mValueError\u001B[0m                                Traceback (most recent call last)",
      "Cell \u001B[1;32mIn[13], line 16\u001B[0m\n\u001B[0;32m     13\u001B[0m exif_data \u001B[38;5;241m=\u001B[39m img\u001B[38;5;241m.\u001B[39m_getexif()\n\u001B[0;32m     14\u001B[0m img\u001B[38;5;241m.\u001B[39mclose()\n\u001B[1;32m---> 16\u001B[0m dataframe\u001B[38;5;241m.\u001B[39mat[i, \u001B[38;5;124m\"\u001B[39m\u001B[38;5;124msize\u001B[39m\u001B[38;5;124m\"\u001B[39m] \u001B[38;5;241m=\u001B[39m img\u001B[38;5;241m.\u001B[39msize\n\u001B[0;32m     17\u001B[0m \u001B[38;5;28;01mif\u001B[39;00m exif_data:\n\u001B[0;32m     18\u001B[0m   \u001B[38;5;28;01mfor\u001B[39;00m tag \u001B[38;5;129;01min\u001B[39;00m exif_data:\n",
      "File \u001B[1;32m~\\Documents\\Dev\\Anaconda\\Lib\\site-packages\\pandas\\core\\indexing.py:2579\u001B[0m, in \u001B[0;36m_AtIndexer.__setitem__\u001B[1;34m(self, key, value)\u001B[0m\n\u001B[0;32m   2576\u001B[0m     \u001B[38;5;28mself\u001B[39m\u001B[38;5;241m.\u001B[39mobj\u001B[38;5;241m.\u001B[39mloc[key] \u001B[38;5;241m=\u001B[39m value\n\u001B[0;32m   2577\u001B[0m     \u001B[38;5;28;01mreturn\u001B[39;00m\n\u001B[1;32m-> 2579\u001B[0m \u001B[38;5;28;01mreturn\u001B[39;00m \u001B[38;5;28msuper\u001B[39m()\u001B[38;5;241m.\u001B[39m\u001B[38;5;21m__setitem__\u001B[39m(key, value)\n",
      "File \u001B[1;32m~\\Documents\\Dev\\Anaconda\\Lib\\site-packages\\pandas\\core\\indexing.py:2535\u001B[0m, in \u001B[0;36m_ScalarAccessIndexer.__setitem__\u001B[1;34m(self, key, value)\u001B[0m\n\u001B[0;32m   2532\u001B[0m \u001B[38;5;28;01mif\u001B[39;00m \u001B[38;5;28mlen\u001B[39m(key) \u001B[38;5;241m!=\u001B[39m \u001B[38;5;28mself\u001B[39m\u001B[38;5;241m.\u001B[39mndim:\n\u001B[0;32m   2533\u001B[0m     \u001B[38;5;28;01mraise\u001B[39;00m \u001B[38;5;167;01mValueError\u001B[39;00m(\u001B[38;5;124m\"\u001B[39m\u001B[38;5;124mNot enough indexers for scalar access (setting)!\u001B[39m\u001B[38;5;124m\"\u001B[39m)\n\u001B[1;32m-> 2535\u001B[0m \u001B[38;5;28mself\u001B[39m\u001B[38;5;241m.\u001B[39mobj\u001B[38;5;241m.\u001B[39m_set_value(\u001B[38;5;241m*\u001B[39mkey, value\u001B[38;5;241m=\u001B[39mvalue, takeable\u001B[38;5;241m=\u001B[39m\u001B[38;5;28mself\u001B[39m\u001B[38;5;241m.\u001B[39m_takeable)\n",
      "File \u001B[1;32m~\\Documents\\Dev\\Anaconda\\Lib\\site-packages\\pandas\\core\\frame.py:4563\u001B[0m, in \u001B[0;36mDataFrame._set_value\u001B[1;34m(self, index, col, value, takeable)\u001B[0m\n\u001B[0;32m   4561\u001B[0m         \u001B[38;5;28mself\u001B[39m\u001B[38;5;241m.\u001B[39miloc[index, col] \u001B[38;5;241m=\u001B[39m value\n\u001B[0;32m   4562\u001B[0m     \u001B[38;5;28;01melse\u001B[39;00m:\n\u001B[1;32m-> 4563\u001B[0m         \u001B[38;5;28mself\u001B[39m\u001B[38;5;241m.\u001B[39mloc[index, col] \u001B[38;5;241m=\u001B[39m value\n\u001B[0;32m   4564\u001B[0m     \u001B[38;5;28mself\u001B[39m\u001B[38;5;241m.\u001B[39m_item_cache\u001B[38;5;241m.\u001B[39mpop(col, \u001B[38;5;28;01mNone\u001B[39;00m)\n\u001B[0;32m   4566\u001B[0m \u001B[38;5;28;01mexcept\u001B[39;00m InvalidIndexError \u001B[38;5;28;01mas\u001B[39;00m ii_err:\n\u001B[0;32m   4567\u001B[0m     \u001B[38;5;66;03m# GH48729: Seems like you are trying to assign a value to a\u001B[39;00m\n\u001B[0;32m   4568\u001B[0m     \u001B[38;5;66;03m# row when only scalar options are permitted\u001B[39;00m\n",
      "File \u001B[1;32m~\\Documents\\Dev\\Anaconda\\Lib\\site-packages\\pandas\\core\\indexing.py:912\u001B[0m, in \u001B[0;36m_LocationIndexer.__setitem__\u001B[1;34m(self, key, value)\u001B[0m\n\u001B[0;32m    909\u001B[0m \u001B[38;5;28mself\u001B[39m\u001B[38;5;241m.\u001B[39m_has_valid_setitem_indexer(key)\n\u001B[0;32m    911\u001B[0m iloc \u001B[38;5;241m=\u001B[39m \u001B[38;5;28mself\u001B[39m \u001B[38;5;28;01mif\u001B[39;00m \u001B[38;5;28mself\u001B[39m\u001B[38;5;241m.\u001B[39mname \u001B[38;5;241m==\u001B[39m \u001B[38;5;124m\"\u001B[39m\u001B[38;5;124miloc\u001B[39m\u001B[38;5;124m\"\u001B[39m \u001B[38;5;28;01melse\u001B[39;00m \u001B[38;5;28mself\u001B[39m\u001B[38;5;241m.\u001B[39mobj\u001B[38;5;241m.\u001B[39miloc\n\u001B[1;32m--> 912\u001B[0m iloc\u001B[38;5;241m.\u001B[39m_setitem_with_indexer(indexer, value, \u001B[38;5;28mself\u001B[39m\u001B[38;5;241m.\u001B[39mname)\n",
      "File \u001B[1;32m~\\Documents\\Dev\\Anaconda\\Lib\\site-packages\\pandas\\core\\indexing.py:1946\u001B[0m, in \u001B[0;36m_iLocIndexer._setitem_with_indexer\u001B[1;34m(self, indexer, value, name)\u001B[0m\n\u001B[0;32m   1943\u001B[0m \u001B[38;5;66;03m# align and set the values\u001B[39;00m\n\u001B[0;32m   1944\u001B[0m \u001B[38;5;28;01mif\u001B[39;00m take_split_path:\n\u001B[0;32m   1945\u001B[0m     \u001B[38;5;66;03m# We have to operate column-wise\u001B[39;00m\n\u001B[1;32m-> 1946\u001B[0m     \u001B[38;5;28mself\u001B[39m\u001B[38;5;241m.\u001B[39m_setitem_with_indexer_split_path(indexer, value, name)\n\u001B[0;32m   1947\u001B[0m \u001B[38;5;28;01melse\u001B[39;00m:\n\u001B[0;32m   1948\u001B[0m     \u001B[38;5;28mself\u001B[39m\u001B[38;5;241m.\u001B[39m_setitem_single_block(indexer, value, name)\n",
      "File \u001B[1;32m~\\Documents\\Dev\\Anaconda\\Lib\\site-packages\\pandas\\core\\indexing.py:2002\u001B[0m, in \u001B[0;36m_iLocIndexer._setitem_with_indexer_split_path\u001B[1;34m(self, indexer, value, name)\u001B[0m\n\u001B[0;32m   1997\u001B[0m     \u001B[38;5;28;01mif\u001B[39;00m \u001B[38;5;28mlen\u001B[39m(value) \u001B[38;5;241m==\u001B[39m \u001B[38;5;241m1\u001B[39m \u001B[38;5;129;01mand\u001B[39;00m \u001B[38;5;129;01mnot\u001B[39;00m is_integer(info_axis):\n\u001B[0;32m   1998\u001B[0m         \u001B[38;5;66;03m# This is a case like df.iloc[:3, [1]] = [0]\u001B[39;00m\n\u001B[0;32m   1999\u001B[0m         \u001B[38;5;66;03m#  where we treat as df.iloc[:3, 1] = 0\u001B[39;00m\n\u001B[0;32m   2000\u001B[0m         \u001B[38;5;28;01mreturn\u001B[39;00m \u001B[38;5;28mself\u001B[39m\u001B[38;5;241m.\u001B[39m_setitem_with_indexer((pi, info_axis[\u001B[38;5;241m0\u001B[39m]), value[\u001B[38;5;241m0\u001B[39m])\n\u001B[1;32m-> 2002\u001B[0m     \u001B[38;5;28;01mraise\u001B[39;00m \u001B[38;5;167;01mValueError\u001B[39;00m(\n\u001B[0;32m   2003\u001B[0m         \u001B[38;5;124m\"\u001B[39m\u001B[38;5;124mMust have equal len keys and value \u001B[39m\u001B[38;5;124m\"\u001B[39m\n\u001B[0;32m   2004\u001B[0m         \u001B[38;5;124m\"\u001B[39m\u001B[38;5;124mwhen setting with an iterable\u001B[39m\u001B[38;5;124m\"\u001B[39m\n\u001B[0;32m   2005\u001B[0m     )\n\u001B[0;32m   2007\u001B[0m \u001B[38;5;28;01melif\u001B[39;00m lplane_indexer \u001B[38;5;241m==\u001B[39m \u001B[38;5;241m0\u001B[39m \u001B[38;5;129;01mand\u001B[39;00m \u001B[38;5;28mlen\u001B[39m(value) \u001B[38;5;241m==\u001B[39m \u001B[38;5;28mlen\u001B[39m(\u001B[38;5;28mself\u001B[39m\u001B[38;5;241m.\u001B[39mobj\u001B[38;5;241m.\u001B[39mindex):\n\u001B[0;32m   2008\u001B[0m     \u001B[38;5;66;03m# We get here in one case via .loc with a all-False mask\u001B[39;00m\n\u001B[0;32m   2009\u001B[0m     \u001B[38;5;28;01mpass\u001B[39;00m\n",
      "\u001B[1;31mValueError\u001B[0m: Must have equal len keys and value when setting with an iterable"
     ]
    }
   ],
   "source": [
    "dataframe = jsonToDataframe(dataPath)\n",
    "\n",
    "wantedExifs = [274, 315, 306, 272]\n",
    "columnNames = [\"orientation\", \"artist\", \"date\", 'appareil']\n",
    "\n",
    "for i,tag in enumerate(wantedExifs):\n",
    "    dataframe[columnNames[i]] = None\n",
    "\n",
    "# On parcours les entrées\n",
    "for i in range(len(dataframe.index)):\n",
    "    path = dataframe._get_value(i,\"path\")\n",
    "    img = PIL.Image.open(path)\n",
    "    exif_data = img._getexif()\n",
    "    img.close()\n",
    "\n",
    "    dataframe.at[i, \"size\"] = img.size\n",
    "    if exif_data:\n",
    "      for tag in exif_data:\n",
    "          if tag in wantedExifs:\n",
    "              dataframe.at[i, columnNames[wantedExifs.index(tag)]] = exif_data[tag]\n",
    "\n",
    "# On enregistre les données au format JSON\n",
    "dataframeToJson(dataPath, dataframe)\n",
    "        \n",
    "dataframe "
   ]
  },
  {
   "cell_type": "markdown",
   "metadata": {},
   "source": [
    "## Analyse des Données"
   ]
  },
  {
   "cell_type": "code",
   "execution_count": null,
   "metadata": {
    "ExecuteTime": {
     "start_time": "2024-03-06T14:59:55.238058300Z"
    }
   },
   "outputs": [],
   "source": [
    "# Création de la dataframe des utilisateurs\n",
    "usersPath = 'users.json'\n",
    "\n",
    "array = [['default',[]]]\n",
    "usersDataframe = pandas.DataFrame(array, columns=['username', 'likedImages'])\n",
    "\n",
    "dataframeToJson(usersPath, usersDataframe)\n",
    "\n",
    "usersDataframe"
   ]
  }
 ],
 "metadata": {
  "kernelspec": {
   "display_name": "Python 3",
   "language": "python",
   "name": "python3"
  },
  "language_info": {
   "codemirror_mode": {
    "name": "ipython",
    "version": 3
   },
   "file_extension": ".py",
   "mimetype": "text/x-python",
   "name": "python",
   "nbconvert_exporter": "python",
   "pygments_lexer": "ipython3",
   "version": "3.11.4"
  }
 },
 "nbformat": 4,
 "nbformat_minor": 2
}
