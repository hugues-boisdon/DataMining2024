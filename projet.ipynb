{
 "cells": [
  {
   "cell_type": "markdown",
   "metadata": {},
   "source": [
    "# Projet"
   ]
  },
  {
   "cell_type": "markdown",
   "metadata": {},
   "source": [
    "### Imports"
   ]
  },
  {
   "cell_type": "code",
   "execution_count": 61,
   "metadata": {
    "ExecuteTime": {
     "end_time": "2024-03-23T10:50:50.267628Z",
     "start_time": "2024-03-23T10:50:50.230583200Z"
    }
   },
   "outputs": [],
   "source": [
    "# Imports\n",
    "import glob, os\n",
    "import pandas\n",
    "import urllib\n",
    "from SPARQLWrapper import SPARQLWrapper\n",
    "import PIL.Image"
   ]
  },
  {
   "cell_type": "markdown",
   "source": [
    "### WikiBaseIntegrator Imports"
   ],
   "metadata": {
    "collapsed": false
   }
  },
  {
   "cell_type": "code",
   "outputs": [],
   "source": [
    "from wikibaseintegrator import WikibaseIntegrator\n",
    "from wikibaseintegrator.wbi_config import config\n",
    "\n",
    "config['USER_AGENT'] = 'test'"
   ],
   "metadata": {
    "collapsed": false,
    "ExecuteTime": {
     "end_time": "2024-03-24T09:29:13.895325500Z",
     "start_time": "2024-03-24T09:29:13.885867Z"
    }
   },
   "execution_count": 93
  },
  {
   "cell_type": "markdown",
   "metadata": {},
   "source": [
    "## 1. Collecte de données"
   ]
  },
  {
   "cell_type": "markdown",
   "metadata": {},
   "source": [
    "### Dataframe Functions"
   ]
  },
  {
   "cell_type": "code",
   "execution_count": 62,
   "metadata": {
    "ExecuteTime": {
     "end_time": "2024-03-23T10:50:50.317986300Z",
     "start_time": "2024-03-23T10:50:50.273462900Z"
    }
   },
   "outputs": [],
   "source": [
    "def jsonToDataframe(path):   \n",
    "    with open(path, \"r\", encoding=\"utf-8\") as f:\n",
    "        dataframe = pandas.read_json(f, orient='index')\n",
    "    return dataframe\n",
    "\n",
    "def dataframeToJson(path, dataframe):   \n",
    "    with open(path, \"w\", encoding=\"utf-8\") as f:\n",
    "        f.write(dataframe.to_json(orient='index', indent=2))"
   ]
  },
  {
   "cell_type": "markdown",
   "source": [
    "### WikiBaseIntegrator Functions"
   ],
   "metadata": {
    "collapsed": false
   }
  },
  {
   "cell_type": "code",
   "outputs": [],
   "source": [
    "wbi = WikibaseIntegrator()\n",
    "\n",
    "def GetCountryLabelInFrench(itemID):\n",
    "    item_data=wbi.item.get(itemID) # get the item global data\n",
    "    country_id=item_data.claims.get('P17')[0].mainsnak.datavalue['value']['id'] # get the country id of the item\n",
    "    country=wbi.item.get(country_id) # get the country global data\n",
    "    return country.labels.get('fr').value # get the country label in french\n",
    "\n",
    "def AddCountryTags(dataframe): \n",
    "    items_tuples=[]\n",
    "    for i in range(len(dataframe.index)): # get the item id of each row\n",
    "        itemID=dataframe._get_value(i,\"entityID\")\n",
    "        items_tuples.append(itemID)\n",
    "    for i in range(len(items_tuples)): # add the country tag to each row\n",
    "        country = GetCountryLabelInFrench(items_tuples[i])\n",
    "        dataframe.at[i, \"tags\"].append(\"#\"+country)\n",
    "    return dataframe\n",
    "\n",
    "def GetArchitecturalStyle(styleID):\n",
    "    styleL=[]\n",
    "    for i in range(len(styleID)):\n",
    "        style = wbi.item.get(styleID[i])\n",
    "        if style.labels.get('fr') is None:\n",
    "            style_name = style.labels.get('en').value\n",
    "        else:\n",
    "            style_name = style.labels.get('fr').value\n",
    "        styleL.append(\"#\"+style_name)\n",
    "    return styleL # get the style label in french\n",
    "\n",
    "def AddStyleTags(dataframe):\n",
    "    for k in range(len(dataframe.index)):\n",
    "        style = GetArchitecturalStyle(dataframe._get_value(k,\"style\"))\n",
    "        for l in range(len(style)):\n",
    "            dataframe.at[k, \"tags\"].append(style[l])\n",
    "    return dataframe"
   ],
   "metadata": {
    "collapsed": false,
    "ExecuteTime": {
     "end_time": "2024-03-24T09:32:39.786056500Z",
     "start_time": "2024-03-24T09:32:39.781746Z"
    }
   },
   "execution_count": 98
  },
  {
   "cell_type": "markdown",
   "metadata": {},
   "source": [
    "### Récupération du résultat d'une query Wikidata"
   ]
  },
  {
   "cell_type": "code",
   "execution_count": 105,
   "metadata": {
    "ExecuteTime": {
     "end_time": "2024-03-24T10:37:13.686521300Z",
     "start_time": "2024-03-24T10:37:10.796802500Z"
    }
   },
   "outputs": [
    {
     "name": "stdout",
     "output_type": "stream",
     "text": [
      "{'head': {'vars': ['item', 'itemLabel', 'pic', 'year', 'style']}, 'results': {'bindings': [{'item': {'type': 'uri', 'value': 'http://www.wikidata.org/entity/Q1139113'}, 'style': {'type': 'uri', 'value': 'http://www.wikidata.org/entity/Q46261'}, 'pic': {'type': 'uri', 'value': 'http://commons.wikimedia.org/wiki/Special:FilePath/Estibalizko%20santutegi%20erromanikoa.jpg'}, 'itemLabel': {'xml:lang': 'en', 'type': 'literal', 'value': 'Sanctuary of Nuestra Señora de Estíbaliz'}}, {'item': {'type': 'uri', 'value': 'http://www.wikidata.org/entity/Q1064212'}, 'style': {'type': 'uri', 'value': 'http://www.wikidata.org/entity/Q4692'}, 'pic': {'type': 'uri', 'value': 'http://commons.wikimedia.org/wiki/Special:FilePath/SevillaPalacioDeLebrija01.JPG'}, 'itemLabel': {'xml:lang': 'en', 'type': 'literal', 'value': 'Palacio de la Condesa de Lebrija'}, 'year': {'datatype': 'http://www.w3.org/2001/XMLSchema#integer', 'type': 'literal', 'value': '1600'}}, {'item': {'type': 'uri', 'value': 'http://www.wikidata.org/entity/Q1130947'}, 'style': {'type': 'uri', 'value': 'http://www.wikidata.org/entity/Q708807'}, 'pic': {'type': 'uri', 'value': 'http://commons.wikimedia.org/wiki/Special:FilePath/Priesca1.jpg'}, 'itemLabel': {'xml:lang': 'en', 'type': 'literal', 'value': 'Church of San Salvador de Priesca'}, 'year': {'datatype': 'http://www.w3.org/2001/XMLSchema#integer', 'type': 'literal', 'value': '901'}}, {'item': {'type': 'uri', 'value': 'http://www.wikidata.org/entity/Q1164358'}, 'style': {'type': 'uri', 'value': 'http://www.wikidata.org/entity/Q1295040'}, 'pic': {'type': 'uri', 'value': 'http://commons.wikimedia.org/wiki/Special:FilePath/Palacio%20Longoria%20%28Madrid%29%2015.jpg'}, 'itemLabel': {'xml:lang': 'en', 'type': 'literal', 'value': 'Longoria Palace'}, 'year': {'datatype': 'http://www.w3.org/2001/XMLSchema#integer', 'type': 'literal', 'value': '1904'}}, {'item': {'type': 'uri', 'value': 'http://www.wikidata.org/entity/Q1166944'}, 'style': {'type': 'uri', 'value': 'http://www.wikidata.org/entity/Q176483'}, 'pic': {'type': 'uri', 'value': 'http://commons.wikimedia.org/wiki/Special:FilePath/Ruinas%20ovila.jpg'}, 'itemLabel': {'xml:lang': 'en', 'type': 'literal', 'value': 'Santa Maria de Ovila'}, 'year': {'datatype': 'http://www.w3.org/2001/XMLSchema#integer', 'type': 'literal', 'value': '1201'}}]}}\n"
     ]
    },
    {
     "data": {
      "text/plain": "                                      label  \\\n0         Church of San Salvador de Priesca   \n1                           Longoria Palace   \n2          Palacio de la Condesa de Lebrija   \n3  Sanctuary of Nuestra Señora de Estíbaliz   \n4                      Santa Maria de Ovila   \n\n                                                link  entityID format  \\\n0  http://commons.wikimedia.org/wiki/Special:File...  Q1130947    jpg   \n1  http://commons.wikimedia.org/wiki/Special:File...  Q1164358    jpg   \n2  http://commons.wikimedia.org/wiki/Special:File...  Q1064212    JPG   \n3  http://commons.wikimedia.org/wiki/Special:File...  Q1139113    jpg   \n4  http://commons.wikimedia.org/wiki/Special:File...  Q1166944    jpg   \n\n                                                path  size         tags  date  \\\n0     ./images/Church of San Salvador de Priesca.jpg  None  [#monument]   901   \n1                       ./images/Longoria Palace.jpg  None  [#monument]  1904   \n2      ./images/Palacio de la Condesa de Lebrija.JPG  None  [#monument]  1600   \n3  ./images/Sanctuary of Nuestra Señora de Estíba...  None  [#monument]  None   \n4                  ./images/Santa Maria de Ovila.jpg  None  [#monument]  1201   \n\n        style  \n0   [Q708807]  \n1  [Q1295040]  \n2     [Q4692]  \n3    [Q46261]  \n4   [Q176483]  ",
      "text/html": "<div>\n<style scoped>\n    .dataframe tbody tr th:only-of-type {\n        vertical-align: middle;\n    }\n\n    .dataframe tbody tr th {\n        vertical-align: top;\n    }\n\n    .dataframe thead th {\n        text-align: right;\n    }\n</style>\n<table border=\"1\" class=\"dataframe\">\n  <thead>\n    <tr style=\"text-align: right;\">\n      <th></th>\n      <th>label</th>\n      <th>link</th>\n      <th>entityID</th>\n      <th>format</th>\n      <th>path</th>\n      <th>size</th>\n      <th>tags</th>\n      <th>date</th>\n      <th>style</th>\n    </tr>\n  </thead>\n  <tbody>\n    <tr>\n      <th>0</th>\n      <td>Church of San Salvador de Priesca</td>\n      <td>http://commons.wikimedia.org/wiki/Special:File...</td>\n      <td>Q1130947</td>\n      <td>jpg</td>\n      <td>./images/Church of San Salvador de Priesca.jpg</td>\n      <td>None</td>\n      <td>[#monument]</td>\n      <td>901</td>\n      <td>[Q708807]</td>\n    </tr>\n    <tr>\n      <th>1</th>\n      <td>Longoria Palace</td>\n      <td>http://commons.wikimedia.org/wiki/Special:File...</td>\n      <td>Q1164358</td>\n      <td>jpg</td>\n      <td>./images/Longoria Palace.jpg</td>\n      <td>None</td>\n      <td>[#monument]</td>\n      <td>1904</td>\n      <td>[Q1295040]</td>\n    </tr>\n    <tr>\n      <th>2</th>\n      <td>Palacio de la Condesa de Lebrija</td>\n      <td>http://commons.wikimedia.org/wiki/Special:File...</td>\n      <td>Q1064212</td>\n      <td>JPG</td>\n      <td>./images/Palacio de la Condesa de Lebrija.JPG</td>\n      <td>None</td>\n      <td>[#monument]</td>\n      <td>1600</td>\n      <td>[Q4692]</td>\n    </tr>\n    <tr>\n      <th>3</th>\n      <td>Sanctuary of Nuestra Señora de Estíbaliz</td>\n      <td>http://commons.wikimedia.org/wiki/Special:File...</td>\n      <td>Q1139113</td>\n      <td>jpg</td>\n      <td>./images/Sanctuary of Nuestra Señora de Estíba...</td>\n      <td>None</td>\n      <td>[#monument]</td>\n      <td>None</td>\n      <td>[Q46261]</td>\n    </tr>\n    <tr>\n      <th>4</th>\n      <td>Santa Maria de Ovila</td>\n      <td>http://commons.wikimedia.org/wiki/Special:File...</td>\n      <td>Q1166944</td>\n      <td>jpg</td>\n      <td>./images/Santa Maria de Ovila.jpg</td>\n      <td>None</td>\n      <td>[#monument]</td>\n      <td>1201</td>\n      <td>[Q176483]</td>\n    </tr>\n  </tbody>\n</table>\n</div>"
     },
     "execution_count": 105,
     "metadata": {},
     "output_type": "execute_result"
    }
   ],
   "source": [
    "size = 5\n",
    "dataPath = \"data.json\"\n",
    "imagesPath = \"./images/\"\n",
    "\n",
    "# Query de Wikidata\n",
    "sparql = SPARQLWrapper(\"https://query.wikidata.org/sparql\")\n",
    "query = \"\"\"\n",
    "SELECT ?item ?itemLabel ?pic (YEAR(?date) as ?year) ?style WHERE {\n",
    "  ?item wdt:P31 wd:Q4989906;\n",
    "    wdt:P18 ?pic;\n",
    "    wdt:P571 ?date;\n",
    "    wdt:P149 ?style.\n",
    "  SERVICE wikibase:label { bd:serviceParam wikibase:language \"[AUTO_LANGUAGE],en\". }\n",
    "}\n",
    "LIMIT \"\"\"\n",
    "# On précise le nombre d'entrées que l'on veut\n",
    "query = query + str(size)\n",
    "\n",
    "# On récupère le résultat de la query\n",
    "sparql.setQuery(query)\n",
    "sparql.setReturnFormat(\"json\")\n",
    "results = sparql.query().convert()\n",
    "print(results)\n",
    "# On normalise les résultat pour pandas\n",
    "array = []\n",
    "for data in results[\"results\"][\"bindings\"]:\n",
    "    name = data[\"itemLabel\"][\"value\"]\n",
    "    format = data[\"pic\"][\"value\"].split(\".\")[-1]\n",
    "    path = f\"{imagesPath}{name}.{format}\"\n",
    "    if \"year\" in data.keys():\n",
    "        date = data[\"year\"][\"value\"]\n",
    "    else:\n",
    "        date = None\n",
    "    style = data[\"style\"][\"value\"]\n",
    "    array.append([name,  \n",
    "                  data[\"pic\"][\"value\"], \n",
    "                  data[\"item\"][\"value\"].split(sep='/')[-1],\n",
    "                  format,\n",
    "                  path,\n",
    "                  None,\n",
    "                  ['#monument'],\n",
    "                  date,\n",
    "                  style.split(sep='/')[-1]])\n",
    "                  \n",
    "\n",
    "dataframe = pandas.DataFrame(array, columns=[\"label\", \"link\", \"entityID\", \"format\", \"path\", \"size\", \"tags\", \"date\",\"style\"])\n",
    "\n",
    "#On fusionne les lignes avec le même label en gardant les différents styles\n",
    "dataframe = dataframe.groupby('label').agg({'link':'first', 'entityID':'first', 'format':'first', 'path':'first', 'size':'first', 'tags':'first', 'date':'first', 'style':list}).reset_index()\n",
    "# On enregistre les données au format JSON\n",
    "dataframeToJson(dataPath, dataframe)\n",
    "\n",
    "# Nettoyage du dossier /images\n",
    "if not os.path.isdir('./images'):\n",
    "  os.mkdir('./images')\n",
    "\n",
    "# Nettoyage du dossier /images\n",
    "else:\n",
    "  files = glob.glob('./images/*')\n",
    "  for f in files:\n",
    "      os.remove(f)\n",
    "\n",
    "\n",
    "\n",
    "dataframe\n"
   ]
  },
  {
   "cell_type": "markdown",
   "metadata": {},
   "source": [
    "### Téléchargement des Images"
   ]
  },
  {
   "cell_type": "code",
   "execution_count": 64,
   "metadata": {
    "ExecuteTime": {
     "end_time": "2024-03-23T10:50:52.923033300Z",
     "start_time": "2024-03-23T10:50:52.823201600Z"
    }
   },
   "outputs": [
    {
     "ename": "KeyError",
     "evalue": "'link'",
     "output_type": "error",
     "traceback": [
      "\u001B[1;31m---------------------------------------------------------------------------\u001B[0m",
      "\u001B[1;31mKeyError\u001B[0m                                  Traceback (most recent call last)",
      "File \u001B[1;32m~\\Documents\\Dev\\Anaconda\\Lib\\site-packages\\pandas\\core\\indexes\\base.py:3802\u001B[0m, in \u001B[0;36mIndex.get_loc\u001B[1;34m(self, key)\u001B[0m\n\u001B[0;32m   3801\u001B[0m \u001B[38;5;28;01mtry\u001B[39;00m:\n\u001B[1;32m-> 3802\u001B[0m     \u001B[38;5;28;01mreturn\u001B[39;00m \u001B[38;5;28mself\u001B[39m\u001B[38;5;241m.\u001B[39m_engine\u001B[38;5;241m.\u001B[39mget_loc(casted_key)\n\u001B[0;32m   3803\u001B[0m \u001B[38;5;28;01mexcept\u001B[39;00m \u001B[38;5;167;01mKeyError\u001B[39;00m \u001B[38;5;28;01mas\u001B[39;00m err:\n",
      "File \u001B[1;32mindex.pyx:153\u001B[0m, in \u001B[0;36mpandas._libs.index.IndexEngine.get_loc\u001B[1;34m()\u001B[0m\n",
      "File \u001B[1;32mindex.pyx:182\u001B[0m, in \u001B[0;36mpandas._libs.index.IndexEngine.get_loc\u001B[1;34m()\u001B[0m\n",
      "File \u001B[1;32mpandas\\\\_libs\\\\hashtable_class_helper.pxi:7081\u001B[0m, in \u001B[0;36mpandas._libs.hashtable.PyObjectHashTable.get_item\u001B[1;34m()\u001B[0m\n",
      "File \u001B[1;32mpandas\\\\_libs\\\\hashtable_class_helper.pxi:7089\u001B[0m, in \u001B[0;36mpandas._libs.hashtable.PyObjectHashTable.get_item\u001B[1;34m()\u001B[0m\n",
      "\u001B[1;31mKeyError\u001B[0m: 'link'",
      "\nThe above exception was the direct cause of the following exception:\n",
      "\u001B[1;31mKeyError\u001B[0m                                  Traceback (most recent call last)",
      "Cell \u001B[1;32mIn[64], line 4\u001B[0m\n\u001B[0;32m      1\u001B[0m dataframe \u001B[38;5;241m=\u001B[39m jsonToDataframe(dataPath)\n\u001B[0;32m      2\u001B[0m \u001B[38;5;28;01mfor\u001B[39;00m i \u001B[38;5;129;01min\u001B[39;00m \u001B[38;5;28mrange\u001B[39m(\u001B[38;5;28mlen\u001B[39m(dataframe\u001B[38;5;241m.\u001B[39mindex)):\n\u001B[0;32m      3\u001B[0m     \u001B[38;5;66;03m# On télécharge l'image\u001B[39;00m\n\u001B[1;32m----> 4\u001B[0m     link \u001B[38;5;241m=\u001B[39m dataframe\u001B[38;5;241m.\u001B[39m_get_value(i,\u001B[38;5;124m\"\u001B[39m\u001B[38;5;124mlink\u001B[39m\u001B[38;5;124m\"\u001B[39m)\n\u001B[0;32m      5\u001B[0m     path \u001B[38;5;241m=\u001B[39m dataframe\u001B[38;5;241m.\u001B[39m_get_value(i,\u001B[38;5;124m\"\u001B[39m\u001B[38;5;124mpath\u001B[39m\u001B[38;5;124m\"\u001B[39m)\n\u001B[0;32m      6\u001B[0m     response \u001B[38;5;241m=\u001B[39m urllib\u001B[38;5;241m.\u001B[39mrequest\u001B[38;5;241m.\u001B[39murlretrieve(link, path)\n",
      "File \u001B[1;32m~\\Documents\\Dev\\Anaconda\\Lib\\site-packages\\pandas\\core\\frame.py:4202\u001B[0m, in \u001B[0;36mDataFrame._get_value\u001B[1;34m(self, index, col, takeable)\u001B[0m\n\u001B[0;32m   4199\u001B[0m     series \u001B[38;5;241m=\u001B[39m \u001B[38;5;28mself\u001B[39m\u001B[38;5;241m.\u001B[39m_ixs(col, axis\u001B[38;5;241m=\u001B[39m\u001B[38;5;241m1\u001B[39m)\n\u001B[0;32m   4200\u001B[0m     \u001B[38;5;28;01mreturn\u001B[39;00m series\u001B[38;5;241m.\u001B[39m_values[index]\n\u001B[1;32m-> 4202\u001B[0m series \u001B[38;5;241m=\u001B[39m \u001B[38;5;28mself\u001B[39m\u001B[38;5;241m.\u001B[39m_get_item_cache(col)\n\u001B[0;32m   4203\u001B[0m engine \u001B[38;5;241m=\u001B[39m \u001B[38;5;28mself\u001B[39m\u001B[38;5;241m.\u001B[39mindex\u001B[38;5;241m.\u001B[39m_engine\n\u001B[0;32m   4205\u001B[0m \u001B[38;5;28;01mif\u001B[39;00m \u001B[38;5;129;01mnot\u001B[39;00m \u001B[38;5;28misinstance\u001B[39m(\u001B[38;5;28mself\u001B[39m\u001B[38;5;241m.\u001B[39mindex, MultiIndex):\n\u001B[0;32m   4206\u001B[0m     \u001B[38;5;66;03m# CategoricalIndex: Trying to use the engine fastpath may give incorrect\u001B[39;00m\n\u001B[0;32m   4207\u001B[0m     \u001B[38;5;66;03m#  results if our categories are integers that dont match our codes\u001B[39;00m\n\u001B[0;32m   4208\u001B[0m     \u001B[38;5;66;03m# IntervalIndex: IntervalTree has no get_loc\u001B[39;00m\n",
      "File \u001B[1;32m~\\Documents\\Dev\\Anaconda\\Lib\\site-packages\\pandas\\core\\frame.py:4626\u001B[0m, in \u001B[0;36mDataFrame._get_item_cache\u001B[1;34m(self, item)\u001B[0m\n\u001B[0;32m   4621\u001B[0m res \u001B[38;5;241m=\u001B[39m cache\u001B[38;5;241m.\u001B[39mget(item)\n\u001B[0;32m   4622\u001B[0m \u001B[38;5;28;01mif\u001B[39;00m res \u001B[38;5;129;01mis\u001B[39;00m \u001B[38;5;28;01mNone\u001B[39;00m:\n\u001B[0;32m   4623\u001B[0m     \u001B[38;5;66;03m# All places that call _get_item_cache have unique columns,\u001B[39;00m\n\u001B[0;32m   4624\u001B[0m     \u001B[38;5;66;03m#  pending resolution of GH#33047\u001B[39;00m\n\u001B[1;32m-> 4626\u001B[0m     loc \u001B[38;5;241m=\u001B[39m \u001B[38;5;28mself\u001B[39m\u001B[38;5;241m.\u001B[39mcolumns\u001B[38;5;241m.\u001B[39mget_loc(item)\n\u001B[0;32m   4627\u001B[0m     res \u001B[38;5;241m=\u001B[39m \u001B[38;5;28mself\u001B[39m\u001B[38;5;241m.\u001B[39m_ixs(loc, axis\u001B[38;5;241m=\u001B[39m\u001B[38;5;241m1\u001B[39m)\n\u001B[0;32m   4629\u001B[0m     cache[item] \u001B[38;5;241m=\u001B[39m res\n",
      "File \u001B[1;32m~\\Documents\\Dev\\Anaconda\\Lib\\site-packages\\pandas\\core\\indexes\\base.py:3809\u001B[0m, in \u001B[0;36mIndex.get_loc\u001B[1;34m(self, key)\u001B[0m\n\u001B[0;32m   3804\u001B[0m     \u001B[38;5;28;01mif\u001B[39;00m \u001B[38;5;28misinstance\u001B[39m(casted_key, \u001B[38;5;28mslice\u001B[39m) \u001B[38;5;129;01mor\u001B[39;00m (\n\u001B[0;32m   3805\u001B[0m         \u001B[38;5;28misinstance\u001B[39m(casted_key, abc\u001B[38;5;241m.\u001B[39mIterable)\n\u001B[0;32m   3806\u001B[0m         \u001B[38;5;129;01mand\u001B[39;00m \u001B[38;5;28many\u001B[39m(\u001B[38;5;28misinstance\u001B[39m(x, \u001B[38;5;28mslice\u001B[39m) \u001B[38;5;28;01mfor\u001B[39;00m x \u001B[38;5;129;01min\u001B[39;00m casted_key)\n\u001B[0;32m   3807\u001B[0m     ):\n\u001B[0;32m   3808\u001B[0m         \u001B[38;5;28;01mraise\u001B[39;00m InvalidIndexError(key)\n\u001B[1;32m-> 3809\u001B[0m     \u001B[38;5;28;01mraise\u001B[39;00m \u001B[38;5;167;01mKeyError\u001B[39;00m(key) \u001B[38;5;28;01mfrom\u001B[39;00m \u001B[38;5;21;01merr\u001B[39;00m\n\u001B[0;32m   3810\u001B[0m \u001B[38;5;28;01mexcept\u001B[39;00m \u001B[38;5;167;01mTypeError\u001B[39;00m:\n\u001B[0;32m   3811\u001B[0m     \u001B[38;5;66;03m# If we have a listlike key, _check_indexing_error will raise\u001B[39;00m\n\u001B[0;32m   3812\u001B[0m     \u001B[38;5;66;03m#  InvalidIndexError. Otherwise we fall through and re-raise\u001B[39;00m\n\u001B[0;32m   3813\u001B[0m     \u001B[38;5;66;03m#  the TypeError.\u001B[39;00m\n\u001B[0;32m   3814\u001B[0m     \u001B[38;5;28mself\u001B[39m\u001B[38;5;241m.\u001B[39m_check_indexing_error(key)\n",
      "\u001B[1;31mKeyError\u001B[0m: 'link'"
     ]
    }
   ],
   "source": [
    "dataframe = jsonToDataframe(dataPath)\n",
    "for i in range(len(dataframe.index)):\n",
    "    # On télécharge l'image\n",
    "    link = dataframe._get_value(i,\"link\")\n",
    "    path = dataframe._get_value(i,\"path\")\n",
    "    response = urllib.request.urlretrieve(link, path)"
   ]
  },
  {
   "cell_type": "markdown",
   "metadata": {},
   "source": [
    "### Récupération des Données EXIFS"
   ]
  },
  {
   "cell_type": "code",
   "execution_count": null,
   "metadata": {
    "ExecuteTime": {
     "start_time": "2024-03-23T10:50:52.885975700Z"
    }
   },
   "outputs": [],
   "source": [
    "dataframe = jsonToDataframe(dataPath)\n",
    "\n",
    "wantedExifs = [274, 315, 306, 272]\n",
    "columnNames = [\"orientation\", \"artist\", \"date\", 'appareil']\n",
    "\n",
    "for i,tag in enumerate(wantedExifs):\n",
    "    dataframe[columnNames[i]] = None\n",
    "\n",
    "# On parcours les entrées\n",
    "for i in range(len(dataframe.index)):\n",
    "    path = dataframe._get_value(i,\"path\")\n",
    "    img = PIL.Image.open(path)\n",
    "    exif_data = img._getexif()\n",
    "    img.close()\n",
    "\n",
    "    dataframe.at[i, \"size\"] = img.size\n",
    "    if exif_data:\n",
    "      for tag in exif_data:\n",
    "          if tag in wantedExifs:\n",
    "              dataframe.at[i, columnNames[wantedExifs.index(tag)]] = exif_data[tag]\n",
    "\n",
    "# On enregistre les données au format JSON\n",
    "dataframeToJson(dataPath, dataframe)\n",
    "        \n",
    "dataframe \n"
   ]
  },
  {
   "cell_type": "markdown",
   "source": [
    "## 2. Annotation des images"
   ],
   "metadata": {
    "collapsed": false
   }
  },
  {
   "cell_type": "markdown",
   "source": [
    "### Fonction pour récupérer et ajouter le tag siècle"
   ],
   "metadata": {
    "collapsed": false
   }
  },
  {
   "cell_type": "code",
   "outputs": [],
   "source": [
    "def find_century(year):\n",
    "    year = int(year)\n",
    "    if (year <= 0):\n",
    "        cent_tag=(\"#Antiquité\")\n",
    "    elif (year <= 100):\n",
    "        cent_tag =\"#1er siècle\"\n",
    "    elif (year % 100 == 0):\n",
    "        cent_tag=\"#\"+str(year // 100)+\"ème siècle\"\n",
    "    else:\n",
    "        cent_tag=\"#\"+str(year // 100 + 1)+\"ème siècle\"\n",
    "    return cent_tag\n",
    "\n",
    "def add_century_tag(dataframe):\n",
    "    for i in range(len(dataframe.index)):\n",
    "        year = dataframe._get_value(i,\"date\")\n",
    "        if year is not None:\n",
    "            dataframe.at[i, \"tags\"].append(find_century(year))\n",
    "        else:\n",
    "            dataframe.at[i, \"tags\"].append(\"#Inconnu\")\n",
    "    return dataframe"
   ],
   "metadata": {
    "collapsed": false,
    "ExecuteTime": {
     "end_time": "2024-03-24T10:44:44.669911500Z",
     "start_time": "2024-03-24T10:44:44.656903900Z"
    }
   },
   "execution_count": 108
  },
  {
   "cell_type": "markdown",
   "source": [
    "### Test Ajout du tag siècle"
   ],
   "metadata": {
    "collapsed": false
   }
  },
  {
   "cell_type": "code",
   "outputs": [
    {
     "data": {
      "text/plain": "                                      label  \\\n0         Church of San Salvador de Priesca   \n1                           Longoria Palace   \n2          Palacio de la Condesa de Lebrija   \n3  Sanctuary of Nuestra Señora de Estíbaliz   \n4                      Santa Maria de Ovila   \n\n                                                link  entityID format  \\\n0  http://commons.wikimedia.org/wiki/Special:File...  Q1130947    jpg   \n1  http://commons.wikimedia.org/wiki/Special:File...  Q1164358    jpg   \n2  http://commons.wikimedia.org/wiki/Special:File...  Q1064212    JPG   \n3  http://commons.wikimedia.org/wiki/Special:File...  Q1139113    jpg   \n4  http://commons.wikimedia.org/wiki/Special:File...  Q1166944    jpg   \n\n                                                path  size  \\\n0     ./images/Church of San Salvador de Priesca.jpg  None   \n1                       ./images/Longoria Palace.jpg  None   \n2      ./images/Palacio de la Condesa de Lebrija.JPG  None   \n3  ./images/Sanctuary of Nuestra Señora de Estíba...  None   \n4                  ./images/Santa Maria de Ovila.jpg  None   \n\n                                                tags  date       style  \n0  [#monument, #10ème siècle, #10ème siècle, #10è...   901   [Q708807]  \n1  [#monument, #20ème siècle, #20ème siècle, #20è...  1904  [Q1295040]  \n2  [#monument, #16ème siècle, #16ème siècle, #16è...  1600     [Q4692]  \n3                              [#monument, #Inconnu]  None    [Q46261]  \n4                         [#monument, #13ème siècle]  1201   [Q176483]  ",
      "text/html": "<div>\n<style scoped>\n    .dataframe tbody tr th:only-of-type {\n        vertical-align: middle;\n    }\n\n    .dataframe tbody tr th {\n        vertical-align: top;\n    }\n\n    .dataframe thead th {\n        text-align: right;\n    }\n</style>\n<table border=\"1\" class=\"dataframe\">\n  <thead>\n    <tr style=\"text-align: right;\">\n      <th></th>\n      <th>label</th>\n      <th>link</th>\n      <th>entityID</th>\n      <th>format</th>\n      <th>path</th>\n      <th>size</th>\n      <th>tags</th>\n      <th>date</th>\n      <th>style</th>\n    </tr>\n  </thead>\n  <tbody>\n    <tr>\n      <th>0</th>\n      <td>Church of San Salvador de Priesca</td>\n      <td>http://commons.wikimedia.org/wiki/Special:File...</td>\n      <td>Q1130947</td>\n      <td>jpg</td>\n      <td>./images/Church of San Salvador de Priesca.jpg</td>\n      <td>None</td>\n      <td>[#monument, #10ème siècle, #10ème siècle, #10è...</td>\n      <td>901</td>\n      <td>[Q708807]</td>\n    </tr>\n    <tr>\n      <th>1</th>\n      <td>Longoria Palace</td>\n      <td>http://commons.wikimedia.org/wiki/Special:File...</td>\n      <td>Q1164358</td>\n      <td>jpg</td>\n      <td>./images/Longoria Palace.jpg</td>\n      <td>None</td>\n      <td>[#monument, #20ème siècle, #20ème siècle, #20è...</td>\n      <td>1904</td>\n      <td>[Q1295040]</td>\n    </tr>\n    <tr>\n      <th>2</th>\n      <td>Palacio de la Condesa de Lebrija</td>\n      <td>http://commons.wikimedia.org/wiki/Special:File...</td>\n      <td>Q1064212</td>\n      <td>JPG</td>\n      <td>./images/Palacio de la Condesa de Lebrija.JPG</td>\n      <td>None</td>\n      <td>[#monument, #16ème siècle, #16ème siècle, #16è...</td>\n      <td>1600</td>\n      <td>[Q4692]</td>\n    </tr>\n    <tr>\n      <th>3</th>\n      <td>Sanctuary of Nuestra Señora de Estíbaliz</td>\n      <td>http://commons.wikimedia.org/wiki/Special:File...</td>\n      <td>Q1139113</td>\n      <td>jpg</td>\n      <td>./images/Sanctuary of Nuestra Señora de Estíba...</td>\n      <td>None</td>\n      <td>[#monument, #Inconnu]</td>\n      <td>None</td>\n      <td>[Q46261]</td>\n    </tr>\n    <tr>\n      <th>4</th>\n      <td>Santa Maria de Ovila</td>\n      <td>http://commons.wikimedia.org/wiki/Special:File...</td>\n      <td>Q1166944</td>\n      <td>jpg</td>\n      <td>./images/Santa Maria de Ovila.jpg</td>\n      <td>None</td>\n      <td>[#monument, #13ème siècle]</td>\n      <td>1201</td>\n      <td>[Q176483]</td>\n    </tr>\n  </tbody>\n</table>\n</div>"
     },
     "execution_count": 109,
     "metadata": {},
     "output_type": "execute_result"
    }
   ],
   "source": [
    "add_century_tag(dataframe)"
   ],
   "metadata": {
    "collapsed": false,
    "ExecuteTime": {
     "end_time": "2024-03-24T10:44:48.126026100Z",
     "start_time": "2024-03-24T10:44:48.110200700Z"
    }
   },
   "execution_count": 109
  },
  {
   "cell_type": "markdown",
   "source": [
    "### Test Ajout des tags country et style"
   ],
   "metadata": {
    "collapsed": false
   }
  },
  {
   "cell_type": "code",
   "outputs": [
    {
     "data": {
      "text/plain": "                                      label  \\\n0         Church of San Salvador de Priesca   \n1                           Longoria Palace   \n2          Palacio de la Condesa de Lebrija   \n3  Sanctuary of Nuestra Señora de Estíbaliz   \n4                      Santa Maria de Ovila   \n\n                                                link  entityID format  \\\n0  http://commons.wikimedia.org/wiki/Special:File...  Q1130947    jpg   \n1  http://commons.wikimedia.org/wiki/Special:File...  Q1164358    jpg   \n2  http://commons.wikimedia.org/wiki/Special:File...  Q1064212    JPG   \n3  http://commons.wikimedia.org/wiki/Special:File...  Q1139113    jpg   \n4  http://commons.wikimedia.org/wiki/Special:File...  Q1166944    jpg   \n\n                                                path  size  \\\n0     ./images/Church of San Salvador de Priesca.jpg  None   \n1                       ./images/Longoria Palace.jpg  None   \n2      ./images/Palacio de la Condesa de Lebrija.JPG  None   \n3  ./images/Sanctuary of Nuestra Señora de Estíba...  None   \n4                  ./images/Santa Maria de Ovila.jpg  None   \n\n                                                tags  date       style  \n0  [#monument, #10ème siècle, #10ème siècle, #10è...   901   [Q708807]  \n1  [#monument, #20ème siècle, #20ème siècle, #20è...  1904  [Q1295040]  \n2  [#monument, #16ème siècle, #16ème siècle, #16è...  1600     [Q4692]  \n3                    [#monument, #Inconnu, #Espagne]  None    [Q46261]  \n4               [#monument, #13ème siècle, #Espagne]  1201   [Q176483]  ",
      "text/html": "<div>\n<style scoped>\n    .dataframe tbody tr th:only-of-type {\n        vertical-align: middle;\n    }\n\n    .dataframe tbody tr th {\n        vertical-align: top;\n    }\n\n    .dataframe thead th {\n        text-align: right;\n    }\n</style>\n<table border=\"1\" class=\"dataframe\">\n  <thead>\n    <tr style=\"text-align: right;\">\n      <th></th>\n      <th>label</th>\n      <th>link</th>\n      <th>entityID</th>\n      <th>format</th>\n      <th>path</th>\n      <th>size</th>\n      <th>tags</th>\n      <th>date</th>\n      <th>style</th>\n    </tr>\n  </thead>\n  <tbody>\n    <tr>\n      <th>0</th>\n      <td>Church of San Salvador de Priesca</td>\n      <td>http://commons.wikimedia.org/wiki/Special:File...</td>\n      <td>Q1130947</td>\n      <td>jpg</td>\n      <td>./images/Church of San Salvador de Priesca.jpg</td>\n      <td>None</td>\n      <td>[#monument, #10ème siècle, #10ème siècle, #10è...</td>\n      <td>901</td>\n      <td>[Q708807]</td>\n    </tr>\n    <tr>\n      <th>1</th>\n      <td>Longoria Palace</td>\n      <td>http://commons.wikimedia.org/wiki/Special:File...</td>\n      <td>Q1164358</td>\n      <td>jpg</td>\n      <td>./images/Longoria Palace.jpg</td>\n      <td>None</td>\n      <td>[#monument, #20ème siècle, #20ème siècle, #20è...</td>\n      <td>1904</td>\n      <td>[Q1295040]</td>\n    </tr>\n    <tr>\n      <th>2</th>\n      <td>Palacio de la Condesa de Lebrija</td>\n      <td>http://commons.wikimedia.org/wiki/Special:File...</td>\n      <td>Q1064212</td>\n      <td>JPG</td>\n      <td>./images/Palacio de la Condesa de Lebrija.JPG</td>\n      <td>None</td>\n      <td>[#monument, #16ème siècle, #16ème siècle, #16è...</td>\n      <td>1600</td>\n      <td>[Q4692]</td>\n    </tr>\n    <tr>\n      <th>3</th>\n      <td>Sanctuary of Nuestra Señora de Estíbaliz</td>\n      <td>http://commons.wikimedia.org/wiki/Special:File...</td>\n      <td>Q1139113</td>\n      <td>jpg</td>\n      <td>./images/Sanctuary of Nuestra Señora de Estíba...</td>\n      <td>None</td>\n      <td>[#monument, #Inconnu, #Espagne]</td>\n      <td>None</td>\n      <td>[Q46261]</td>\n    </tr>\n    <tr>\n      <th>4</th>\n      <td>Santa Maria de Ovila</td>\n      <td>http://commons.wikimedia.org/wiki/Special:File...</td>\n      <td>Q1166944</td>\n      <td>jpg</td>\n      <td>./images/Santa Maria de Ovila.jpg</td>\n      <td>None</td>\n      <td>[#monument, #13ème siècle, #Espagne]</td>\n      <td>1201</td>\n      <td>[Q176483]</td>\n    </tr>\n  </tbody>\n</table>\n</div>"
     },
     "execution_count": 110,
     "metadata": {},
     "output_type": "execute_result"
    }
   ],
   "source": [
    "AddCountryTags(dataframe)"
   ],
   "metadata": {
    "collapsed": false,
    "ExecuteTime": {
     "end_time": "2024-03-24T10:45:11.100248600Z",
     "start_time": "2024-03-24T10:45:04.989724300Z"
    }
   },
   "execution_count": 110
  },
  {
   "cell_type": "code",
   "outputs": [
    {
     "data": {
      "text/plain": "                                      label  \\\n0         Church of San Salvador de Priesca   \n1                           Longoria Palace   \n2          Palacio de la Condesa de Lebrija   \n3  Sanctuary of Nuestra Señora de Estíbaliz   \n4                      Santa Maria de Ovila   \n\n                                                link  entityID format  \\\n0  http://commons.wikimedia.org/wiki/Special:File...  Q1130947    jpg   \n1  http://commons.wikimedia.org/wiki/Special:File...  Q1164358    jpg   \n2  http://commons.wikimedia.org/wiki/Special:File...  Q1064212    JPG   \n3  http://commons.wikimedia.org/wiki/Special:File...  Q1139113    jpg   \n4  http://commons.wikimedia.org/wiki/Special:File...  Q1166944    jpg   \n\n                                                path  size  \\\n0     ./images/Church of San Salvador de Priesca.jpg  None   \n1                       ./images/Longoria Palace.jpg  None   \n2      ./images/Palacio de la Condesa de Lebrija.JPG  None   \n3  ./images/Sanctuary of Nuestra Señora de Estíba...  None   \n4                  ./images/Santa Maria de Ovila.jpg  None   \n\n                                                tags  date       style  \n0  [#monument, #10ème siècle, #10ème siècle, #10è...   901   [Q708807]  \n1  [#monument, #20ème siècle, #20ème siècle, #20è...  1904  [Q1295040]  \n2  [#monument, #16ème siècle, #16ème siècle, #16è...  1600     [Q4692]  \n3  [#monument, #Inconnu, #Espagne, #architecture ...  None    [Q46261]  \n4  [#monument, #13ème siècle, #Espagne, #architec...  1201   [Q176483]  ",
      "text/html": "<div>\n<style scoped>\n    .dataframe tbody tr th:only-of-type {\n        vertical-align: middle;\n    }\n\n    .dataframe tbody tr th {\n        vertical-align: top;\n    }\n\n    .dataframe thead th {\n        text-align: right;\n    }\n</style>\n<table border=\"1\" class=\"dataframe\">\n  <thead>\n    <tr style=\"text-align: right;\">\n      <th></th>\n      <th>label</th>\n      <th>link</th>\n      <th>entityID</th>\n      <th>format</th>\n      <th>path</th>\n      <th>size</th>\n      <th>tags</th>\n      <th>date</th>\n      <th>style</th>\n    </tr>\n  </thead>\n  <tbody>\n    <tr>\n      <th>0</th>\n      <td>Church of San Salvador de Priesca</td>\n      <td>http://commons.wikimedia.org/wiki/Special:File...</td>\n      <td>Q1130947</td>\n      <td>jpg</td>\n      <td>./images/Church of San Salvador de Priesca.jpg</td>\n      <td>None</td>\n      <td>[#monument, #10ème siècle, #10ème siècle, #10è...</td>\n      <td>901</td>\n      <td>[Q708807]</td>\n    </tr>\n    <tr>\n      <th>1</th>\n      <td>Longoria Palace</td>\n      <td>http://commons.wikimedia.org/wiki/Special:File...</td>\n      <td>Q1164358</td>\n      <td>jpg</td>\n      <td>./images/Longoria Palace.jpg</td>\n      <td>None</td>\n      <td>[#monument, #20ème siècle, #20ème siècle, #20è...</td>\n      <td>1904</td>\n      <td>[Q1295040]</td>\n    </tr>\n    <tr>\n      <th>2</th>\n      <td>Palacio de la Condesa de Lebrija</td>\n      <td>http://commons.wikimedia.org/wiki/Special:File...</td>\n      <td>Q1064212</td>\n      <td>JPG</td>\n      <td>./images/Palacio de la Condesa de Lebrija.JPG</td>\n      <td>None</td>\n      <td>[#monument, #16ème siècle, #16ème siècle, #16è...</td>\n      <td>1600</td>\n      <td>[Q4692]</td>\n    </tr>\n    <tr>\n      <th>3</th>\n      <td>Sanctuary of Nuestra Señora de Estíbaliz</td>\n      <td>http://commons.wikimedia.org/wiki/Special:File...</td>\n      <td>Q1139113</td>\n      <td>jpg</td>\n      <td>./images/Sanctuary of Nuestra Señora de Estíba...</td>\n      <td>None</td>\n      <td>[#monument, #Inconnu, #Espagne, #architecture ...</td>\n      <td>None</td>\n      <td>[Q46261]</td>\n    </tr>\n    <tr>\n      <th>4</th>\n      <td>Santa Maria de Ovila</td>\n      <td>http://commons.wikimedia.org/wiki/Special:File...</td>\n      <td>Q1166944</td>\n      <td>jpg</td>\n      <td>./images/Santa Maria de Ovila.jpg</td>\n      <td>None</td>\n      <td>[#monument, #13ème siècle, #Espagne, #architec...</td>\n      <td>1201</td>\n      <td>[Q176483]</td>\n    </tr>\n  </tbody>\n</table>\n</div>"
     },
     "execution_count": 111,
     "metadata": {},
     "output_type": "execute_result"
    }
   ],
   "source": [
    "AddStyleTags(dataframe)"
   ],
   "metadata": {
    "collapsed": false,
    "ExecuteTime": {
     "end_time": "2024-03-24T10:45:14.168045900Z",
     "start_time": "2024-03-24T10:45:12.714217200Z"
    }
   },
   "execution_count": 111
  },
  {
   "cell_type": "markdown",
   "metadata": {},
   "source": [
    "## Analyse des Données"
   ]
  },
  {
   "cell_type": "code",
   "execution_count": null,
   "metadata": {
    "ExecuteTime": {
     "start_time": "2024-03-23T10:50:52.892979100Z"
    }
   },
   "outputs": [],
   "source": [
    "# Création de la dataframe des utilisateurs\n",
    "usersPath = 'users.json'\n",
    "\n",
    "array = [['default',[]]]\n",
    "usersDataframe = pandas.DataFrame(array, columns=['username', 'likedImages'])\n",
    "\n",
    "dataframeToJson(usersPath, usersDataframe)\n",
    "\n",
    "usersDataframe"
   ]
  }
 ],
 "metadata": {
  "kernelspec": {
   "display_name": "Python 3",
   "language": "python",
   "name": "python3"
  },
  "language_info": {
   "codemirror_mode": {
    "name": "ipython",
    "version": 3
   },
   "file_extension": ".py",
   "mimetype": "text/x-python",
   "name": "python",
   "nbconvert_exporter": "python",
   "pygments_lexer": "ipython3",
   "version": "3.11.4"
  }
 },
 "nbformat": 4,
 "nbformat_minor": 2
}
