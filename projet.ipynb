{
 "cells": [
  {
   "cell_type": "markdown",
   "metadata": {},
   "source": [
    "# Projet"
   ]
  },
  {
   "cell_type": "markdown",
   "metadata": {},
   "source": [
    "### Imports"
   ]
  },
  {
   "cell_type": "code",
   "execution_count": 61,
   "metadata": {
    "ExecuteTime": {
     "end_time": "2024-03-23T10:50:50.267628Z",
     "start_time": "2024-03-23T10:50:50.230583200Z"
    }
   },
   "outputs": [],
   "source": [
    "# Imports\n",
    "import glob, os\n",
    "import pandas\n",
    "import urllib\n",
    "from SPARQLWrapper import SPARQLWrapper\n",
    "import PIL.Image"
   ]
  },
  {
   "cell_type": "markdown",
   "source": [
    "### WikiBaseIntegrator Imports"
   ],
   "metadata": {
    "collapsed": false
   }
  },
  {
   "cell_type": "code",
   "outputs": [],
   "source": [
    "from wikibaseintegrator import WikibaseIntegrator\n",
    "from wikibaseintegrator.wbi_config import config\n",
    "\n",
    "config['USER_AGENT'] = 'test'"
   ],
   "metadata": {
    "collapsed": false,
    "ExecuteTime": {
     "end_time": "2024-03-24T09:29:13.895325500Z",
     "start_time": "2024-03-24T09:29:13.885867Z"
    }
   },
   "execution_count": 93
  },
  {
   "cell_type": "markdown",
   "metadata": {},
   "source": [
    "## 1. Collecte de données"
   ]
  },
  {
   "cell_type": "markdown",
   "metadata": {},
   "source": [
    "### Dataframe Functions"
   ]
  },
  {
   "cell_type": "code",
   "execution_count": 62,
   "metadata": {
    "ExecuteTime": {
     "end_time": "2024-03-23T10:50:50.317986300Z",
     "start_time": "2024-03-23T10:50:50.273462900Z"
    }
   },
   "outputs": [],
   "source": [
    "def jsonToDataframe(path):   \n",
    "    with open(path, \"r\", encoding=\"utf-8\") as f:\n",
    "        dataframe = pandas.read_json(f, orient='index')\n",
    "    return dataframe\n",
    "\n",
    "def dataframeToJson(path, dataframe):   \n",
    "    with open(path, \"w\", encoding=\"utf-8\") as f:\n",
    "        f.write(dataframe.to_json(orient='index', indent=2))"
   ]
  },
  {
   "cell_type": "markdown",
   "source": [
    "### WikiBaseIntegrator Functions"
   ],
   "metadata": {
    "collapsed": false
   }
  },
  {
   "cell_type": "code",
   "outputs": [],
   "source": [
    "wbi = WikibaseIntegrator()\n",
    "\n",
    "def GetCountryLabelInFrench(itemID):\n",
    "    item_data=wbi.item.get(itemID) # get the item global data\n",
    "    country_id=item_data.claims.get('P17')[0].mainsnak.datavalue['value']['id'] # get the country id of the item\n",
    "    country=wbi.item.get(country_id) # get the country global data\n",
    "    return country.labels.get('fr').value # get the country label in french\n",
    "\n",
    "def AddCountryTags(dataframe): \n",
    "    items_tuples=[]\n",
    "    for i in range(len(dataframe.index)): # get the item id of each row\n",
    "        itemID=dataframe._get_value(i,\"entityID\")\n",
    "        items_tuples.append(itemID)\n",
    "    for i in range(len(items_tuples)): # add the country tag to each row\n",
    "        country = GetCountryLabelInFrench(items_tuples[i])\n",
    "        dataframe.at[i, \"tags\"].append(\"#\"+country)\n",
    "    return dataframe\n",
    "\n",
    "def GetArchitecturalStyle(styleID):\n",
    "    styleL=[]\n",
    "    for i in range(len(styleID)):\n",
    "        style = wbi.item.get(styleID[i])\n",
    "        if style.labels.get('fr') is None:\n",
    "            style_name = style.labels.get('en').value\n",
    "        else:\n",
    "            style_name = style.labels.get('fr').value\n",
    "        styleL.append(\"#\"+style_name)\n",
    "    return styleL # get the style label in french\n",
    "\n",
    "def AddStyleTags(dataframe):\n",
    "    for k in range(len(dataframe.index)):\n",
    "        style = GetArchitecturalStyle(dataframe._get_value(k,\"style\"))\n",
    "        for l in range(len(style)):\n",
    "            dataframe.at[k, \"tags\"].append(style[l])\n",
    "    return dataframe"
   ],
   "metadata": {
    "collapsed": false,
    "ExecuteTime": {
     "end_time": "2024-03-24T09:32:39.786056500Z",
     "start_time": "2024-03-24T09:32:39.781746Z"
    }
   },
   "execution_count": 98
  },
  {
   "cell_type": "markdown",
   "metadata": {},
   "source": [
    "### Récupération du résultat d'une query Wikidata"
   ]
  },
  {
   "cell_type": "code",
   "execution_count": 99,
   "metadata": {
    "ExecuteTime": {
     "end_time": "2024-03-24T09:32:49.757613900Z",
     "start_time": "2024-03-24T09:32:47.914838800Z"
    }
   },
   "outputs": [
    {
     "data": {
      "text/plain": "                                               label  \\\n0                               Buenos Aires Cabildo   \n1  Group of Houses of the Santa Casa de Misericórdia   \n2                           Iglesia de la Concepción   \n\n                                                link   entityID format  \\\n0  http://commons.wikimedia.org/wiki/Special:File...   Q1024829    jpg   \n1  http://commons.wikimedia.org/wiki/Special:File...  Q10300408    jpg   \n2  http://commons.wikimedia.org/wiki/Special:File...   Q1024943    jpg   \n\n                                                path  size         tags  date  \\\n0                  ./images/Buenos Aires Cabildo.jpg  None  [#monument]  1725   \n1  ./images/Group of Houses of the Santa Casa de ...  None  [#monument]  1612   \n2              ./images/Iglesia de la Concepción.jpg  None  [#monument]  1511   \n\n                          style  \n0                     [Q840829]  \n1  [Q131808, Q840829, Q1114972]  \n2                      [Q37853]  ",
      "text/html": "<div>\n<style scoped>\n    .dataframe tbody tr th:only-of-type {\n        vertical-align: middle;\n    }\n\n    .dataframe tbody tr th {\n        vertical-align: top;\n    }\n\n    .dataframe thead th {\n        text-align: right;\n    }\n</style>\n<table border=\"1\" class=\"dataframe\">\n  <thead>\n    <tr style=\"text-align: right;\">\n      <th></th>\n      <th>label</th>\n      <th>link</th>\n      <th>entityID</th>\n      <th>format</th>\n      <th>path</th>\n      <th>size</th>\n      <th>tags</th>\n      <th>date</th>\n      <th>style</th>\n    </tr>\n  </thead>\n  <tbody>\n    <tr>\n      <th>0</th>\n      <td>Buenos Aires Cabildo</td>\n      <td>http://commons.wikimedia.org/wiki/Special:File...</td>\n      <td>Q1024829</td>\n      <td>jpg</td>\n      <td>./images/Buenos Aires Cabildo.jpg</td>\n      <td>None</td>\n      <td>[#monument]</td>\n      <td>1725</td>\n      <td>[Q840829]</td>\n    </tr>\n    <tr>\n      <th>1</th>\n      <td>Group of Houses of the Santa Casa de Misericórdia</td>\n      <td>http://commons.wikimedia.org/wiki/Special:File...</td>\n      <td>Q10300408</td>\n      <td>jpg</td>\n      <td>./images/Group of Houses of the Santa Casa de ...</td>\n      <td>None</td>\n      <td>[#monument]</td>\n      <td>1612</td>\n      <td>[Q131808, Q840829, Q1114972]</td>\n    </tr>\n    <tr>\n      <th>2</th>\n      <td>Iglesia de la Concepción</td>\n      <td>http://commons.wikimedia.org/wiki/Special:File...</td>\n      <td>Q1024943</td>\n      <td>jpg</td>\n      <td>./images/Iglesia de la Concepción.jpg</td>\n      <td>None</td>\n      <td>[#monument]</td>\n      <td>1511</td>\n      <td>[Q37853]</td>\n    </tr>\n  </tbody>\n</table>\n</div>"
     },
     "execution_count": 99,
     "metadata": {},
     "output_type": "execute_result"
    }
   ],
   "source": [
    "size = 5\n",
    "dataPath = \"data.json\"\n",
    "imagesPath = \"./images/\"\n",
    "\n",
    "# Query de Wikidata\n",
    "sparql = SPARQLWrapper(\"https://query.wikidata.org/sparql\")\n",
    "query = \"\"\"\n",
    "SELECT ?item ?itemLabel ?pic (YEAR(?date) as ?year) ?style WHERE {\n",
    "  ?item wdt:P31 wd:Q4989906;\n",
    "    wdt:P18 ?pic;\n",
    "    wdt:P571 ?date;\n",
    "    wdt:P149 ?style.\n",
    "  SERVICE wikibase:label { bd:serviceParam wikibase:language \"[AUTO_LANGUAGE],en\". }\n",
    "}\n",
    "ORDER BY ?item\n",
    "LIMIT \"\"\"\n",
    "# On précise le nombre d'entrées que l'on veut\n",
    "query = query + str(size)\n",
    "\n",
    "# On récupère le résultat de la query\n",
    "sparql.setQuery(query)\n",
    "sparql.setReturnFormat(\"json\")\n",
    "results = sparql.query().convert()\n",
    "# On normalise les résultat pour pandas\n",
    "array = []\n",
    "for data in results[\"results\"][\"bindings\"]:\n",
    "    name = data[\"itemLabel\"][\"value\"]\n",
    "    format = data[\"pic\"][\"value\"].split(\".\")[-1]\n",
    "    path = f\"{imagesPath}{name}.{format}\"\n",
    "    date = data[\"year\"][\"value\"]\n",
    "    style = data[\"style\"][\"value\"]\n",
    "    array.append([name,  \n",
    "                  data[\"pic\"][\"value\"], \n",
    "                  data[\"item\"][\"value\"].split(sep='/')[-1],\n",
    "                  format,\n",
    "                  path,\n",
    "                  None,\n",
    "                  ['#monument'],\n",
    "                  date,\n",
    "                  style.split(sep='/')[-1]])\n",
    "                  \n",
    "\n",
    "dataframe = pandas.DataFrame(array, columns=[\"label\", \"link\", \"entityID\", \"format\", \"path\", \"size\", \"tags\", \"date\",\"style\"])\n",
    "\n",
    "#On fusionne les lignes avec le même label en gardant les différents styles\n",
    "dataframe = dataframe.groupby('label').agg({'link':'first', 'entityID':'first', 'format':'first', 'path':'first', 'size':'first', 'tags':'first', 'date':'first', 'style':list}).reset_index()\n",
    "# On enregistre les données au format JSON\n",
    "dataframeToJson(dataPath, dataframe)\n",
    "\n",
    "# Nettoyage du dossier /images\n",
    "if not os.path.isdir('./images'):\n",
    "  os.mkdir('./images')\n",
    "\n",
    "# Nettoyage du dossier /images\n",
    "else:\n",
    "  files = glob.glob('./images/*')\n",
    "  for f in files:\n",
    "      os.remove(f)\n",
    "\n",
    "\n",
    "\n",
    "dataframe\n"
   ]
  },
  {
   "cell_type": "markdown",
   "metadata": {},
   "source": [
    "### Téléchargement des Images"
   ]
  },
  {
   "cell_type": "code",
   "execution_count": 64,
   "metadata": {
    "ExecuteTime": {
     "end_time": "2024-03-23T10:50:52.923033300Z",
     "start_time": "2024-03-23T10:50:52.823201600Z"
    }
   },
   "outputs": [
    {
     "ename": "KeyError",
     "evalue": "'link'",
     "output_type": "error",
     "traceback": [
      "\u001B[1;31m---------------------------------------------------------------------------\u001B[0m",
      "\u001B[1;31mKeyError\u001B[0m                                  Traceback (most recent call last)",
      "File \u001B[1;32m~\\Documents\\Dev\\Anaconda\\Lib\\site-packages\\pandas\\core\\indexes\\base.py:3802\u001B[0m, in \u001B[0;36mIndex.get_loc\u001B[1;34m(self, key)\u001B[0m\n\u001B[0;32m   3801\u001B[0m \u001B[38;5;28;01mtry\u001B[39;00m:\n\u001B[1;32m-> 3802\u001B[0m     \u001B[38;5;28;01mreturn\u001B[39;00m \u001B[38;5;28mself\u001B[39m\u001B[38;5;241m.\u001B[39m_engine\u001B[38;5;241m.\u001B[39mget_loc(casted_key)\n\u001B[0;32m   3803\u001B[0m \u001B[38;5;28;01mexcept\u001B[39;00m \u001B[38;5;167;01mKeyError\u001B[39;00m \u001B[38;5;28;01mas\u001B[39;00m err:\n",
      "File \u001B[1;32mindex.pyx:153\u001B[0m, in \u001B[0;36mpandas._libs.index.IndexEngine.get_loc\u001B[1;34m()\u001B[0m\n",
      "File \u001B[1;32mindex.pyx:182\u001B[0m, in \u001B[0;36mpandas._libs.index.IndexEngine.get_loc\u001B[1;34m()\u001B[0m\n",
      "File \u001B[1;32mpandas\\\\_libs\\\\hashtable_class_helper.pxi:7081\u001B[0m, in \u001B[0;36mpandas._libs.hashtable.PyObjectHashTable.get_item\u001B[1;34m()\u001B[0m\n",
      "File \u001B[1;32mpandas\\\\_libs\\\\hashtable_class_helper.pxi:7089\u001B[0m, in \u001B[0;36mpandas._libs.hashtable.PyObjectHashTable.get_item\u001B[1;34m()\u001B[0m\n",
      "\u001B[1;31mKeyError\u001B[0m: 'link'",
      "\nThe above exception was the direct cause of the following exception:\n",
      "\u001B[1;31mKeyError\u001B[0m                                  Traceback (most recent call last)",
      "Cell \u001B[1;32mIn[64], line 4\u001B[0m\n\u001B[0;32m      1\u001B[0m dataframe \u001B[38;5;241m=\u001B[39m jsonToDataframe(dataPath)\n\u001B[0;32m      2\u001B[0m \u001B[38;5;28;01mfor\u001B[39;00m i \u001B[38;5;129;01min\u001B[39;00m \u001B[38;5;28mrange\u001B[39m(\u001B[38;5;28mlen\u001B[39m(dataframe\u001B[38;5;241m.\u001B[39mindex)):\n\u001B[0;32m      3\u001B[0m     \u001B[38;5;66;03m# On télécharge l'image\u001B[39;00m\n\u001B[1;32m----> 4\u001B[0m     link \u001B[38;5;241m=\u001B[39m dataframe\u001B[38;5;241m.\u001B[39m_get_value(i,\u001B[38;5;124m\"\u001B[39m\u001B[38;5;124mlink\u001B[39m\u001B[38;5;124m\"\u001B[39m)\n\u001B[0;32m      5\u001B[0m     path \u001B[38;5;241m=\u001B[39m dataframe\u001B[38;5;241m.\u001B[39m_get_value(i,\u001B[38;5;124m\"\u001B[39m\u001B[38;5;124mpath\u001B[39m\u001B[38;5;124m\"\u001B[39m)\n\u001B[0;32m      6\u001B[0m     response \u001B[38;5;241m=\u001B[39m urllib\u001B[38;5;241m.\u001B[39mrequest\u001B[38;5;241m.\u001B[39murlretrieve(link, path)\n",
      "File \u001B[1;32m~\\Documents\\Dev\\Anaconda\\Lib\\site-packages\\pandas\\core\\frame.py:4202\u001B[0m, in \u001B[0;36mDataFrame._get_value\u001B[1;34m(self, index, col, takeable)\u001B[0m\n\u001B[0;32m   4199\u001B[0m     series \u001B[38;5;241m=\u001B[39m \u001B[38;5;28mself\u001B[39m\u001B[38;5;241m.\u001B[39m_ixs(col, axis\u001B[38;5;241m=\u001B[39m\u001B[38;5;241m1\u001B[39m)\n\u001B[0;32m   4200\u001B[0m     \u001B[38;5;28;01mreturn\u001B[39;00m series\u001B[38;5;241m.\u001B[39m_values[index]\n\u001B[1;32m-> 4202\u001B[0m series \u001B[38;5;241m=\u001B[39m \u001B[38;5;28mself\u001B[39m\u001B[38;5;241m.\u001B[39m_get_item_cache(col)\n\u001B[0;32m   4203\u001B[0m engine \u001B[38;5;241m=\u001B[39m \u001B[38;5;28mself\u001B[39m\u001B[38;5;241m.\u001B[39mindex\u001B[38;5;241m.\u001B[39m_engine\n\u001B[0;32m   4205\u001B[0m \u001B[38;5;28;01mif\u001B[39;00m \u001B[38;5;129;01mnot\u001B[39;00m \u001B[38;5;28misinstance\u001B[39m(\u001B[38;5;28mself\u001B[39m\u001B[38;5;241m.\u001B[39mindex, MultiIndex):\n\u001B[0;32m   4206\u001B[0m     \u001B[38;5;66;03m# CategoricalIndex: Trying to use the engine fastpath may give incorrect\u001B[39;00m\n\u001B[0;32m   4207\u001B[0m     \u001B[38;5;66;03m#  results if our categories are integers that dont match our codes\u001B[39;00m\n\u001B[0;32m   4208\u001B[0m     \u001B[38;5;66;03m# IntervalIndex: IntervalTree has no get_loc\u001B[39;00m\n",
      "File \u001B[1;32m~\\Documents\\Dev\\Anaconda\\Lib\\site-packages\\pandas\\core\\frame.py:4626\u001B[0m, in \u001B[0;36mDataFrame._get_item_cache\u001B[1;34m(self, item)\u001B[0m\n\u001B[0;32m   4621\u001B[0m res \u001B[38;5;241m=\u001B[39m cache\u001B[38;5;241m.\u001B[39mget(item)\n\u001B[0;32m   4622\u001B[0m \u001B[38;5;28;01mif\u001B[39;00m res \u001B[38;5;129;01mis\u001B[39;00m \u001B[38;5;28;01mNone\u001B[39;00m:\n\u001B[0;32m   4623\u001B[0m     \u001B[38;5;66;03m# All places that call _get_item_cache have unique columns,\u001B[39;00m\n\u001B[0;32m   4624\u001B[0m     \u001B[38;5;66;03m#  pending resolution of GH#33047\u001B[39;00m\n\u001B[1;32m-> 4626\u001B[0m     loc \u001B[38;5;241m=\u001B[39m \u001B[38;5;28mself\u001B[39m\u001B[38;5;241m.\u001B[39mcolumns\u001B[38;5;241m.\u001B[39mget_loc(item)\n\u001B[0;32m   4627\u001B[0m     res \u001B[38;5;241m=\u001B[39m \u001B[38;5;28mself\u001B[39m\u001B[38;5;241m.\u001B[39m_ixs(loc, axis\u001B[38;5;241m=\u001B[39m\u001B[38;5;241m1\u001B[39m)\n\u001B[0;32m   4629\u001B[0m     cache[item] \u001B[38;5;241m=\u001B[39m res\n",
      "File \u001B[1;32m~\\Documents\\Dev\\Anaconda\\Lib\\site-packages\\pandas\\core\\indexes\\base.py:3809\u001B[0m, in \u001B[0;36mIndex.get_loc\u001B[1;34m(self, key)\u001B[0m\n\u001B[0;32m   3804\u001B[0m     \u001B[38;5;28;01mif\u001B[39;00m \u001B[38;5;28misinstance\u001B[39m(casted_key, \u001B[38;5;28mslice\u001B[39m) \u001B[38;5;129;01mor\u001B[39;00m (\n\u001B[0;32m   3805\u001B[0m         \u001B[38;5;28misinstance\u001B[39m(casted_key, abc\u001B[38;5;241m.\u001B[39mIterable)\n\u001B[0;32m   3806\u001B[0m         \u001B[38;5;129;01mand\u001B[39;00m \u001B[38;5;28many\u001B[39m(\u001B[38;5;28misinstance\u001B[39m(x, \u001B[38;5;28mslice\u001B[39m) \u001B[38;5;28;01mfor\u001B[39;00m x \u001B[38;5;129;01min\u001B[39;00m casted_key)\n\u001B[0;32m   3807\u001B[0m     ):\n\u001B[0;32m   3808\u001B[0m         \u001B[38;5;28;01mraise\u001B[39;00m InvalidIndexError(key)\n\u001B[1;32m-> 3809\u001B[0m     \u001B[38;5;28;01mraise\u001B[39;00m \u001B[38;5;167;01mKeyError\u001B[39;00m(key) \u001B[38;5;28;01mfrom\u001B[39;00m \u001B[38;5;21;01merr\u001B[39;00m\n\u001B[0;32m   3810\u001B[0m \u001B[38;5;28;01mexcept\u001B[39;00m \u001B[38;5;167;01mTypeError\u001B[39;00m:\n\u001B[0;32m   3811\u001B[0m     \u001B[38;5;66;03m# If we have a listlike key, _check_indexing_error will raise\u001B[39;00m\n\u001B[0;32m   3812\u001B[0m     \u001B[38;5;66;03m#  InvalidIndexError. Otherwise we fall through and re-raise\u001B[39;00m\n\u001B[0;32m   3813\u001B[0m     \u001B[38;5;66;03m#  the TypeError.\u001B[39;00m\n\u001B[0;32m   3814\u001B[0m     \u001B[38;5;28mself\u001B[39m\u001B[38;5;241m.\u001B[39m_check_indexing_error(key)\n",
      "\u001B[1;31mKeyError\u001B[0m: 'link'"
     ]
    }
   ],
   "source": [
    "dataframe = jsonToDataframe(dataPath)\n",
    "for i in range(len(dataframe.index)):\n",
    "    # On télécharge l'image\n",
    "    link = dataframe._get_value(i,\"link\")\n",
    "    path = dataframe._get_value(i,\"path\")\n",
    "    response = urllib.request.urlretrieve(link, path)"
   ]
  },
  {
   "cell_type": "markdown",
   "metadata": {},
   "source": [
    "### Récupération des Données EXIFS"
   ]
  },
  {
   "cell_type": "code",
   "execution_count": null,
   "metadata": {
    "ExecuteTime": {
     "start_time": "2024-03-23T10:50:52.885975700Z"
    }
   },
   "outputs": [],
   "source": [
    "dataframe = jsonToDataframe(dataPath)\n",
    "\n",
    "wantedExifs = [274, 315, 306, 272]\n",
    "columnNames = [\"orientation\", \"artist\", \"date\", 'appareil']\n",
    "\n",
    "for i,tag in enumerate(wantedExifs):\n",
    "    dataframe[columnNames[i]] = None\n",
    "\n",
    "# On parcours les entrées\n",
    "for i in range(len(dataframe.index)):\n",
    "    path = dataframe._get_value(i,\"path\")\n",
    "    img = PIL.Image.open(path)\n",
    "    exif_data = img._getexif()\n",
    "    img.close()\n",
    "\n",
    "    dataframe.at[i, \"size\"] = img.size\n",
    "    if exif_data:\n",
    "      for tag in exif_data:\n",
    "          if tag in wantedExifs:\n",
    "              dataframe.at[i, columnNames[wantedExifs.index(tag)]] = exif_data[tag]\n",
    "\n",
    "# On enregistre les données au format JSON\n",
    "dataframeToJson(dataPath, dataframe)\n",
    "        \n",
    "dataframe \n"
   ]
  },
  {
   "cell_type": "markdown",
   "source": [
    "## 2. Annotation des images"
   ],
   "metadata": {
    "collapsed": false
   }
  },
  {
   "cell_type": "markdown",
   "source": [
    "### Fonction pour récupérer et ajouter le tag siècle"
   ],
   "metadata": {
    "collapsed": false
   }
  },
  {
   "cell_type": "code",
   "outputs": [],
   "source": [
    "def find_century(year):\n",
    "    year = int(year)\n",
    "    if (year <= 0):\n",
    "        cent_tag=(\"#Antiquité\")\n",
    "    elif (year <= 100):\n",
    "        cent_tag =\"#1er siècle\"\n",
    "    elif (year % 100 == 0):\n",
    "        cent_tag=\"#\"+str(year // 100)+\"ème siècle\"\n",
    "    else:\n",
    "        cent_tag=\"#\"+str(year // 100 + 1)+\"ème siècle\"\n",
    "    return cent_tag\n",
    "\n",
    "def add_century_tag(dataframe):\n",
    "    for i in range(len(dataframe.index)):\n",
    "        year = dataframe._get_value(i,\"date\")\n",
    "        dataframe.at[i, \"tags\"].append(find_century(year))\n",
    "    return dataframe"
   ],
   "metadata": {
    "collapsed": false,
    "ExecuteTime": {
     "end_time": "2024-03-24T09:32:55.565344700Z",
     "start_time": "2024-03-24T09:32:55.555398200Z"
    }
   },
   "execution_count": 100
  },
  {
   "cell_type": "markdown",
   "source": [
    "### Test Ajout du tag siècle"
   ],
   "metadata": {
    "collapsed": false
   }
  },
  {
   "cell_type": "code",
   "outputs": [
    {
     "data": {
      "text/plain": "                                               label  \\\n0                               Buenos Aires Cabildo   \n1  Group of Houses of the Santa Casa de Misericórdia   \n2                           Iglesia de la Concepción   \n\n                                                link   entityID format  \\\n0  http://commons.wikimedia.org/wiki/Special:File...   Q1024829    jpg   \n1  http://commons.wikimedia.org/wiki/Special:File...  Q10300408    jpg   \n2  http://commons.wikimedia.org/wiki/Special:File...   Q1024943    jpg   \n\n                                                path  size  \\\n0                  ./images/Buenos Aires Cabildo.jpg  None   \n1  ./images/Group of Houses of the Santa Casa de ...  None   \n2              ./images/Iglesia de la Concepción.jpg  None   \n\n                         tags  date                         style  \n0  [#monument, #18ème siècle]  1725                     [Q840829]  \n1  [#monument, #17ème siècle]  1612  [Q131808, Q840829, Q1114972]  \n2  [#monument, #16ème siècle]  1511                      [Q37853]  ",
      "text/html": "<div>\n<style scoped>\n    .dataframe tbody tr th:only-of-type {\n        vertical-align: middle;\n    }\n\n    .dataframe tbody tr th {\n        vertical-align: top;\n    }\n\n    .dataframe thead th {\n        text-align: right;\n    }\n</style>\n<table border=\"1\" class=\"dataframe\">\n  <thead>\n    <tr style=\"text-align: right;\">\n      <th></th>\n      <th>label</th>\n      <th>link</th>\n      <th>entityID</th>\n      <th>format</th>\n      <th>path</th>\n      <th>size</th>\n      <th>tags</th>\n      <th>date</th>\n      <th>style</th>\n    </tr>\n  </thead>\n  <tbody>\n    <tr>\n      <th>0</th>\n      <td>Buenos Aires Cabildo</td>\n      <td>http://commons.wikimedia.org/wiki/Special:File...</td>\n      <td>Q1024829</td>\n      <td>jpg</td>\n      <td>./images/Buenos Aires Cabildo.jpg</td>\n      <td>None</td>\n      <td>[#monument, #18ème siècle]</td>\n      <td>1725</td>\n      <td>[Q840829]</td>\n    </tr>\n    <tr>\n      <th>1</th>\n      <td>Group of Houses of the Santa Casa de Misericórdia</td>\n      <td>http://commons.wikimedia.org/wiki/Special:File...</td>\n      <td>Q10300408</td>\n      <td>jpg</td>\n      <td>./images/Group of Houses of the Santa Casa de ...</td>\n      <td>None</td>\n      <td>[#monument, #17ème siècle]</td>\n      <td>1612</td>\n      <td>[Q131808, Q840829, Q1114972]</td>\n    </tr>\n    <tr>\n      <th>2</th>\n      <td>Iglesia de la Concepción</td>\n      <td>http://commons.wikimedia.org/wiki/Special:File...</td>\n      <td>Q1024943</td>\n      <td>jpg</td>\n      <td>./images/Iglesia de la Concepción.jpg</td>\n      <td>None</td>\n      <td>[#monument, #16ème siècle]</td>\n      <td>1511</td>\n      <td>[Q37853]</td>\n    </tr>\n  </tbody>\n</table>\n</div>"
     },
     "execution_count": 101,
     "metadata": {},
     "output_type": "execute_result"
    }
   ],
   "source": [
    "add_century_tag(dataframe)"
   ],
   "metadata": {
    "collapsed": false,
    "ExecuteTime": {
     "end_time": "2024-03-24T09:32:56.695197800Z",
     "start_time": "2024-03-24T09:32:56.629500900Z"
    }
   },
   "execution_count": 101
  },
  {
   "cell_type": "markdown",
   "source": [
    "### Test Ajout des tags country et style"
   ],
   "metadata": {
    "collapsed": false
   }
  },
  {
   "cell_type": "code",
   "outputs": [
    {
     "data": {
      "text/plain": "                                               label  \\\n0                               Buenos Aires Cabildo   \n1  Group of Houses of the Santa Casa de Misericórdia   \n2                           Iglesia de la Concepción   \n\n                                                link   entityID format  \\\n0  http://commons.wikimedia.org/wiki/Special:File...   Q1024829    jpg   \n1  http://commons.wikimedia.org/wiki/Special:File...  Q10300408    jpg   \n2  http://commons.wikimedia.org/wiki/Special:File...   Q1024943    jpg   \n\n                                                path  size  \\\n0                  ./images/Buenos Aires Cabildo.jpg  None   \n1  ./images/Group of Houses of the Santa Casa de ...  None   \n2              ./images/Iglesia de la Concepción.jpg  None   \n\n                                     tags  date                         style  \n0  [#monument, #18ème siècle, #Argentine]  1725                     [Q840829]  \n1     [#monument, #17ème siècle, #Brésil]  1612  [Q131808, Q840829, Q1114972]  \n2    [#monument, #16ème siècle, #Espagne]  1511                      [Q37853]  ",
      "text/html": "<div>\n<style scoped>\n    .dataframe tbody tr th:only-of-type {\n        vertical-align: middle;\n    }\n\n    .dataframe tbody tr th {\n        vertical-align: top;\n    }\n\n    .dataframe thead th {\n        text-align: right;\n    }\n</style>\n<table border=\"1\" class=\"dataframe\">\n  <thead>\n    <tr style=\"text-align: right;\">\n      <th></th>\n      <th>label</th>\n      <th>link</th>\n      <th>entityID</th>\n      <th>format</th>\n      <th>path</th>\n      <th>size</th>\n      <th>tags</th>\n      <th>date</th>\n      <th>style</th>\n    </tr>\n  </thead>\n  <tbody>\n    <tr>\n      <th>0</th>\n      <td>Buenos Aires Cabildo</td>\n      <td>http://commons.wikimedia.org/wiki/Special:File...</td>\n      <td>Q1024829</td>\n      <td>jpg</td>\n      <td>./images/Buenos Aires Cabildo.jpg</td>\n      <td>None</td>\n      <td>[#monument, #18ème siècle, #Argentine]</td>\n      <td>1725</td>\n      <td>[Q840829]</td>\n    </tr>\n    <tr>\n      <th>1</th>\n      <td>Group of Houses of the Santa Casa de Misericórdia</td>\n      <td>http://commons.wikimedia.org/wiki/Special:File...</td>\n      <td>Q10300408</td>\n      <td>jpg</td>\n      <td>./images/Group of Houses of the Santa Casa de ...</td>\n      <td>None</td>\n      <td>[#monument, #17ème siècle, #Brésil]</td>\n      <td>1612</td>\n      <td>[Q131808, Q840829, Q1114972]</td>\n    </tr>\n    <tr>\n      <th>2</th>\n      <td>Iglesia de la Concepción</td>\n      <td>http://commons.wikimedia.org/wiki/Special:File...</td>\n      <td>Q1024943</td>\n      <td>jpg</td>\n      <td>./images/Iglesia de la Concepción.jpg</td>\n      <td>None</td>\n      <td>[#monument, #16ème siècle, #Espagne]</td>\n      <td>1511</td>\n      <td>[Q37853]</td>\n    </tr>\n  </tbody>\n</table>\n</div>"
     },
     "execution_count": 102,
     "metadata": {},
     "output_type": "execute_result"
    }
   ],
   "source": [
    "AddCountryTags(dataframe)"
   ],
   "metadata": {
    "collapsed": false,
    "ExecuteTime": {
     "end_time": "2024-03-24T09:33:07.646644100Z",
     "start_time": "2024-03-24T09:33:03.925408300Z"
    }
   },
   "execution_count": 102
  },
  {
   "cell_type": "code",
   "outputs": [
    {
     "data": {
      "text/plain": "                                               label  \\\n0                               Buenos Aires Cabildo   \n1  Group of Houses of the Santa Casa de Misericórdia   \n2                           Iglesia de la Concepción   \n\n                                                link   entityID format  \\\n0  http://commons.wikimedia.org/wiki/Special:File...   Q1024829    jpg   \n1  http://commons.wikimedia.org/wiki/Special:File...  Q10300408    jpg   \n2  http://commons.wikimedia.org/wiki/Special:File...   Q1024943    jpg   \n\n                                                path  size  \\\n0                  ./images/Buenos Aires Cabildo.jpg  None   \n1  ./images/Group of Houses of the Santa Casa de ...  None   \n2              ./images/Iglesia de la Concepción.jpg  None   \n\n                                                tags  date  \\\n0  [#monument, #18ème siècle, #Argentine, #archit...  1725   \n1  [#monument, #17ème siècle, #Brésil, #maniérism...  1612   \n2     [#monument, #16ème siècle, #Espagne, #baroque]  1511   \n\n                          style  \n0                     [Q840829]  \n1  [Q131808, Q840829, Q1114972]  \n2                      [Q37853]  ",
      "text/html": "<div>\n<style scoped>\n    .dataframe tbody tr th:only-of-type {\n        vertical-align: middle;\n    }\n\n    .dataframe tbody tr th {\n        vertical-align: top;\n    }\n\n    .dataframe thead th {\n        text-align: right;\n    }\n</style>\n<table border=\"1\" class=\"dataframe\">\n  <thead>\n    <tr style=\"text-align: right;\">\n      <th></th>\n      <th>label</th>\n      <th>link</th>\n      <th>entityID</th>\n      <th>format</th>\n      <th>path</th>\n      <th>size</th>\n      <th>tags</th>\n      <th>date</th>\n      <th>style</th>\n    </tr>\n  </thead>\n  <tbody>\n    <tr>\n      <th>0</th>\n      <td>Buenos Aires Cabildo</td>\n      <td>http://commons.wikimedia.org/wiki/Special:File...</td>\n      <td>Q1024829</td>\n      <td>jpg</td>\n      <td>./images/Buenos Aires Cabildo.jpg</td>\n      <td>None</td>\n      <td>[#monument, #18ème siècle, #Argentine, #archit...</td>\n      <td>1725</td>\n      <td>[Q840829]</td>\n    </tr>\n    <tr>\n      <th>1</th>\n      <td>Group of Houses of the Santa Casa de Misericórdia</td>\n      <td>http://commons.wikimedia.org/wiki/Special:File...</td>\n      <td>Q10300408</td>\n      <td>jpg</td>\n      <td>./images/Group of Houses of the Santa Casa de ...</td>\n      <td>None</td>\n      <td>[#monument, #17ème siècle, #Brésil, #maniérism...</td>\n      <td>1612</td>\n      <td>[Q131808, Q840829, Q1114972]</td>\n    </tr>\n    <tr>\n      <th>2</th>\n      <td>Iglesia de la Concepción</td>\n      <td>http://commons.wikimedia.org/wiki/Special:File...</td>\n      <td>Q1024943</td>\n      <td>jpg</td>\n      <td>./images/Iglesia de la Concepción.jpg</td>\n      <td>None</td>\n      <td>[#monument, #16ème siècle, #Espagne, #baroque]</td>\n      <td>1511</td>\n      <td>[Q37853]</td>\n    </tr>\n  </tbody>\n</table>\n</div>"
     },
     "execution_count": 103,
     "metadata": {},
     "output_type": "execute_result"
    }
   ],
   "source": [
    "AddStyleTags(dataframe)"
   ],
   "metadata": {
    "collapsed": false,
    "ExecuteTime": {
     "end_time": "2024-03-24T09:33:16.373002300Z",
     "start_time": "2024-03-24T09:33:14.675795800Z"
    }
   },
   "execution_count": 103
  },
  {
   "cell_type": "markdown",
   "metadata": {},
   "source": [
    "## Analyse des Données"
   ]
  },
  {
   "cell_type": "code",
   "execution_count": null,
   "metadata": {
    "ExecuteTime": {
     "start_time": "2024-03-23T10:50:52.892979100Z"
    }
   },
   "outputs": [],
   "source": [
    "# Création de la dataframe des utilisateurs\n",
    "usersPath = 'users.json'\n",
    "\n",
    "array = [['default',[]]]\n",
    "usersDataframe = pandas.DataFrame(array, columns=['username', 'likedImages'])\n",
    "\n",
    "dataframeToJson(usersPath, usersDataframe)\n",
    "\n",
    "usersDataframe"
   ]
  }
 ],
 "metadata": {
  "kernelspec": {
   "display_name": "Python 3",
   "language": "python",
   "name": "python3"
  },
  "language_info": {
   "codemirror_mode": {
    "name": "ipython",
    "version": 3
   },
   "file_extension": ".py",
   "mimetype": "text/x-python",
   "name": "python",
   "nbconvert_exporter": "python",
   "pygments_lexer": "ipython3",
   "version": "3.11.4"
  }
 },
 "nbformat": 4,
 "nbformat_minor": 2
}
